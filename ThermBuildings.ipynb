{
 "cells": [
  {
   "cell_type": "code",
   "execution_count": 653,
   "metadata": {
    "scrolled": true
   },
   "outputs": [],
   "source": [
    "from matplotlib import pyplot as plt\n",
    "import numpy as np\n",
    "#from sympy import *\n",
    "#from sympy import MatrixSymbol, Matrix\n",
    "import math\n",
    "import cmath\n",
    "import pandas as pd"
   ]
  },
  {
   "cell_type": "markdown",
   "metadata": {},
   "source": [
    "# Database e input dati"
   ]
  },
  {
   "cell_type": "code",
   "execution_count": 654,
   "metadata": {
    "scrolled": true
   },
   "outputs": [],
   "source": [
    "# da interno a esterno\n",
    "\n",
    "# gli input sono le key: descrizione, strati, spessori, trasmittane, mu, \n",
    "#                        densità, caloreSpecifico\n",
    "# alla fine del calcolo saranno salvate key\n",
    "pareti = {\n",
    "     \"1a\" : {\n",
    "        \"descrizione\"     : \"Parete in muratura con isolante interno\",\n",
    "        \"strati\"          : [\"Intonaco\",\"Isolante RockDuo\",\"Laterizio Poroton\",\"Intonaco\"],\n",
    "        \"spessori\"        : np.array([0.015,0.14,0.2,0.015]),\n",
    "        \"trasmittanze\"    : np.array([0.6,0.035,0.23,0.9]),\n",
    "        \"mu\"              : np.array([6.,1.,10.,8.]),\n",
    "        \"densità\"         : np.array([1500.,1200.,860.,1800.]),\n",
    "        \"caloreSpecifico\" : np.array([1000.,1500.,840.,1000.])\n",
    "    },\n",
    "    \"1b\" : {\n",
    "        \"descrizione\"     : \"Parete in muratura con isolante esterno\",\n",
    "        \"strati\"          : [\"Intonaco\",\"Laterizio Poroton\",\"Isolante RockDuo\",\"Intonaco\"],\n",
    "        \"spessori\"        : np.array([0.015,0.2,0.14,0.015]),\n",
    "        \"trasmittanze\"    : np.array([0.6,0.23,0.035,0.9]),\n",
    "        \"mu\"              : np.array([6.,10.,1.,8.]),\n",
    "        \"densità\"         : np.array([1500.,860.,1200.,1800.]),\n",
    "        \"caloreSpecifico\" : np.array([1000.,840.,1500.,1000.])\n",
    "    },\n",
    "    \"3a\" : {\n",
    "        \"descrizione\"     : \"Perete in X-LAM con isolante bassa densità NOME\",\n",
    "        \"strati\"          : [\"Gessofibra\",\"X-LAM KLH\",\"Isolante bassa densità NOME\",\"Intonaco calce\"],\n",
    "        \"spessori\"        : np.array([0.013,0.096,0.12,0.015]),\n",
    "        \"trasmittanze\"    : np.array([0.21,0.13,0.038,0.9]),\n",
    "        \"mu\"              : np.array([5.,25.,1.,20.]),\n",
    "        \"densità\"         : np.array([1150.,500.,50.,1800.]),\n",
    "        \"caloreSpecifico\" : np.array([1100.,1600.,2100.,1000.])\n",
    "    },\n",
    "    \"3b\" : {\n",
    "        \"descrizione\"     : \"Perete in X-LAM con isolante bassa densità lana di roccia\",\n",
    "        \"strati\"          : [\"Gessofibra\",\"X-LAM KLH\",\"Isolante ventirockduo\",\"Intonaco calce\"],\n",
    "        \"spessori\"        : np.array([0.013,0.096,0.105,0.015]),\n",
    "        \"trasmittanze\"    : np.array([0.21,0.13,0.035,0.9]),\n",
    "        \"mu\"              : np.array([5.,25.,1.,20.]),\n",
    "        \"densità\"         : np.array([1150.,500.,70.,1800.]),\n",
    "        \"caloreSpecifico\" : np.array([1100.,1600.,1030.,1000.])\n",
    "    },\n",
    "    \"3c\" : {\n",
    "        \"descrizione\"     : \"Perete in X-LAM con isolante alta densità fibra di legno\",\n",
    "        \"strati\"          : [\"Gessofibra\",\"X-LAM KLH\",\"Isolante alta densità Naturalia Diffuterm\",\"Intonaco calce\"],\n",
    "        \"spessori\"        : np.array([0.013,0.096,0.13,0.015]),\n",
    "        \"trasmittanze\"    : np.array([0.21,0.13,0.043,0.9]),\n",
    "        \"mu\"              : np.array([5.,25.,5.,20.]),\n",
    "        \"densità\"         : np.array([1150.,500.,190.,1800.]),\n",
    "        \"caloreSpecifico\" : np.array([1100.,1600.,2100.,1000.])\n",
    "    }\n",
    "    \n",
    "      \n",
    "}"
   ]
  },
  {
   "cell_type": "code",
   "execution_count": 655,
   "metadata": {},
   "outputs": [],
   "source": [
    "#paretiOutput=pareti.copy()\n"
   ]
  },
  {
   "cell_type": "code",
   "execution_count": 767,
   "metadata": {
    "scrolled": true
   },
   "outputs": [
    {
     "name": "stdout",
     "output_type": "stream",
     "text": [
      "Perete in X-LAM con isolante alta densità fibra di legno\n",
      "Spessore totale =  0.254\n",
      "Dimensioni ok\n"
     ]
    }
   ],
   "source": [
    "# INPUT DATI:\n",
    "\n",
    "# Scegliere la parete\n",
    "parete = \"3c\" # eseguire da qui in giù altrimento il dizionario di output si resetta\n",
    "\n",
    "Ti=20.\n",
    "Te=-5.\n",
    "URi=0.65\n",
    "URe=0.9 #0.9 forse\n",
    "\n",
    "# in orizzontale:\n",
    "Rsi=0.130\n",
    "Rse=0.040\n",
    "\n",
    "# Tempo dinamica\n",
    "tempo = 24 # ore -> secondi=86400\n",
    "\n",
    "\n",
    "print(pareti[parete][\"descrizione\"])\n",
    "spessori = pareti[parete][\"spessori\"]\n",
    "trasmittanze = pareti[parete][\"trasmittanze\"]\n",
    "mu = pareti[parete][\"mu\"]\n",
    "densità = pareti[parete][\"densità\"]\n",
    "caloreSpecifico = pareti[parete][\"caloreSpecifico\"]\n",
    "\n",
    "spessoreTot = sum(spessori)\n",
    "print(\"Spessore totale = \",spessoreTot)\n",
    "\n",
    "if len(pareti[parete][\"strati\"])==len(spessori)==len(trasmittanze)==len(mu)==len(densità)==len(caloreSpecifico):\n",
    "    print(\"Dimensioni ok\")\n",
    "else:\n",
    "    print(\"Devono avere la stessa lunghezza!\")"
   ]
  },
  {
   "cell_type": "code",
   "execution_count": 768,
   "metadata": {
    "scrolled": true
   },
   "outputs": [
    {
     "name": "stdout",
     "output_type": "stream",
     "text": [
      "[0.065 2.4   0.65  0.3  ]\n",
      "3.4149999999999996\n",
      "[0.    0.065 2.465 3.115 3.415]\n"
     ]
    }
   ],
   "source": [
    "# Spessori equivalenti (metri)\n",
    "Sd = spessori * mu \n",
    "Sdtot = sum(Sd)\n",
    "SdCumSum = Sd.cumsum()\n",
    "SdCumSum = np.insert(SdCumSum,0,0.)\n",
    "print(Sd)\n",
    "print(Sdtot)\n",
    "print(SdCumSum)"
   ]
  },
  {
   "cell_type": "code",
   "execution_count": 769,
   "metadata": {
    "scrolled": true
   },
   "outputs": [
    {
     "name": "stdout",
     "output_type": "stream",
     "text": [
      "resistenze =  [0.13       0.06190476 0.73846154 3.02325581 0.01666667 0.04      ]\n",
      "resistemzeCumSum =  [0.13       0.19190476 0.9303663  3.95362211 3.97028878 4.01028878]\n",
      "Resistenza totale = 4.010288780986456\n",
      "Trasmittanza termica U =  0.2493586009918265\n"
     ]
    }
   ],
   "source": [
    "resistenze = spessori/trasmittanze\n",
    "# Aggiunge le resistenze superficiali al vettore resistenze e calcola la somma cumolata\n",
    "resistenze = np.insert(resistenze,0,Rsi)\n",
    "resistenze = np.append(resistenze,Rse)\n",
    "resistenze = np.array(resistenze)\n",
    "Rtot = sum(resistenze)\n",
    "resistenzeCumSum = resistenze.cumsum()\n",
    "\n",
    "print(\"resistenze = \",resistenze)\n",
    "print(\"resistemzeCumSum = \",resistenzeCumSum)\n",
    "print(\"Resistenza totale =\", Rtot)\n",
    "print(\"Trasmittanza termica U = \",1/Rtot)"
   ]
  },
  {
   "cell_type": "code",
   "execution_count": 770,
   "metadata": {
    "scrolled": true
   },
   "outputs": [
    {
     "name": "stdout",
     "output_type": "stream",
     "text": [
      "Temperature superficiali =  [20.         19.18958455 18.80367243 14.20012902 -4.64674198 -4.7506414\n",
      " -5.        ]\n"
     ]
    }
   ],
   "source": [
    "# Calcola le temperature superficiali i-esimme\n",
    "\n",
    "deltaT = Ti-Te\n",
    "temperature = np.array([])\n",
    "\n",
    "for i in range(0,len(resistenze)):\n",
    "    T = Ti-((resistenzeCumSum[i]*deltaT)/Rtot)\n",
    "    temperature = np.append(temperature,T)\n",
    "\n",
    "# Ritorna alla dimensione inziale aggiungendo la Ti all'inizio. L'ultima è già la Te    \n",
    "temperature = np.insert(temperature,0,Ti)\n",
    "\n",
    "print(\"Temperature superficiali = \",temperature)     "
   ]
  },
  {
   "cell_type": "code",
   "execution_count": 771,
   "metadata": {},
   "outputs": [
    {
     "name": "stdout",
     "output_type": "stream",
     "text": [
      "pressioni saturazione =  [2336.9511438  2222.25966223 2169.39745901 1618.59809229  413.47839257\n",
      "  409.82636569  401.18098135]\n"
     ]
    }
   ],
   "source": [
    "# Pressione di saturazione per ogni temperatura i-esima\n",
    "\n",
    "pressioniSaturazione = np.array([])\n",
    "\n",
    "for temp in temperature:\n",
    "    if temp >= 0:\n",
    "        press = 610.5*np.exp(17.269*temp/(237.3+temp))\n",
    "    else:\n",
    "        press = 610.5*np.exp(21.875*temp/(265.5+temp))\n",
    "        \n",
    "    pressioniSaturazione = np.append(pressioniSaturazione,press)   \n",
    "    \n",
    "print(\"pressioni saturazione = \",pressioniSaturazione)     "
   ]
  },
  {
   "cell_type": "code",
   "execution_count": 772,
   "metadata": {
    "scrolled": true
   },
   "outputs": [
    {
     "name": "stdout",
     "output_type": "stream",
     "text": [
      "Pi =  1519.0182434715223\n",
      "Pe =  361.06288321648987\n",
      "Pressioni interne =  [1519.01824347 1496.97809752  683.18809324  462.78663375  361.06288322]\n"
     ]
    }
   ],
   "source": [
    "Pi = URi * pressioniSaturazione[0]\n",
    "Pe = URe * pressioniSaturazione[-1]\n",
    "deltaP = Pi - Pe\n",
    "pressioni = np.array([])\n",
    "for p in range(1,len(temperature)-2): #valori interni a T perché conosciamo già gli estremi\n",
    "    P=Pi-((SdCumSum[p]*deltaP)/Sdtot)\n",
    "    pressioni = np.append(pressioni,P)\n",
    "\n",
    "# Ritorna alla dimensione inziale aggiungendo la Pi all'inizio. L'ultima è già la Pe    \n",
    "pressioni = np.insert(pressioni,0,Pi)\n",
    "\n",
    "print(\"Pi = \", Pi)\n",
    "print(\"Pe = \", Pe)\n",
    "print(\"Pressioni interne = \", pressioni)"
   ]
  },
  {
   "cell_type": "code",
   "execution_count": 773,
   "metadata": {
    "scrolled": true
   },
   "outputs": [
    {
     "name": "stdout",
     "output_type": "stream",
     "text": [
      "spessoriCumSum =  [0.    0.013 0.109 0.239 0.254]\n"
     ]
    }
   ],
   "source": [
    "spessoriCumSum = spessori.cumsum()\n",
    "spessoriCumSum = np.insert(spessoriCumSum,0,0.) \n",
    "print(\"spessoriCumSum = \", spessoriCumSum)"
   ]
  },
  {
   "cell_type": "code",
   "execution_count": 774,
   "metadata": {},
   "outputs": [],
   "source": [
    "#plt.style.available"
   ]
  },
  {
   "cell_type": "code",
   "execution_count": 775,
   "metadata": {},
   "outputs": [
    {
     "data": {
      "image/png": "[encoded data removed]",
      "text/plain": [
       "<Figure size 1296x720 with 2 Axes>"
      ]
     },
     "metadata": {
      "needs_background": "light"
     },
     "output_type": "display_data"
    }
   ],
   "source": [
    "#plt.style.use('fast')\n",
    "\n",
    "plt.figure(figsize=(18,10))\n",
    "\n",
    "\n",
    "plt.subplot(2, 1, 1)\n",
    "plt.plot(spessoriCumSum,temperature[1:-1],label=\"Temperatura\",color='green')\n",
    "plt.ticklabel_format(style='sci')\n",
    "plt.legend(loc=\"best\",fontsize=16)\n",
    "plt.xlabel(\"Spessore parete (m)\",fontsize=16)  \n",
    "plt.ylabel(\"Temperature (°C)\",fontsize=16)\n",
    "plt.grid(axis='x',linewidth=2)\n",
    "plt.xticks(spessoriCumSum, rotation=90, fontsize=14)\n",
    "#plt.yticks(temperature,fontsize=12) #i due vettori affiancati\n",
    "plt.yticks(fontsize=14)\n",
    "\n",
    "plt.subplot(2,1,2)\n",
    "plt.plot(SdCumSum,pressioni,label=\"Pressione\",color='orange')\n",
    "plt.plot(SdCumSum,pressioniSaturazione[1:-1], label=\"Pressione Saturazione\",color='red')\n",
    "#plt.plot(SdCumSum,100*temperature[1:-1],label=\"temperature\",color='green')\n",
    "plt.ticklabel_format(style='sci')\n",
    "plt.legend(loc=\"best\",fontsize=16)\n",
    "plt.xlabel(\"Spessore equivalente Sd (m)\",fontsize=16)  \n",
    "plt.ylabel(\"Pressione (Pa)\",fontsize=16)\n",
    "plt.grid(axis='x',linewidth=2)\n",
    "plt.xticks(SdCumSum,fontsize=14,rotation=90,color='black')\n",
    "#plt.yticks(np.hstack((pressioni,pressioniSaturazione)),fontsize=14) #i due vettori affiancati\n",
    "plt.yticks(fontsize=14)\n",
    "\n",
    "import tikzplotlib\n",
    "# modificare a mano:\n",
    "# \\begin{groupplot}[group style={group size=1 by 2,vertical sep=2.5cm}]\n",
    "tikzplotlib.save(\"temperatura+pressione--parete-\"+parete+\".tex\",\n",
    "                 axis_width='\\\\linewidth',\n",
    "                 axis_height='7cm',\n",
    "                 strict=True,\n",
    "                 extra_axis_parameters={'\\t ticklabel style={ \\n \\t\\t /pgf/number format/fixed, \\n \\t\\t /pgf/number format/precision=5\\n\\t\\t}, \\nscaled ticks=false'}\n",
    "                )"
   ]
  },
  {
   "cell_type": "code",
   "execution_count": 776,
   "metadata": {
    "scrolled": true
   },
   "outputs": [
    {
     "data": {
      "image/png": "[encoded data removed]",
      "text/plain": [
       "<Figure size 1296x504 with 1 Axes>"
      ]
     },
     "metadata": {
      "needs_background": "light"
     },
     "output_type": "display_data"
    }
   ],
   "source": [
    "#plt.style.use('fast')\n",
    "\n",
    "plt.figure(figsize=(18,7))\n",
    "plt.plot(spessoriCumSum,temperature[1:-1],label=\"temperature\",color='green')\n",
    "plt.legend(loc=\"best\",fontsize=16)\n",
    "plt.xlabel(\"Spessore parete (m)\",fontsize=16)  \n",
    "plt.ylabel(\"Temperature (°C)\",fontsize=16)\n",
    "plt.grid(axis='x',linewidth=2)\n",
    "plt.xticks(spessoriCumSum, rotation=90, fontsize=14)\n",
    "#plt.yticks(temperature,fontsize=12) #i due vettori affiancati\n",
    "plt.yticks(fontsize=14)\n",
    "\n",
    "\n",
    "import tikzplotlib\n",
    "\n"
   ]
  },
  {
   "cell_type": "code",
   "execution_count": 777,
   "metadata": {},
   "outputs": [
    {
     "data": {
      "text/plain": [
       "(array([ 250.,  500.,  750., 1000., 1250., 1500., 1750., 2000., 2250.,\n",
       "        2500.]),\n",
       " [Text(0, 0, ''),\n",
       "  Text(0, 0, ''),\n",
       "  Text(0, 0, ''),\n",
       "  Text(0, 0, ''),\n",
       "  Text(0, 0, ''),\n",
       "  Text(0, 0, ''),\n",
       "  Text(0, 0, ''),\n",
       "  Text(0, 0, ''),\n",
       "  Text(0, 0, ''),\n",
       "  Text(0, 0, '')])"
      ]
     },
     "execution_count": 777,
     "metadata": {},
     "output_type": "execute_result"
    },
    {
     "data": {
      "image/png": "[encoded data removed]",
      "text/plain": [
       "<Figure size 1296x504 with 1 Axes>"
      ]
     },
     "metadata": {
      "needs_background": "light"
     },
     "output_type": "display_data"
    }
   ],
   "source": [
    "plt.figure(figsize=(18,7))\n",
    "\n",
    "plt.plot(SdCumSum,pressioni,label=\"Pressione\",color='orange')\n",
    "plt.plot(SdCumSum,pressioniSaturazione[1:-1], label=\"Pressione Saturazione\",color='red')\n",
    "#plt.plot(SdCumSum,100*temperature[1:-1],label=\"temperature\",color='green')\n",
    "plt.ticklabel_format(style='sci')\n",
    "plt.legend(loc=\"best\",fontsize=16)\n",
    "plt.xlabel(\"Spessore equivalente Sd (m)\",fontsize=16)  \n",
    "plt.ylabel(\"Pressione (Pa)\",fontsize=16)\n",
    "plt.grid(axis='x',linewidth=2)\n",
    "plt.xticks(SdCumSum,fontsize=14,rotation=90,color='black')\n",
    "#plt.yticks(np.hstack((pressioni,pressioniSaturazione)),fontsize=14) #i due vettori affiancati\n",
    "plt.yticks(fontsize=14)\n",
    "\n",
    "\n",
    "\n"
   ]
  },
  {
   "cell_type": "code",
   "execution_count": 778,
   "metadata": {
    "scrolled": true
   },
   "outputs": [
    {
     "data": {
      "text/plain": [
       "array([1519.01824347, 1496.97809752,  683.18809324,  462.78663375,\n",
       "        361.06288322, 2336.9511438 , 2222.25966223, 2169.39745901,\n",
       "       1618.59809229,  413.47839257,  409.82636569,  401.18098135])"
      ]
     },
     "execution_count": 778,
     "metadata": {},
     "output_type": "execute_result"
    }
   ],
   "source": [
    "np.hstack((pressioni,pressioniSaturazione))"
   ]
  },
  {
   "cell_type": "code",
   "execution_count": 779,
   "metadata": {
    "scrolled": true
   },
   "outputs": [
    {
     "name": "stdout",
     "output_type": "stream",
     "text": [
      "Profondità penetrazione (delta) =  [0.06756882 0.06685111 0.05444145 0.1172646 ]\n",
      "xi =  [0.19239644 1.43602703 2.38788626 0.12791584]\n",
      "zz =  [array([[ 0.99977163+3.70158267e-02j, -0.06190193-7.63825292e-04j],\n",
      "       [ 0.01475605-1.19585953e+00j,  0.99977163+3.70158267e-02j]]), array([[ 0.29840601+1.96506319j, -0.63437138-0.49735475j],\n",
      "       [ 3.76154045-4.79780999j,  0.29840601+1.96506319j]]), array([[-4.00390321+3.6949984j ,  0.11338502-4.87110912j],\n",
      "       [ 6.0776451 +0.14146961j, -4.00390321+3.6949984j ]]), array([[ 0.99995538+1.63624131e-02j, -0.01666652-9.09024493e-05j],\n",
      "       [ 0.01070919-1.96347789e+00j,  0.99995538+1.63624131e-02j]])]\n",
      "Z = [[-31.25419731 -45.05282189j  16.15391533  +1.02622969j]\n",
      " [-96.26036559+122.1967833j  -10.64130924 -44.65800934j]]\n"
     ]
    }
   ],
   "source": [
    "profonditàPenetrazione = np.sqrt((trasmittanze*tempo*3600)/(  math.pi*densità * caloreSpecifico))\n",
    "xi = spessori/profonditàPenetrazione\n",
    "print(\"Profondità penetrazione (delta) = \",profonditàPenetrazione)\n",
    "print(\"xi = \",xi)\n",
    "\n",
    "# Calcola le matrice di trasferimento di ogni strato e le inserisce in una lista, \n",
    "# per poi moltiplicarle tra di loro in Z\n",
    "\n",
    "zz = [] # zz : lista di matrici z\n",
    "for i in range(0,len(xi)):\n",
    "    # z : matrice per ogni strato\n",
    "    z = np.zeros((2,2),dtype=np.complex128) # matrice complex float\n",
    "    z[0][0] = complex(  (np.cosh(xi[i])*np.cos(xi[i])) , (np.sinh(xi[i])*np.sin(xi[i]))  )\n",
    "    z[1][1] = z[0][0] \n",
    "    z[0][1] = -(profonditàPenetrazione[i]/(2*trasmittanze[i])) * complex(  (np.sinh(xi[i])*np.cos(xi[i]) + np.cosh(xi[i])*np.sin(xi[i])) , (np.cosh(xi[i])*np.sin(xi[i]) - np.sinh(xi[i])*np.cos(xi[i]))  )\n",
    "    z[1][0] = -(trasmittanze[i]/( profonditàPenetrazione[i]))  * complex(  (np.sinh(xi[i])*np.cos(xi[i]) - np.cosh(xi[i])*np.sin(xi[i])) , (np.sinh(xi[i])*np.cos(xi[i]) + np.cosh(xi[i])*np.sin(xi[i]))  )\n",
    "    # aggiunge alla lista zz\n",
    "    zz.append(z)\n",
    "print(\"zz = \",zz)\n",
    "\n",
    "# Z: matrice di trasferimento totale  del componente edilizio = Z_N * Z_n-1 * ... * Z_1   \n",
    "Z = np.zeros((2,2),dtype=np.complex128)\n",
    "Z = zz[-1] #Z_N\n",
    "for i in range(1,len(zz)): # [1  2 ... N  N+1)\n",
    "    Z = Z.dot(zz[-1-i]) # prodotto scalare\n",
    "print(\"Z =\",Z)   "
   ]
  },
  {
   "cell_type": "code",
   "execution_count": 780,
   "metadata": {
    "scrolled": true
   },
   "outputs": [
    {
     "name": "stdout",
     "output_type": "stream",
     "text": [
      "Zsi =  [[ 1.  +0.j -0.13+0.j]\n",
      " [ 0.  +0.j  1.  +0.j]]\n",
      "Zse =  [[ 1.  +0.j -0.04+0.j]\n",
      " [ 0.  +0.j  1.  +0.j]]\n",
      "Zee =  [[-27.40378269 -49.94069322j  20.14205945  +9.30484018j]\n",
      " [-96.26036559+122.1967833j    1.87253829 -60.54359117j]]\n"
     ]
    }
   ],
   "source": [
    "# Strato d'aria interno \n",
    "Zsi = np.zeros((2,2),dtype=np.complex128)\n",
    "Zsi[0][0] = complex(1,0)\n",
    "Zsi[1][1] = complex(1,0)\n",
    "Zsi[0][1] = complex(-Rsi)\n",
    "Zsi[1][0] = complex(0,0)\n",
    "print(\"Zsi = \",Zsi)\n",
    "\n",
    "# Strato d'aria esterno\n",
    "Zse = np.zeros((2,2),dtype=np.complex128)\n",
    "Zse[0][0] = complex(1,0)\n",
    "Zse[1][1] = complex(1,0)\n",
    "Zse[0][1] = complex(-Rse)\n",
    "Zse[1][0] = complex(0,0)\n",
    "print(\"Zse = \",Zse)\n",
    "\n",
    "# Zee: matrice di trasferimento da ambiente ad ambiente \n",
    "Zee = Zse.dot(Z)\n",
    "Zee = Zee.dot(Zsi)\n",
    "print(\"Zee = \",Zee)"
   ]
  },
  {
   "cell_type": "code",
   "execution_count": 781,
   "metadata": {
    "scrolled": true
   },
   "outputs": [
    {
     "name": "stdout",
     "output_type": "stream",
     "text": [
      "Y12 =  0.04507053911675081 (trasmittanza termica periodica)\n",
      "fd =  -0.180745877372917 (attenuazione)\n",
      "phase =  1.6530054745664458\n",
      "sfasamento =  13.653005474566445 [ore]\n",
      "Y11 =  2.5674547014793765 (ammettenza termica interna Yii)\n",
      "Y22 =  2.7300371186882746 (ammettenza termica esterna Yee)\n"
     ]
    }
   ],
   "source": [
    "Y12 = -1/Zee[0][1]\n",
    "Y12 = np.sqrt((Y12.real)**2 + (Y12.imag)**2) # il modulo\n",
    "print(\"Y12 = \", Y12, \"(trasmittanza termica periodica)\")\n",
    "\n",
    "#f = -np.sqrt((Y12.real)**2 + (Y12.imag)**2)/(1/Rtot)\n",
    "fd = -Y12/(1/Rtot)\n",
    "print(\"fd = \", fd, \"(attenuazione)\")\n",
    "\n",
    "phase = (math.atan2(Zee[0][1].imag,Zee[0][1].real))*tempo/(2*math.pi) # tempo in ore\n",
    "sfasamento = phase+tempo/2 # tempo in ore\n",
    "print(\"phase = \", phase)\n",
    "print(\"sfasamento = \", sfasamento, \"[ore]\")\n",
    "\n",
    "Y11 = -Zee[0][0]/Zee[0][1]\n",
    "Y11 = np.sqrt((Y11.real)**2 + (Y11.imag)**2) # il modulo\n",
    "print(\"Y11 = \", Y11, \"(ammettenza termica interna Yii)\")\n",
    "\n",
    "Y22 = -Zee[1][1]/Zee[0][1]\n",
    "Y22 = np.sqrt((Y22.real)**2 + (Y22.imag)**2) # il modulo\n",
    "print(\"Y22 = \", Y22, \"(ammettenza termica esterna Yee)\")"
   ]
  },
  {
   "cell_type": "code",
   "execution_count": 782,
   "metadata": {},
   "outputs": [
    {
     "data": {
      "text/plain": [
       "0.6450951745705242"
      ]
     },
     "execution_count": 782,
     "metadata": {},
     "output_type": "execute_result"
    }
   ],
   "source": [
    "1-Rsi*Y22"
   ]
  },
  {
   "cell_type": "code",
   "execution_count": 783,
   "metadata": {},
   "outputs": [
    {
     "name": "stdout",
     "output_type": "stream",
     "text": [
      "Massa superficiale =  114.65\n",
      "Capacità termica areica =  [16445. 76800. 51870. 27000.] \n",
      "Totale =  172115.0\n"
     ]
    }
   ],
   "source": [
    "massaSuperficiale = spessori*densità\n",
    "massaSuperficialeTot = sum(massaSuperficiale)\n",
    "print(\"Massa superficiale = \", massaSuperficialeTot)\n",
    "\n",
    "capacitàTermicaAreica = spessori*densità*caloreSpecifico\n",
    "capacitàTermicaAreicaTot = sum(capacitàTermicaAreica)\n",
    "print(\"Capacità termica areica = \", capacitàTermicaAreica, \"\\nTotale = \", capacitàTermicaAreicaTot )"
   ]
  },
  {
   "cell_type": "code",
   "execution_count": 784,
   "metadata": {
    "scrolled": true
   },
   "outputs": [
    {
     "data": {
      "text/plain": [
       "{'descrizione': 'Perete in X-LAM con isolante alta densità fibra di legno',\n",
       " 'strati': ['Gessofibra',\n",
       "  'X-LAM KLH',\n",
       "  'Isolante alta densità Naturalia Diffuterm',\n",
       "  'Intonaco calce'],\n",
       " 'spessori': array([0.013, 0.096, 0.13 , 0.015]),\n",
       " 'trasmittanze': array([0.21 , 0.13 , 0.043, 0.9  ]),\n",
       " 'mu': array([ 5., 25.,  5., 20.]),\n",
       " 'densità': array([1150.,  500.,  190., 1800.]),\n",
       " 'caloreSpecifico': array([1100., 1600., 2100., 1000.]),\n",
       " 'Sd': array([0.065, 2.4  , 0.65 , 0.3  ]),\n",
       " 'spessoreTot': 0.254,\n",
       " 'resistenze': array([0.13      , 0.06190476, 0.73846154, 3.02325581, 0.01666667,\n",
       "        0.04      ]),\n",
       " 'resistenzeTot': 4.010288780986456,\n",
       " 'temperature': array([20.        , 19.18958455, 18.80367243, 14.20012902, -4.64674198,\n",
       "        -4.7506414 , -5.        ]),\n",
       " 'pressioniSaturazione': array([2336.9511438 , 2222.25966223, 2169.39745901, 1618.59809229,\n",
       "         413.47839257,  409.82636569,  401.18098135]),\n",
       " 'pressioni': array([1519.01824347, 1496.97809752,  683.18809324,  462.78663375,\n",
       "         361.06288322]),\n",
       " 'profonditàPenetrazione': array([0.06756882, 0.06685111, 0.05444145, 0.1172646 ]),\n",
       " 'xi': array([0.19239644, 1.43602703, 2.38788626, 0.12791584]),\n",
       " 'attenuazione': -0.180745877372917,\n",
       " 'sfasamento': 13.653005474566445,\n",
       " 'trasmittanzaTermicaPeriodica': 0.04507053911675081,\n",
       " 'ammettanzaInterna': 2.5674547014793765,\n",
       " 'ammettanzaEsterna': 2.7300371186882746,\n",
       " 'capacitàTermicaAreica': array([16445., 76800., 51870., 27000.]),\n",
       " 'massaSuperficiale': array([14.95, 48.  , 24.7 , 27.  ]),\n",
       " 'massaSuperficialeTot': 114.65,\n",
       " 'capacitàTermicaAreicaTot': 172115.0}"
      ]
     },
     "execution_count": 784,
     "metadata": {},
     "output_type": "execute_result"
    }
   ],
   "source": [
    "# Salvataggio output su un nuovo dizionario\n",
    "#paretiOutput=pareti.copy()\n",
    "\n",
    "paretiOutput[parete][\"Sd\"]=Sd\n",
    "paretiOutput[parete][\"spessoreTot\"]=spessoreTot\n",
    "paretiOutput[parete][\"resistenze\"]=resistenze\n",
    "paretiOutput[parete][\"resistenzeTot\"]=Rtot\n",
    "paretiOutput[parete][\"temperature\"]=temperature\n",
    "paretiOutput[parete][\"pressioniSaturazione\"]=pressioniSaturazione\n",
    "paretiOutput[parete][\"pressioni\"]=pressioni\n",
    "paretiOutput[parete][\"profonditàPenetrazione\"]=profonditàPenetrazione\n",
    "paretiOutput[parete][\"xi\"]=xi\n",
    "paretiOutput[parete][\"attenuazione\"]=fd\n",
    "paretiOutput[parete][\"sfasamento\"]=sfasamento\n",
    "paretiOutput[parete][\"trasmittanzaTermicaPeriodica\"]=Y12\n",
    "paretiOutput[parete][\"ammettanzaInterna\"]=Y11\n",
    "paretiOutput[parete][\"ammettanzaEsterna\"]=Y22\n",
    "paretiOutput[parete][\"capacitàTermicaAreica\"]=capacitàTermicaAreica\n",
    "paretiOutput[parete][\"massaSuperficiale\"]=massaSuperficiale\n",
    "paretiOutput[parete][\"massaSuperficialeTot\"]=massaSuperficialeTot\n",
    "paretiOutput[parete][\"capacitàTermicaAreicaTot\"]=capacitàTermicaAreicaTot\n",
    "\n",
    "\n",
    "paretiOutput[parete]"
   ]
  },
  {
   "cell_type": "code",
   "execution_count": 785,
   "metadata": {
    "scrolled": true
   },
   "outputs": [
    {
     "name": "stdout",
     "output_type": "stream",
     "text": [
      "Sfasamento:\n",
      "parete 1a  :  6.480885268642209\n",
      "parete 1b  :  6.5519344543111275\n",
      "parete 3a  :  9.207990430094306\n",
      "parete 3b  :  8.338454460124943\n",
      "parete 3c  :  13.653005474566445\n",
      "Attenuazione:\n",
      "parete 1a  :  -0.0048818146213937\n",
      "parete 1b  :  -0.004502461450560935\n",
      "parete 3a  :  -0.34205971533349355\n",
      "parete 3b  :  -0.3683648964451135\n",
      "parete 3c  :  -0.180745877372917\n"
     ]
    }
   ],
   "source": [
    "print(\"Sfasamento:\") \n",
    "for key in pareti.keys():\n",
    "    if \"sfasamento\" in pareti[key].keys():\n",
    "        print(\"parete\" ,key,\" : \",pareti[key][\"sfasamento\"])\n",
    "\n",
    "print(\"Attenuazione:\")        \n",
    "for key in pareti.keys():\n",
    "    if \"attenuazione\" in pareti[key].keys():\n",
    "        print(\"parete\" ,key,\" : \",pareti[key][\"attenuazione\"])        "
   ]
  },
  {
   "cell_type": "code",
   "execution_count": 786,
   "metadata": {},
   "outputs": [
    {
     "data": {
      "text/html": [
       "<div>\n",
       "<style scoped>\n",
       "    .dataframe tbody tr th:only-of-type {\n",
       "        vertical-align: middle;\n",
       "    }\n",
       "\n",
       "    .dataframe tbody tr th {\n",
       "        vertical-align: top;\n",
       "    }\n",
       "\n",
       "    .dataframe thead th {\n",
       "        text-align: right;\n",
       "    }\n",
       "</style>\n",
       "<table border=\"1\" class=\"dataframe\">\n",
       "  <thead>\n",
       "    <tr style=\"text-align: right;\">\n",
       "      <th></th>\n",
       "      <th>strati</th>\n",
       "      <th>spessori</th>\n",
       "      <th>trasmittanze</th>\n",
       "      <th>mu</th>\n",
       "    </tr>\n",
       "  </thead>\n",
       "  <tbody>\n",
       "    <tr>\n",
       "      <th>0</th>\n",
       "      <td>Gessofibra</td>\n",
       "      <td>0.013</td>\n",
       "      <td>0.210</td>\n",
       "      <td>5.0</td>\n",
       "    </tr>\n",
       "    <tr>\n",
       "      <th>1</th>\n",
       "      <td>X-LAM KLH</td>\n",
       "      <td>0.096</td>\n",
       "      <td>0.130</td>\n",
       "      <td>25.0</td>\n",
       "    </tr>\n",
       "    <tr>\n",
       "      <th>2</th>\n",
       "      <td>Isolante alta densità Naturalia Diffuterm</td>\n",
       "      <td>0.130</td>\n",
       "      <td>0.043</td>\n",
       "      <td>5.0</td>\n",
       "    </tr>\n",
       "    <tr>\n",
       "      <th>3</th>\n",
       "      <td>Intonaco calce</td>\n",
       "      <td>0.015</td>\n",
       "      <td>0.900</td>\n",
       "      <td>20.0</td>\n",
       "    </tr>\n",
       "  </tbody>\n",
       "</table>\n",
       "</div>"
      ],
      "text/plain": [
       "                                      strati  spessori  trasmittanze    mu\n",
       "0                                 Gessofibra     0.013         0.210   5.0\n",
       "1                                  X-LAM KLH     0.096         0.130  25.0\n",
       "2  Isolante alta densità Naturalia Diffuterm     0.130         0.043   5.0\n",
       "3                             Intonaco calce     0.015         0.900  20.0"
      ]
     },
     "execution_count": 786,
     "metadata": {},
     "output_type": "execute_result"
    }
   ],
   "source": [
    "col = ['strati','spessori','trasmittanze','mu']#colonne da tenere\n",
    "df = pd.DataFrame(pareti[parete],columns=col) \n",
    "\n",
    "with open('tabella-input-'+parete+'.tex','w') as f:\n",
    "    f.write(\n",
    "            df.to_latex(\n",
    "            index=False,\n",
    "            decimal=\",\",\n",
    "            caption=pareti[parete][\"descrizione\"],\n",
    "            column_format=\"lrrr\",\n",
    "            header=[\"Strati\",\"Spessori\",\"Trasmitttanza\", \"mu\"],\n",
    "            )\n",
    "        )\n",
    "    f.close()\n",
    "df   "
   ]
  },
  {
   "cell_type": "code",
   "execution_count": 787,
   "metadata": {},
   "outputs": [
    {
     "data": {
      "text/html": [
       "<div>\n",
       "<style scoped>\n",
       "    .dataframe tbody tr th:only-of-type {\n",
       "        vertical-align: middle;\n",
       "    }\n",
       "\n",
       "    .dataframe tbody tr th {\n",
       "        vertical-align: top;\n",
       "    }\n",
       "\n",
       "    .dataframe thead th {\n",
       "        text-align: right;\n",
       "    }\n",
       "</style>\n",
       "<table border=\"1\" class=\"dataframe\">\n",
       "  <thead>\n",
       "    <tr style=\"text-align: right;\">\n",
       "      <th></th>\n",
       "      <th>1a</th>\n",
       "      <th>1b</th>\n",
       "      <th>3a</th>\n",
       "      <th>3b</th>\n",
       "      <th>3c</th>\n",
       "    </tr>\n",
       "  </thead>\n",
       "  <tbody>\n",
       "    <tr>\n",
       "      <th>descrizione</th>\n",
       "      <td>Parete in muratura con isolante interno</td>\n",
       "      <td>Parete in muratura con isolante esterno</td>\n",
       "      <td>Perete in X-LAM con isolante bassa densità NOME</td>\n",
       "      <td>Perete in X-LAM con isolante bassa densità lan...</td>\n",
       "      <td>Perete in X-LAM con isolante alta densità fibr...</td>\n",
       "    </tr>\n",
       "    <tr>\n",
       "      <th>strati</th>\n",
       "      <td>[Intonaco, Isolante RockDuo, Laterizio Poroton...</td>\n",
       "      <td>[Intonaco, Laterizio Poroton, Isolante RockDuo...</td>\n",
       "      <td>[Gessofibra, X-LAM KLH, Isolante bassa densità...</td>\n",
       "      <td>[Gessofibra, X-LAM KLH, Isolante ventirockduo,...</td>\n",
       "      <td>[Gessofibra, X-LAM KLH, Isolante alta densità ...</td>\n",
       "    </tr>\n",
       "    <tr>\n",
       "      <th>spessori</th>\n",
       "      <td>[0.015, 0.14, 0.2, 0.015]</td>\n",
       "      <td>[0.015, 0.2, 0.14, 0.015]</td>\n",
       "      <td>[0.013, 0.096, 0.12, 0.015]</td>\n",
       "      <td>[0.013, 0.096, 0.105, 0.015]</td>\n",
       "      <td>[0.013, 0.096, 0.13, 0.015]</td>\n",
       "    </tr>\n",
       "    <tr>\n",
       "      <th>trasmittanze</th>\n",
       "      <td>[0.6, 0.035, 0.23, 0.9]</td>\n",
       "      <td>[0.6, 0.23, 0.035, 0.9]</td>\n",
       "      <td>[0.21, 0.13, 0.038, 0.9]</td>\n",
       "      <td>[0.21, 0.13, 0.035, 0.9]</td>\n",
       "      <td>[0.21, 0.13, 0.043, 0.9]</td>\n",
       "    </tr>\n",
       "    <tr>\n",
       "      <th>mu</th>\n",
       "      <td>[6.0, 1.0, 10.0, 8.0]</td>\n",
       "      <td>[6.0, 10.0, 1.0, 8.0]</td>\n",
       "      <td>[5.0, 25.0, 1.0, 20.0]</td>\n",
       "      <td>[5.0, 25.0, 1.0, 20.0]</td>\n",
       "      <td>[5.0, 25.0, 5.0, 20.0]</td>\n",
       "    </tr>\n",
       "    <tr>\n",
       "      <th>densità</th>\n",
       "      <td>[1500.0, 1200.0, 860.0, 1800.0]</td>\n",
       "      <td>[1500.0, 860.0, 1200.0, 1800.0]</td>\n",
       "      <td>[1150.0, 500.0, 50.0, 1800.0]</td>\n",
       "      <td>[1150.0, 500.0, 70.0, 1800.0]</td>\n",
       "      <td>[1150.0, 500.0, 190.0, 1800.0]</td>\n",
       "    </tr>\n",
       "    <tr>\n",
       "      <th>caloreSpecifico</th>\n",
       "      <td>[1000.0, 1500.0, 840.0, 1000.0]</td>\n",
       "      <td>[1000.0, 840.0, 1500.0, 1000.0]</td>\n",
       "      <td>[1100.0, 1600.0, 2100.0, 1000.0]</td>\n",
       "      <td>[1100.0, 1600.0, 1030.0, 1000.0]</td>\n",
       "      <td>[1100.0, 1600.0, 2100.0, 1000.0]</td>\n",
       "    </tr>\n",
       "    <tr>\n",
       "      <th>Sd</th>\n",
       "      <td>[0.09, 0.14, 2.0, 0.12]</td>\n",
       "      <td>[0.09, 2.0, 0.14, 0.12]</td>\n",
       "      <td>[0.065, 2.4, 0.12, 0.3]</td>\n",
       "      <td>[0.065, 2.4, 0.105, 0.3]</td>\n",
       "      <td>[0.065, 2.4, 0.65, 0.3]</td>\n",
       "    </tr>\n",
       "    <tr>\n",
       "      <th>spessoreTot</th>\n",
       "      <td>0.37</td>\n",
       "      <td>0.37</td>\n",
       "      <td>0.244</td>\n",
       "      <td>0.229</td>\n",
       "      <td>0.254</td>\n",
       "    </tr>\n",
       "    <tr>\n",
       "      <th>resistenze</th>\n",
       "      <td>[0.13, 0.025, 4.0, 0.8695652173913043, 0.01666...</td>\n",
       "      <td>[0.13, 0.025, 0.8695652173913043, 4.0, 0.01666...</td>\n",
       "      <td>[0.13, 0.06190476190476191, 0.7384615384615385...</td>\n",
       "      <td>[0.13, 0.06190476190476191, 0.7384615384615385...</td>\n",
       "      <td>[0.13, 0.06190476190476191, 0.7384615384615385...</td>\n",
       "    </tr>\n",
       "    <tr>\n",
       "      <th>resistenzeTot</th>\n",
       "      <td>5.08123</td>\n",
       "      <td>5.08123</td>\n",
       "      <td>4.14493</td>\n",
       "      <td>3.98703</td>\n",
       "      <td>4.01029</td>\n",
       "    </tr>\n",
       "    <tr>\n",
       "      <th>temperature</th>\n",
       "      <td>[20.0, 19.36039132356926, 19.237389655024884, ...</td>\n",
       "      <td>[20.0, 19.36039132356926, 19.237389655024884, ...</td>\n",
       "      <td>[20.0, 19.215909122621948, 18.842532514346686,...</td>\n",
       "      <td>[20.0, 19.184857505098947, 18.79669441228892, ...</td>\n",
       "      <td>[20.0, 19.189584546776565, 18.803672426193977,...</td>\n",
       "    </tr>\n",
       "    <tr>\n",
       "      <th>pressioniSaturazione</th>\n",
       "      <td>[2336.951143802342, 2246.014230303399, 2228.88...</td>\n",
       "      <td>[2336.951143802342, 2246.014230303399, 2228.88...</td>\n",
       "      <td>[2336.951143802342, 2225.9063044935274, 2174.6...</td>\n",
       "      <td>[2336.951143802342, 2221.6053971258502, 2168.4...</td>\n",
       "      <td>[2336.951143802342, 2222.2596622324186, 2169.3...</td>\n",
       "    </tr>\n",
       "    <tr>\n",
       "      <th>pressioni</th>\n",
       "      <td>[1519.0182434715223, 1474.6710169085636, 1405....</td>\n",
       "      <td>[1519.0182434715223, 1474.6710169085636, 489.1...</td>\n",
       "      <td>[1519.0182434715223, 1492.929127902518, 529.63...</td>\n",
       "      <td>[1519.0182434715223, 1492.7927736399622, 524.4...</td>\n",
       "      <td>[1519.0182434715223, 1496.978097522305, 683.18...</td>\n",
       "    </tr>\n",
       "    <tr>\n",
       "      <th>profonditàPenetrazione</th>\n",
       "      <td>[0.10488464933683958, 0.023124891541124435, 0....</td>\n",
       "      <td>[0.10488464933683958, 0.09357438559709087, 0.0...</td>\n",
       "      <td>[0.06756881764921453, 0.0668511092056102, 0.09...</td>\n",
       "      <td>[0.06756881764921453, 0.0668511092056102, 0.11...</td>\n",
       "      <td>[0.06756881764921453, 0.0668511092056102, 0.05...</td>\n",
       "    </tr>\n",
       "    <tr>\n",
       "      <th>xi</th>\n",
       "      <td>[0.1430142551349639, 6.0540824483881055, 2.137...</td>\n",
       "      <td>[0.1430142551349639, 2.1373370364530375, 6.054...</td>\n",
       "      <td>[0.1923964404333649, 1.436027032920848, 1.2028...</td>\n",
       "      <td>[0.1923964404333649, 1.436027032920848, 0.9087...</td>\n",
       "      <td>[0.1923964404333649, 1.436027032920848, 2.3878...</td>\n",
       "    </tr>\n",
       "    <tr>\n",
       "      <th>attenuazione</th>\n",
       "      <td>-0.00488181</td>\n",
       "      <td>-0.00450246</td>\n",
       "      <td>-0.34206</td>\n",
       "      <td>-0.368365</td>\n",
       "      <td>-0.180746</td>\n",
       "    </tr>\n",
       "    <tr>\n",
       "      <th>sfasamento</th>\n",
       "      <td>6.48089</td>\n",
       "      <td>6.55193</td>\n",
       "      <td>9.20799</td>\n",
       "      <td>8.33845</td>\n",
       "      <td>13.653</td>\n",
       "    </tr>\n",
       "    <tr>\n",
       "      <th>trasmittanzaTermicaPeriodica</th>\n",
       "      <td>0.000960754</td>\n",
       "      <td>0.000886096</td>\n",
       "      <td>0.0825249</td>\n",
       "      <td>0.0923907</td>\n",
       "      <td>0.0450705</td>\n",
       "    </tr>\n",
       "    <tr>\n",
       "      <th>ammettanzaInterna</th>\n",
       "      <td>2.66228</td>\n",
       "      <td>3.17528</td>\n",
       "      <td>2.60815</td>\n",
       "      <td>2.61693</td>\n",
       "      <td>2.56745</td>\n",
       "    </tr>\n",
       "    <tr>\n",
       "      <th>ammettanzaEsterna</th>\n",
       "      <td>4.36459</td>\n",
       "      <td>3.45751</td>\n",
       "      <td>2.25685</td>\n",
       "      <td>2.15614</td>\n",
       "      <td>2.73004</td>\n",
       "    </tr>\n",
       "    <tr>\n",
       "      <th>capacitàTermicaAreica</th>\n",
       "      <td>[22500.0, 252000.00000000003, 144480.0, 27000.0]</td>\n",
       "      <td>[22500.0, 144480.0, 252000.00000000003, 27000.0]</td>\n",
       "      <td>[16445.0, 76800.0, 12600.0, 27000.0]</td>\n",
       "      <td>[16445.0, 76800.0, 7570.5, 27000.0]</td>\n",
       "      <td>[16445.0, 76800.0, 51870.0, 27000.0]</td>\n",
       "    </tr>\n",
       "    <tr>\n",
       "      <th>massaSuperficiale</th>\n",
       "      <td>[22.5, 168.00000000000003, 172.0, 27.0]</td>\n",
       "      <td>[22.5, 172.0, 168.00000000000003, 27.0]</td>\n",
       "      <td>[14.95, 48.0, 6.0, 27.0]</td>\n",
       "      <td>[14.95, 48.0, 7.35, 27.0]</td>\n",
       "      <td>[14.95, 48.0, 24.7, 27.0]</td>\n",
       "    </tr>\n",
       "    <tr>\n",
       "      <th>massaSuperficialeTot</th>\n",
       "      <td>389.5</td>\n",
       "      <td>389.5</td>\n",
       "      <td>95.95</td>\n",
       "      <td>97.3</td>\n",
       "      <td>114.65</td>\n",
       "    </tr>\n",
       "    <tr>\n",
       "      <th>capacitàTermicaAreicaTot</th>\n",
       "      <td>445980</td>\n",
       "      <td>445980</td>\n",
       "      <td>132845</td>\n",
       "      <td>127816</td>\n",
       "      <td>172115</td>\n",
       "    </tr>\n",
       "  </tbody>\n",
       "</table>\n",
       "</div>"
      ],
      "text/plain": [
       "                                                                             1a  \\\n",
       "descrizione                             Parete in muratura con isolante interno   \n",
       "strati                        [Intonaco, Isolante RockDuo, Laterizio Poroton...   \n",
       "spessori                                              [0.015, 0.14, 0.2, 0.015]   \n",
       "trasmittanze                                            [0.6, 0.035, 0.23, 0.9]   \n",
       "mu                                                        [6.0, 1.0, 10.0, 8.0]   \n",
       "densità                                         [1500.0, 1200.0, 860.0, 1800.0]   \n",
       "caloreSpecifico                                 [1000.0, 1500.0, 840.0, 1000.0]   \n",
       "Sd                                                      [0.09, 0.14, 2.0, 0.12]   \n",
       "spessoreTot                                                                0.37   \n",
       "resistenze                    [0.13, 0.025, 4.0, 0.8695652173913043, 0.01666...   \n",
       "resistenzeTot                                                           5.08123   \n",
       "temperature                   [20.0, 19.36039132356926, 19.237389655024884, ...   \n",
       "pressioniSaturazione          [2336.951143802342, 2246.014230303399, 2228.88...   \n",
       "pressioni                     [1519.0182434715223, 1474.6710169085636, 1405....   \n",
       "profonditàPenetrazione        [0.10488464933683958, 0.023124891541124435, 0....   \n",
       "xi                            [0.1430142551349639, 6.0540824483881055, 2.137...   \n",
       "attenuazione                                                        -0.00488181   \n",
       "sfasamento                                                              6.48089   \n",
       "trasmittanzaTermicaPeriodica                                        0.000960754   \n",
       "ammettanzaInterna                                                       2.66228   \n",
       "ammettanzaEsterna                                                       4.36459   \n",
       "capacitàTermicaAreica          [22500.0, 252000.00000000003, 144480.0, 27000.0]   \n",
       "massaSuperficiale                       [22.5, 168.00000000000003, 172.0, 27.0]   \n",
       "massaSuperficialeTot                                                      389.5   \n",
       "capacitàTermicaAreicaTot                                                 445980   \n",
       "\n",
       "                                                                             1b  \\\n",
       "descrizione                             Parete in muratura con isolante esterno   \n",
       "strati                        [Intonaco, Laterizio Poroton, Isolante RockDuo...   \n",
       "spessori                                              [0.015, 0.2, 0.14, 0.015]   \n",
       "trasmittanze                                            [0.6, 0.23, 0.035, 0.9]   \n",
       "mu                                                        [6.0, 10.0, 1.0, 8.0]   \n",
       "densità                                         [1500.0, 860.0, 1200.0, 1800.0]   \n",
       "caloreSpecifico                                 [1000.0, 840.0, 1500.0, 1000.0]   \n",
       "Sd                                                      [0.09, 2.0, 0.14, 0.12]   \n",
       "spessoreTot                                                                0.37   \n",
       "resistenze                    [0.13, 0.025, 0.8695652173913043, 4.0, 0.01666...   \n",
       "resistenzeTot                                                           5.08123   \n",
       "temperature                   [20.0, 19.36039132356926, 19.237389655024884, ...   \n",
       "pressioniSaturazione          [2336.951143802342, 2246.014230303399, 2228.88...   \n",
       "pressioni                     [1519.0182434715223, 1474.6710169085636, 489.1...   \n",
       "profonditàPenetrazione        [0.10488464933683958, 0.09357438559709087, 0.0...   \n",
       "xi                            [0.1430142551349639, 2.1373370364530375, 6.054...   \n",
       "attenuazione                                                        -0.00450246   \n",
       "sfasamento                                                              6.55193   \n",
       "trasmittanzaTermicaPeriodica                                        0.000886096   \n",
       "ammettanzaInterna                                                       3.17528   \n",
       "ammettanzaEsterna                                                       3.45751   \n",
       "capacitàTermicaAreica          [22500.0, 144480.0, 252000.00000000003, 27000.0]   \n",
       "massaSuperficiale                       [22.5, 172.0, 168.00000000000003, 27.0]   \n",
       "massaSuperficialeTot                                                      389.5   \n",
       "capacitàTermicaAreicaTot                                                 445980   \n",
       "\n",
       "                                                                             3a  \\\n",
       "descrizione                     Perete in X-LAM con isolante bassa densità NOME   \n",
       "strati                        [Gessofibra, X-LAM KLH, Isolante bassa densità...   \n",
       "spessori                                            [0.013, 0.096, 0.12, 0.015]   \n",
       "trasmittanze                                           [0.21, 0.13, 0.038, 0.9]   \n",
       "mu                                                       [5.0, 25.0, 1.0, 20.0]   \n",
       "densità                                           [1150.0, 500.0, 50.0, 1800.0]   \n",
       "caloreSpecifico                                [1100.0, 1600.0, 2100.0, 1000.0]   \n",
       "Sd                                                      [0.065, 2.4, 0.12, 0.3]   \n",
       "spessoreTot                                                               0.244   \n",
       "resistenze                    [0.13, 0.06190476190476191, 0.7384615384615385...   \n",
       "resistenzeTot                                                           4.14493   \n",
       "temperature                   [20.0, 19.215909122621948, 18.842532514346686,...   \n",
       "pressioniSaturazione          [2336.951143802342, 2225.9063044935274, 2174.6...   \n",
       "pressioni                     [1519.0182434715223, 1492.929127902518, 529.63...   \n",
       "profonditàPenetrazione        [0.06756881764921453, 0.0668511092056102, 0.09...   \n",
       "xi                            [0.1923964404333649, 1.436027032920848, 1.2028...   \n",
       "attenuazione                                                           -0.34206   \n",
       "sfasamento                                                              9.20799   \n",
       "trasmittanzaTermicaPeriodica                                          0.0825249   \n",
       "ammettanzaInterna                                                       2.60815   \n",
       "ammettanzaEsterna                                                       2.25685   \n",
       "capacitàTermicaAreica                      [16445.0, 76800.0, 12600.0, 27000.0]   \n",
       "massaSuperficiale                                      [14.95, 48.0, 6.0, 27.0]   \n",
       "massaSuperficialeTot                                                      95.95   \n",
       "capacitàTermicaAreicaTot                                                 132845   \n",
       "\n",
       "                                                                             3b  \\\n",
       "descrizione                   Perete in X-LAM con isolante bassa densità lan...   \n",
       "strati                        [Gessofibra, X-LAM KLH, Isolante ventirockduo,...   \n",
       "spessori                                           [0.013, 0.096, 0.105, 0.015]   \n",
       "trasmittanze                                           [0.21, 0.13, 0.035, 0.9]   \n",
       "mu                                                       [5.0, 25.0, 1.0, 20.0]   \n",
       "densità                                           [1150.0, 500.0, 70.0, 1800.0]   \n",
       "caloreSpecifico                                [1100.0, 1600.0, 1030.0, 1000.0]   \n",
       "Sd                                                     [0.065, 2.4, 0.105, 0.3]   \n",
       "spessoreTot                                                               0.229   \n",
       "resistenze                    [0.13, 0.06190476190476191, 0.7384615384615385...   \n",
       "resistenzeTot                                                           3.98703   \n",
       "temperature                   [20.0, 19.184857505098947, 18.79669441228892, ...   \n",
       "pressioniSaturazione          [2336.951143802342, 2221.6053971258502, 2168.4...   \n",
       "pressioni                     [1519.0182434715223, 1492.7927736399622, 524.4...   \n",
       "profonditàPenetrazione        [0.06756881764921453, 0.0668511092056102, 0.11...   \n",
       "xi                            [0.1923964404333649, 1.436027032920848, 0.9087...   \n",
       "attenuazione                                                          -0.368365   \n",
       "sfasamento                                                              8.33845   \n",
       "trasmittanzaTermicaPeriodica                                          0.0923907   \n",
       "ammettanzaInterna                                                       2.61693   \n",
       "ammettanzaEsterna                                                       2.15614   \n",
       "capacitàTermicaAreica                       [16445.0, 76800.0, 7570.5, 27000.0]   \n",
       "massaSuperficiale                                     [14.95, 48.0, 7.35, 27.0]   \n",
       "massaSuperficialeTot                                                       97.3   \n",
       "capacitàTermicaAreicaTot                                                 127816   \n",
       "\n",
       "                                                                             3c  \n",
       "descrizione                   Perete in X-LAM con isolante alta densità fibr...  \n",
       "strati                        [Gessofibra, X-LAM KLH, Isolante alta densità ...  \n",
       "spessori                                            [0.013, 0.096, 0.13, 0.015]  \n",
       "trasmittanze                                           [0.21, 0.13, 0.043, 0.9]  \n",
       "mu                                                       [5.0, 25.0, 5.0, 20.0]  \n",
       "densità                                          [1150.0, 500.0, 190.0, 1800.0]  \n",
       "caloreSpecifico                                [1100.0, 1600.0, 2100.0, 1000.0]  \n",
       "Sd                                                      [0.065, 2.4, 0.65, 0.3]  \n",
       "spessoreTot                                                               0.254  \n",
       "resistenze                    [0.13, 0.06190476190476191, 0.7384615384615385...  \n",
       "resistenzeTot                                                           4.01029  \n",
       "temperature                   [20.0, 19.189584546776565, 18.803672426193977,...  \n",
       "pressioniSaturazione          [2336.951143802342, 2222.2596622324186, 2169.3...  \n",
       "pressioni                     [1519.0182434715223, 1496.978097522305, 683.18...  \n",
       "profonditàPenetrazione        [0.06756881764921453, 0.0668511092056102, 0.05...  \n",
       "xi                            [0.1923964404333649, 1.436027032920848, 2.3878...  \n",
       "attenuazione                                                          -0.180746  \n",
       "sfasamento                                                               13.653  \n",
       "trasmittanzaTermicaPeriodica                                          0.0450705  \n",
       "ammettanzaInterna                                                       2.56745  \n",
       "ammettanzaEsterna                                                       2.73004  \n",
       "capacitàTermicaAreica                      [16445.0, 76800.0, 51870.0, 27000.0]  \n",
       "massaSuperficiale                                     [14.95, 48.0, 24.7, 27.0]  \n",
       "massaSuperficialeTot                                                     114.65  \n",
       "capacitàTermicaAreicaTot                                                 172115  "
      ]
     },
     "execution_count": 787,
     "metadata": {},
     "output_type": "execute_result"
    }
   ],
   "source": [
    "totalDF = pd.DataFrame(pareti)\n",
    "totalDF"
   ]
  },
  {
   "cell_type": "code",
   "execution_count": 788,
   "metadata": {},
   "outputs": [
    {
     "data": {
      "text/plain": [
       "-0.180745877372917"
      ]
     },
     "execution_count": 788,
     "metadata": {},
     "output_type": "execute_result"
    }
   ],
   "source": [
    "fd\n"
   ]
  },
  {
   "cell_type": "code",
   "execution_count": 829,
   "metadata": {},
   "outputs": [
    {
     "data": {
      "text/html": [
       "<div>\n",
       "<style scoped>\n",
       "    .dataframe tbody tr th:only-of-type {\n",
       "        vertical-align: middle;\n",
       "    }\n",
       "\n",
       "    .dataframe tbody tr th {\n",
       "        vertical-align: top;\n",
       "    }\n",
       "\n",
       "    .dataframe thead th {\n",
       "        text-align: right;\n",
       "    }\n",
       "</style>\n",
       "<table border=\"1\" class=\"dataframe\">\n",
       "  <thead>\n",
       "    <tr style=\"text-align: right;\">\n",
       "      <th></th>\n",
       "      <th>strati</th>\n",
       "      <th>spessori</th>\n",
       "      <th>densità</th>\n",
       "      <th>caloreSpecifico</th>\n",
       "      <th>massaSuperficiale</th>\n",
       "      <th>profonditàPenetrazione</th>\n",
       "      <th>xi</th>\n",
       "    </tr>\n",
       "  </thead>\n",
       "  <tbody>\n",
       "    <tr>\n",
       "      <th>0</th>\n",
       "      <td>Gessofibra</td>\n",
       "      <td>0.013</td>\n",
       "      <td>1150.0</td>\n",
       "      <td>1100.0</td>\n",
       "      <td>14.95</td>\n",
       "      <td>0.068</td>\n",
       "      <td>0.192</td>\n",
       "    </tr>\n",
       "    <tr>\n",
       "      <th>1</th>\n",
       "      <td>X-LAM KLH</td>\n",
       "      <td>0.096</td>\n",
       "      <td>500.0</td>\n",
       "      <td>1600.0</td>\n",
       "      <td>48.00</td>\n",
       "      <td>0.067</td>\n",
       "      <td>1.436</td>\n",
       "    </tr>\n",
       "    <tr>\n",
       "      <th>2</th>\n",
       "      <td>Isolante alta densità Naturalia Diffuterm</td>\n",
       "      <td>0.130</td>\n",
       "      <td>190.0</td>\n",
       "      <td>2100.0</td>\n",
       "      <td>24.70</td>\n",
       "      <td>0.054</td>\n",
       "      <td>2.388</td>\n",
       "    </tr>\n",
       "    <tr>\n",
       "      <th>3</th>\n",
       "      <td>Intonaco calce</td>\n",
       "      <td>0.015</td>\n",
       "      <td>1800.0</td>\n",
       "      <td>1000.0</td>\n",
       "      <td>27.00</td>\n",
       "      <td>0.117</td>\n",
       "      <td>0.128</td>\n",
       "    </tr>\n",
       "  </tbody>\n",
       "</table>\n",
       "</div>"
      ],
      "text/plain": [
       "                                      strati  spessori  densità  \\\n",
       "0                                 Gessofibra     0.013   1150.0   \n",
       "1                                  X-LAM KLH     0.096    500.0   \n",
       "2  Isolante alta densità Naturalia Diffuterm     0.130    190.0   \n",
       "3                             Intonaco calce     0.015   1800.0   \n",
       "\n",
       "   caloreSpecifico  massaSuperficiale  profonditàPenetrazione     xi  \n",
       "0           1100.0              14.95                   0.068  0.192  \n",
       "1           1600.0              48.00                   0.067  1.436  \n",
       "2           2100.0              24.70                   0.054  2.388  \n",
       "3           1000.0              27.00                   0.117  0.128  "
      ]
     },
     "execution_count": 829,
     "metadata": {},
     "output_type": "execute_result"
    }
   ],
   "source": [
    "col = ['strati','spessori','densità','caloreSpecifico','massaSuperficiale','profonditàPenetrazione','xi']#colonne da tenere\n",
    "df = pd.DataFrame(pareti[parete],columns=col) \n",
    "df = df.round({'profonditàPenetrazione':3,'xi':3}) # arrotonda le cifre decimali\n",
    "# oppure\n",
    "# decimals = pd.Series([3,3], index=['profonditàPenetrazione','xi'])\n",
    "# df = df.round(decimals)\n",
    "\n",
    "with open('tabella-dinamica-'+parete+'.tex','w') as f:\n",
    "    f.write(\n",
    "            df.to_latex(\n",
    "            index=False,\n",
    "            decimal=\",\",\n",
    "            caption=pareti[parete][\"descrizione\"],\n",
    "            column_format=\"lrrrrrr\",\n",
    "            header=[\"Strati\",\"Spessori\",\"Densità\", \"Calore specifico\",\"Massa superficiale\",\"Profondità di Penetrazione\",\"xi\"],\n",
    "            )\n",
    "        )  \n",
    "    f.write(\"\\n\\\\begin{flushleft}\\n\")\n",
    "    f.write(\"\\\\begin{align*}\\n\")\n",
    "    f.write(\"\\\\text{Massa superficiale totale} &= \\SI{\")\n",
    "    f.write(str(massaSuperficialeTot))\n",
    "    f.write(\"}{\\\\kilo\\\\gram\\\\per\\squaremetre}\\\\\\\\\\n\")\n",
    "    f.write(\"\\\\text{Sfasamento} &= \\SI{\")\n",
    "    f.write(str(round(sfasamento,2)))\n",
    "    f.write(\"}{\\\\hour}\\\\\\\\\\n\")\n",
    "    f.write(\"\\\\text{Attenuazione} &= \\SI{\")\n",
    "    f.write(str(abs(round(fd,3))))\n",
    "    f.write(\"}{}\\n\")\n",
    "    f.write(\"\\\\end{align*}\")\n",
    "    f.write(\"\\n\\\\end{flushleft}\\n\")\n",
    "f.close()\n",
    "df   "
   ]
  },
  {
   "cell_type": "code",
   "execution_count": 790,
   "metadata": {},
   "outputs": [],
   "source": [
    "# Crea delle liste dei valori dentro al dizionario che è dentro all'altro dizionario\n",
    "# esempio:   prova = makeListFromDoubleDicts(pareti,'descrizione')\n",
    "def makeListFromDoubleDicts(dict1,dictKey):\n",
    "    self = [] \n",
    "    for i in dict1.keys():\n",
    "        self.append(dict1[i][dictKey])\n",
    "    return self   "
   ]
  },
  {
   "cell_type": "code",
   "execution_count": 791,
   "metadata": {},
   "outputs": [
    {
     "data": {
      "text/plain": [
       "172115.0"
      ]
     },
     "execution_count": 791,
     "metadata": {},
     "output_type": "execute_result"
    }
   ],
   "source": [
    "paretiOutput[parete]['capacitàTermicaAreicaTot']"
   ]
  },
  {
   "cell_type": "code",
   "execution_count": 807,
   "metadata": {},
   "outputs": [],
   "source": [
    "resistenzeTot=makeListFromDoubleDicts(paretiOutput,'resistenzeTot')\n",
    "sfasamenti=makeListFromDoubleDicts(pareti,'sfasamento')\n",
    "masseSuperficiali=makeListFromDoubleDicts(pareti,'massaSuperficialeTot')\n",
    "attenuazioni=makeListFromDoubleDicts(pareti,'attenuazione')\n",
    "spessoriTot=makeListFromDoubleDicts(pareti,'spessoreTot')\n",
    "capacitàTermicaAreiche=makeListFromDoubleDicts(pareti,'capacitàTermicaAreicaTot')\n",
    "\n"
   ]
  },
  {
   "cell_type": "code",
   "execution_count": 809,
   "metadata": {},
   "outputs": [
    {
     "data": {
      "text/plain": [
       "<matplotlib.legend.Legend at 0x7f8fa8f956d0>"
      ]
     },
     "execution_count": 809,
     "metadata": {},
     "output_type": "execute_result"
    },
    {
     "data": {
      "image/png": "[encoded data removed]",
      "text/plain": [
       "<Figure size 432x288 with 1 Axes>"
      ]
     },
     "metadata": {
      "needs_background": "light"
     },
     "output_type": "display_data"
    }
   ],
   "source": [
    "# mettere senza asse y oppure con doppi assi\n",
    "# scegliere le altre proprietà da stapare\n",
    "# mettere solo i punti, senza l'unione linee\n",
    "\n",
    "plt.plot(paretiOutput.keys(),resistenzeTot,label='Resistenza termica')\n",
    "plt.plot(paretiOutput.keys(),sfasamenti,label='Sfasamento')\n",
    "plt.plot(paretiOutput.keys(),masseSuperficiali,label='Massa superficiale')\n",
    "plt.plot(paretiOutput.keys(),attenuazioni,label='Attenuazioni')\n",
    "\n",
    "\n",
    "plt.legend(loc='best')\n"
   ]
  },
  {
   "cell_type": "code",
   "execution_count": 810,
   "metadata": {},
   "outputs": [
    {
     "data": {
      "image/png": "[encoded data removed]",
      "text/plain": [
       "<Figure size 432x288 with 1 Axes>"
      ]
     },
     "metadata": {
      "needs_background": "light"
     },
     "output_type": "display_data"
    }
   ],
   "source": [
    "\n",
    "labels = paretiOutput.keys()\n",
    "\n",
    "x = np.arange(len(labels))  # the label locations\n",
    "width = 0.5  # the width of the bars\n",
    "\n",
    "fig, ax = plt.subplots()\n",
    "rects1 = ax.bar(x - width/3, resistenzeTot, width, label='Resistenza termica')\n",
    "rects2 = ax.bar(x + width/3, sfasamenti, width, label='Sfasamento')\n",
    "rects3 = ax.bar(x + 2*width/3, attenuazioni, width, label='Attenuazione')\n",
    "\n",
    "# Add some text for labels, title and custom x-axis tick labels, etc.\n",
    "ax.set_ylabel('Scores')\n",
    "ax.set_title('Scores by group and gender')\n",
    "ax.set_xticks(x)\n",
    "ax.set_xticklabels(labels)\n",
    "ax.legend()\n",
    "\n",
    "def autolabel(rects):\n",
    "    \"\"\"Attach a text label above each bar in *rects*, displaying its height.\"\"\"\n",
    "    for rect in rects:\n",
    "        height = round(rect.get_height(),1)\n",
    "        ax.annotate('{}'.format(height),\n",
    "                    xy=(rect.get_x() + rect.get_width() / 2, height),\n",
    "                    xytext=(0, 3),  # 3 points vertical offset\n",
    "                    textcoords=\"offset points\",\n",
    "                    ha='center', va='bottom')\n",
    "\n",
    "\n",
    "autolabel(rects1)\n",
    "autolabel(rects2)\n",
    "autolabel(rects3)\n",
    "\n",
    "\n",
    "fig.tight_layout()\n",
    "\n",
    "plt.show()"
   ]
  },
  {
   "cell_type": "code",
   "execution_count": 811,
   "metadata": {},
   "outputs": [
    {
     "data": {
      "text/plain": [
       "<BarContainer object of 4 artists>"
      ]
     },
     "execution_count": 811,
     "metadata": {},
     "output_type": "execute_result"
    },
    {
     "data": {
      "image/png": "[encoded data removed]",
      "text/plain": [
       "<Figure size 432x288 with 1 Axes>"
      ]
     },
     "metadata": {
      "needs_background": "light"
     },
     "output_type": "display_data"
    }
   ],
   "source": [
    "data = [[30, 25, 50, 20],\n",
    "[40, 23, 51, 17],\n",
    "[35, 22, 45, 19]]\n",
    "X = np.arange(4)\n",
    "fig = plt.figure()\n",
    "ax = fig.add_axes([0,0,1,1])\n",
    "ax.bar(X + 0.00, data[0], color = 'b', width = 0.25)\n",
    "ax.bar(X + 0.25, data[1], color = 'g', width = 0.25)\n",
    "ax.bar(X + 0.50, data[2], color = 'r', width = 0.25)"
   ]
  },
  {
   "cell_type": "code",
   "execution_count": 828,
   "metadata": {},
   "outputs": [
    {
     "data": {
      "image/png": "[encoded data removed]",
      "text/plain": [
       "<Figure size 432x288 with 1 Axes>"
      ]
     },
     "metadata": {
      "needs_background": "light"
     },
     "output_type": "display_data"
    }
   ],
   "source": [
    "#  https://stackoverflow.com/questions/14270391/python-matplotlib-multiple-bars\n",
    "\n",
    "def bar_plot(ax, data, colors=None, total_width=0.8, single_width=1, legend=True):\n",
    "    \"\"\"Draws a bar plot with multiple bars per data point.\n",
    "\n",
    "    Parameters\n",
    "    ----------\n",
    "    ax : matplotlib.pyplot.axis\n",
    "        The axis we want to draw our plot on.\n",
    "\n",
    "    data: dictionary\n",
    "        A dictionary containing the data we want to plot. Keys are the names of the\n",
    "        data, the items is a list of the values.\n",
    "\n",
    "        Example:\n",
    "        data = {\n",
    "            \"x\":[1,2,3],\n",
    "            \"y\":[1,2,3],\n",
    "            \"z\":[1,2,3],\n",
    "        }\n",
    "\n",
    "    colors : array-like, optional\n",
    "        A list of colors which are used for the bars. If None, the colors\n",
    "        will be the standard matplotlib color cyle. (default: None)\n",
    "\n",
    "    total_width : float, optional, default: 0.8\n",
    "        The width of a bar group. 0.8 means that 80% of the x-axis is covered\n",
    "        by bars and 20% will be spaces between the bars.\n",
    "\n",
    "    single_width: float, optional, default: 1\n",
    "        The relative width of a single bar within a group. 1 means the bars\n",
    "        will touch eachother within a group, values less than 1 will make\n",
    "        these bars thinner.\n",
    "\n",
    "    legend: bool, optional, default: True\n",
    "        If this is set to true, a legend will be added to the axis.\n",
    "    \"\"\"\n",
    "\n",
    "    # Check if colors where provided, otherwhise use the default color cycle\n",
    "    if colors is None:\n",
    "        colors = plt.rcParams['axes.prop_cycle'].by_key()['color']\n",
    "\n",
    "    # Number of bars per group\n",
    "    n_bars = len(data)\n",
    "\n",
    "    # The width of a single bar\n",
    "    bar_width = total_width / n_bars\n",
    "\n",
    "    # List containing handles for the drawn bars, used for the legend\n",
    "    bars = []\n",
    "\n",
    "    # Iterate over all data\n",
    "    for i, (name, values) in enumerate(data.items()):\n",
    "        # The offset in x direction of that bar\n",
    "        x_offset = (i - n_bars / 2) * bar_width + bar_width / 2\n",
    "\n",
    "        # Draw a bar for every value of that type\n",
    "        for x, y in enumerate(values):\n",
    "            bar = ax.bar(x + x_offset, y, width=bar_width * single_width, color=colors[i % len(colors)])\n",
    "            autolabel(bar)\n",
    "        # Add a handle to the last drawn bar, which we'll need for the legend\n",
    "        bars.append(bar[0])\n",
    "\n",
    "    # Draw legend if we need\n",
    "    if legend:\n",
    "        ax.legend(bars, data.keys(),loc='best')\n",
    "\n",
    "\n",
    "if __name__ == \"__main__\":\n",
    "    # Usage example:\n",
    "    data = {\n",
    "        \"resistenze\": resistenzeTot,\n",
    "        \"masse superciali x 10^2\": np.array(masseSuperficiali)*0.01,\n",
    "        \"sfasamenti\": sfasamenti,\n",
    "        \"attenuazioni x10^2\": abs(np.array(attenuazioni))*10\n",
    "    }\n",
    "\n",
    "    fig, ax = plt.subplots()\n",
    "    ax.set_xticks(x)\n",
    "    ax.set_xticklabels(list(paretiOutput.keys()))\n",
    "    bar_plot(ax, data, total_width=.8, single_width=.9)\n",
    "    tikzplotlib.save(\"confronto.tex\",\n",
    "                 axis_width='\\\\linewidth',\n",
    "                 axis_height='15cm',\n",
    "                 #strict=True,\n",
    "                 #extra_axis_parameters={'\\t ticklabel style={ \\n \\t\\t /pgf/number format/fixed, \\n \\t\\t /pgf/number format/precision=5\\n\\t\\t}, \\nscaled ticks=false'}\n",
    "                )"
   ]
  },
  {
   "cell_type": "code",
   "execution_count": 824,
   "metadata": {},
   "outputs": [
    {
     "data": {
      "text/plain": [
       "[-0.0048818146213937,\n",
       " -0.004502461450560935,\n",
       " -0.34205971533349355,\n",
       " -0.3683648964451135,\n",
       " -0.180745877372917]"
      ]
     },
     "execution_count": 824,
     "metadata": {},
     "output_type": "execute_result"
    }
   ],
   "source": [
    "attenuazioni"
   ]
  },
  {
   "cell_type": "code",
   "execution_count": null,
   "metadata": {},
   "outputs": [],
   "source": []
  },
  {
   "cell_type": "code",
   "execution_count": null,
   "metadata": {},
   "outputs": [],
   "source": []
  }
 ],
 "metadata": {
  "kernelspec": {
   "display_name": "Python [conda env:root] *",
   "language": "python",
   "name": "conda-root-py"
  },
  "language_info": {
   "codemirror_mode": {
    "name": "ipython",
    "version": 3
   },
   "file_extension": ".py",
   "mimetype": "text/x-python",
   "name": "python",
   "nbconvert_exporter": "python",
   "pygments_lexer": "ipython3",
   "version": "3.8.3"
  }
 },
 "nbformat": 4,
 "nbformat_minor": 4
}
