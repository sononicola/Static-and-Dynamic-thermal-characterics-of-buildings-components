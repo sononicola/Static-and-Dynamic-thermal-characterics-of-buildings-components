{
 "cells": [
  {
   "cell_type": "code",
   "execution_count": 1,
   "metadata": {},
   "outputs": [],
   "source": [
    "from matplotlib import pyplot as plt\n",
    "import numpy as np\n",
    "#from sympy import *\n",
    "#from sympy import MatrixSymbol, Matrix\n",
    "import math\n",
    "import cmath"
   ]
  },
  {
   "cell_type": "markdown",
   "metadata": {},
   "source": [
    "spessori e lambda per trovare resistenze. "
   ]
  },
  {
   "cell_type": "code",
   "execution_count": 24,
   "metadata": {
    "scrolled": false
   },
   "outputs": [
    {
     "name": "stdout",
     "output_type": "stream",
     "text": [
      "Spessore totale =  0.30500000000000005\n"
     ]
    }
   ],
   "source": [
    "# INPUT DATI:\n",
    "\n",
    "# da interno a esterno\n",
    "spessori = np.array([0.2,0.1,0.005])\n",
    "trasmittanze = np.array([1.8,0.04,1.])\n",
    "mu = np.array([6,10,8])\n",
    "densità = np.array([2400.,30.,1200.])\n",
    "caloreSpecifico = np.array([1000.,1400.,1500.])\n",
    "\n",
    "\n",
    "Ti=20.\n",
    "Te=0.\n",
    "URi=0.65\n",
    "URe=0.9 #0.9 forse\n",
    "\n",
    "# in orizzontale:\n",
    "Rsi=0.130\n",
    "Rse=0.040\n",
    "\n",
    "# Tempo dinamica\n",
    "T = 24 # ore -> secondi=86400\n",
    "\n",
    "print(\"Spessore totale = \",sum(spessori))"
   ]
  },
  {
   "cell_type": "code",
   "execution_count": 3,
   "metadata": {},
   "outputs": [
    {
     "name": "stdout",
     "output_type": "stream",
     "text": [
      "[1.2  1.   0.04]\n",
      "2.24\n",
      "[0.   1.2  2.2  2.24]\n"
     ]
    }
   ],
   "source": [
    "# Spessori equivalenti (metri)\n",
    "Sd = spessori * mu \n",
    "Sdtot = sum(Sd)\n",
    "SdCumSum = Sd.cumsum()\n",
    "SdCumSum = np.insert(SdCumSum,0,0.)\n",
    "print(Sd)\n",
    "print(Sdtot)\n",
    "print(SdCumSum)"
   ]
  },
  {
   "cell_type": "code",
   "execution_count": 4,
   "metadata": {},
   "outputs": [
    {
     "name": "stdout",
     "output_type": "stream",
     "text": [
      "[0.13       0.11111111 2.5        0.005      0.04      ]\n",
      "[0.13       0.24111111 2.74111111 2.74611111 2.78611111]\n",
      "2.786111111111111\n",
      "0.3589232303090728\n"
     ]
    }
   ],
   "source": [
    "resistenze=spessori/trasmittanze\n",
    "# Aggiunge le resistenze superficiali al vettore resistenze e calcola la somma cumolata\n",
    "resistenze = np.insert(resistenze,0,Rsi)\n",
    "resistenze = np.append(resistenze,Rse)\n",
    "resistenze = np.array(resistenze)\n",
    "Rtot = sum(resistenze)\n",
    "resistenzeCumSum = resistenze.cumsum()\n",
    "\n",
    "print(resistenze)\n",
    "print(resistenzeCumSum)\n",
    "print(Rtot)\n",
    "print(1/Rtot)"
   ]
  },
  {
   "cell_type": "code",
   "execution_count": 5,
   "metadata": {},
   "outputs": [
    {
     "name": "stdout",
     "output_type": "stream",
     "text": [
      "Temperature superficiali =  [20.         19.0667996  18.26919242  0.32303091  0.28713858  0.        ]\n"
     ]
    }
   ],
   "source": [
    "# Calcola le temperature superficiali i-esimme\n",
    "\n",
    "deltaT=Ti-Te\n",
    "temperature=np.array([])\n",
    "\n",
    "for i in range(0,len(resistenze)):\n",
    "    T=Ti-((resistenzeCumSum[i]*deltaT)/Rtot)\n",
    "    temperature = np.append(temperature,T)\n",
    "\n",
    "# Ritorna alla dimensione inziale aggiungendo la Ti all'inizio. L'ultima è già la Te    \n",
    "temperature = np.insert(temperature,0,Ti)\n",
    "\n",
    "print(\"Temperature superficiali = \",temperature)     "
   ]
  },
  {
   "cell_type": "code",
   "execution_count": 6,
   "metadata": {},
   "outputs": [
    {
     "name": "stdout",
     "output_type": "stream",
     "text": [
      "pressioni saturazione =  [2337.02166166 2205.38335866 2098.06114694  625.00193609  623.37571143\n",
      "  610.5       ]\n"
     ]
    }
   ],
   "source": [
    "# Pressione di saturazione per ogni temperatura i-esima\n",
    "pressioniSaturazione=610.5*10**(7.5*temperature/(237.3+temperature))\n",
    "\n",
    "print(\"pressioni saturazione = \",pressioniSaturazione) "
   ]
  },
  {
   "cell_type": "code",
   "execution_count": 7,
   "metadata": {},
   "outputs": [
    {
     "data": {
      "text/plain": [
       "0.0"
      ]
     },
     "execution_count": 7,
     "metadata": {},
     "output_type": "execute_result"
    }
   ],
   "source": [
    "temperature[5]"
   ]
  },
  {
   "cell_type": "code",
   "execution_count": null,
   "metadata": {},
   "outputs": [],
   "source": []
  },
  {
   "cell_type": "code",
   "execution_count": 8,
   "metadata": {},
   "outputs": [
    {
     "name": "stdout",
     "output_type": "stream",
     "text": [
      "Pi =  1519.06408007576\n",
      "Pe =  549.45\n",
      "Pressioni interne =  [1519.06408008  999.62796575  566.76453714  549.45      ]\n"
     ]
    }
   ],
   "source": [
    "Pi = URi * pressioniSaturazione[0]\n",
    "Pe = URe * pressioniSaturazione[-1]\n",
    "deltaP = Pi - Pe\n",
    "pressioni = np.array([])\n",
    "for p in range(1,len(temperature)-2): #valori interni a T perché conosciamo già gli estremi\n",
    "    P=Pi-((SdCumSum[p]*deltaP)/Sdtot)\n",
    "    pressioni = np.append(pressioni,P)\n",
    "\n",
    "# Ritorna alla dimensione inziale aggiungendo la Pi all'inizio. L'ultima è già la Pe    \n",
    "pressioni = np.insert(pressioni,0,Pi)\n",
    "\n",
    "print(\"Pi = \", Pi)\n",
    "print(\"Pe = \", Pe)\n",
    "print(\"Pressioni interne = \", pressioni)"
   ]
  },
  {
   "cell_type": "code",
   "execution_count": 9,
   "metadata": {},
   "outputs": [
    {
     "data": {
      "text/plain": [
       "[<matplotlib.lines.Line2D at 0x7f53201dae20>]"
      ]
     },
     "execution_count": 9,
     "metadata": {},
     "output_type": "execute_result"
    },
    {
     "data": {
      "image/png": "[encoded data removed]",
      "text/plain": [
       "<Figure size 432x288 with 1 Axes>"
      ]
     },
     "metadata": {
      "needs_background": "light"
     },
     "output_type": "display_data"
    }
   ],
   "source": [
    "plt.plot(SdCumSum,pressioni)\n",
    "plt.plot(SdCumSum,pressioniSaturazione[1:-1])"
   ]
  },
  {
   "cell_type": "code",
   "execution_count": 11,
   "metadata": {},
   "outputs": [
    {
     "name": "stdout",
     "output_type": "stream",
     "text": [
      "[0.    0.2   0.1   0.005 0.   ]\n",
      "[0.    0.    0.2   0.3   0.305 0.305]\n",
      "[20.         19.0667996  18.26919242  0.32303091  0.28713858  0.        ]\n"
     ]
    },
    {
     "data": {
      "text/plain": [
       "[<matplotlib.lines.Line2D at 0x7f5310f5a190>]"
      ]
     },
     "execution_count": 11,
     "metadata": {},
     "output_type": "execute_result"
    },
    {
     "data": {
      "image/png": "[encoded data removed]",
      "text/plain": [
       "<Figure size 432x288 with 1 Axes>"
      ]
     },
     "metadata": {
      "needs_background": "light"
     },
     "output_type": "display_data"
    }
   ],
   "source": [
    "spess=spessori\n",
    "spess=np.insert(spess,0,0)\n",
    "spess=np.append(spess,0)\n",
    "spesss=np.cumsum(spess)\n",
    "spesss=np.insert(spesss,0,0)\n",
    "print(spess)\n",
    "print(spesss)\n",
    "print(temperature)\n",
    "plt.plot(spesss,temperature)\n",
    "\n"
   ]
  },
  {
   "cell_type": "code",
   "execution_count": 12,
   "metadata": {},
   "outputs": [
    {
     "data": {
      "image/png": "[encoded data removed]",
      "text/plain": [
       "<Figure size 432x288 with 1 Axes>"
      ]
     },
     "metadata": {
      "needs_background": "light"
     },
     "output_type": "display_data"
    }
   ],
   "source": [
    "s=np.array([0. ,0.015, 0.435, 0.45])\n",
    "t=np.array([16.61502409, 16.05780497,  1.47637026,  1.04153105])\n",
    "t=.00005*t\n",
    "plt.plot(s,t)\n",
    "plt.grid(True)\n"
   ]
  },
  {
   "cell_type": "code",
   "execution_count": 13,
   "metadata": {},
   "outputs": [
    {
     "name": "stdout",
     "output_type": "stream",
     "text": [
      "spesss= [0.    0.2   0.3   0.305]\n",
      "pSat= [2205.38335866 2098.06114694  625.00193609  623.37571143]\n"
     ]
    },
    {
     "data": {
      "text/plain": [
       "[<matplotlib.lines.Line2D at 0x7f5310e9c400>]"
      ]
     },
     "execution_count": 13,
     "metadata": {},
     "output_type": "execute_result"
    },
    {
     "data": {
      "image/png": "[encoded data removed]",
      "text/plain": [
       "<Figure size 432x288 with 1 Axes>"
      ]
     },
     "metadata": {
      "needs_background": "light"
     },
     "output_type": "display_data"
    }
   ],
   "source": [
    "print(\"spesss=\",spesss[1:-1])\n",
    "print(\"pSat=\",pressioniSaturazione[1:-1])\n",
    "plt.plot(spesss[1:-1],pressioniSaturazione[1:-1])"
   ]
  },
  {
   "cell_type": "code",
   "execution_count": 14,
   "metadata": {},
   "outputs": [
    {
     "data": {
      "image/png": "[encoded data removed]",
      "text/plain": [
       "<Figure size 432x288 with 1 Axes>"
      ]
     },
     "metadata": {
      "needs_background": "light"
     },
     "output_type": "display_data"
    }
   ],
   "source": [
    "plt.plot(SdCumSum,pressioni,label=\"pressioni\")\n",
    "plt.plot(SdCumSum,pressioniSaturazione[1:-1], label=\"pressioni Saturazione\")\n",
    "plt.legend(loc=\"best\")\n",
    "plt.xlabel(\"Sd (m)\")  \n",
    "plt.ylabel(\"Pressione (Pa)\")\n",
    "plt.grid()\n",
    "plt.xticks(SdCumSum)\n",
    "plt.yticks(np.hstack((pressioni,pressioniSaturazione))) #i due vettori affiancati\n",
    "plt.show()"
   ]
  },
  {
   "cell_type": "code",
   "execution_count": 15,
   "metadata": {},
   "outputs": [
    {
     "data": {
      "text/plain": [
       "array([1519.06408008,  999.62796575,  566.76453714,  549.45      ,\n",
       "       2337.02166166, 2205.38335866, 2098.06114694,  625.00193609,\n",
       "        623.37571143,  610.5       ])"
      ]
     },
     "execution_count": 15,
     "metadata": {},
     "output_type": "execute_result"
    }
   ],
   "source": [
    "np.hstack((pressioni,pressioniSaturazione))"
   ]
  },
  {
   "cell_type": "code",
   "execution_count": 16,
   "metadata": {},
   "outputs": [
    {
     "data": {
      "text/plain": [
       "array([1519.06408008,  999.62796575,  566.76453714,  549.45      ])"
      ]
     },
     "execution_count": 16,
     "metadata": {},
     "output_type": "execute_result"
    }
   ],
   "source": [
    "pressioni"
   ]
  },
  {
   "cell_type": "code",
   "execution_count": 17,
   "metadata": {},
   "outputs": [
    {
     "data": {
      "text/plain": [
       "array([2337.02166166, 2205.38335866, 2098.06114694,  625.00193609,\n",
       "        623.37571143,  610.5       ])"
      ]
     },
     "execution_count": 17,
     "metadata": {},
     "output_type": "execute_result"
    }
   ],
   "source": [
    "pressioniSaturazione"
   ]
  },
  {
   "cell_type": "code",
   "execution_count": 25,
   "metadata": {},
   "outputs": [
    {
     "name": "stdout",
     "output_type": "stream",
     "text": [
      "delta =  [0.14361922 0.16184053 0.12360774]\n",
      "xi =  [1.39257126 0.6178922  0.04045054]\n",
      "zz =  [array([[ 0.37882036 +1.8584634j , -0.09725179 -0.07054045j],\n",
      "       [22.16093671-30.55254974j,  0.37882036 +1.8584634j ]]), array([[ 0.9757144 +0.3811725j , -2.48785533-0.31793816j],\n",
      "       [ 0.03884347-0.30394887j,  0.9757144 +0.3811725j ]]), array([[ 9.99999554e-01+1.63624613e-03j, -4.99999955e-03-2.72707692e-06j],\n",
      "       [ 3.56973534e-04-6.54498411e-01j,  9.99999554e-01+1.63624613e-03j]])]\n",
      "Z = [[-65.47111655+70.92248954j  -0.40981446 -4.86053266j]\n",
      " [ 80.27836508+21.33833759j  -3.541659   +2.2568288j ]]\n"
     ]
    }
   ],
   "source": [
    "profonditàPenetrazione = np.sqrt((trasmittanze*T*3600)/(  math.pi*densità * caloreSpecifico))\n",
    "xi = spessori/profonditàPenetrazione\n",
    "print(\"delta = \",profonditàPenetrazione)\n",
    "print(\"xi = \",xi)\n",
    "\n",
    "# Calcola le matrice di trasferimento di ogni strato e le inserisce in una lista, \n",
    "# per poi moltiplicarle tra di loro in Z\n",
    "\n",
    "zz = [] # zz : lista di matrici z\n",
    "for i in range(0,len(xi)):\n",
    "    # z : matrice per ogni strato\n",
    "    z = np.zeros((2,2),dtype=np.complex128) # matrice complex float\n",
    "    z[0][0] = complex(  (np.cosh(xi[i])*np.cos(xi[i])) , (np.sinh(xi[i])*np.sin(xi[i]))  )\n",
    "    z[1][1] = z[0][0] \n",
    "    z[0][1] = -(profonditàPenetrazione[i]/(2*trasmittanze[i])) * complex(  (np.sinh(xi[i])*np.cos(xi[i]) + np.cosh(xi[i])*np.sin(xi[i])) , (np.cosh(xi[i])*np.sin(xi[i]) - np.sinh(xi[i])*np.cos(xi[i]))  )\n",
    "    z[1][0] = -(trasmittanze[i]/( profonditàPenetrazione[i]))  * complex(  (np.sinh(xi[i])*np.cos(xi[i]) - np.cosh(xi[i])*np.sin(xi[i])) , (np.sinh(xi[i])*np.cos(xi[i]) + np.cosh(xi[i])*np.sin(xi[i]))  )\n",
    "    # aggiunge alla lista zz\n",
    "    zz.append(z)\n",
    "print(\"zz = \",zz)\n",
    "\n",
    "# Z: matrice di trasferimento totale  del componente edilizio = Z_N * Z_n-1 * ... * Z_1   \n",
    "Z = np.zeros((2,2),dtype=np.complex128)\n",
    "Z = zz[-1] #Z_N\n",
    "for i in range(1,len(zz)): # [1  2 ... N  N+1)\n",
    "    Z = Z.dot(zz[-1-i]) # prodotto scalare\n",
    "print(\"Z =\",Z)   "
   ]
  },
  {
   "cell_type": "code",
   "execution_count": 26,
   "metadata": {},
   "outputs": [
    {
     "name": "stdout",
     "output_type": "stream",
     "text": [
      "Zsi =  [[ 1.  +0.j -0.13+0.j]\n",
      " [ 0.  +0.j  1.  +0.j]]\n",
      "Zse =  [[ 1.  +0.j -0.04+0.j]\n",
      " [ 0.  +0.j  1.  +0.j]]\n",
      "Zee =  [[-68.68225115+70.06895604j   8.66054455-14.0597701j ]\n",
      " [ 80.27836508+21.33833759j -13.97784646 -0.51715508j]]\n"
     ]
    }
   ],
   "source": [
    "# Strato d'aria interno \n",
    "Zsi = np.zeros((2,2),dtype=np.complex128)\n",
    "Zsi[0][0] = complex(1,0)\n",
    "Zsi[1][1] = complex(1,0)\n",
    "Zsi[0][1] = complex(-Rsi)\n",
    "Zsi[1][0] = complex(0,0)\n",
    "print(\"Zsi = \",Zsi)\n",
    "\n",
    "# Strato d'aria esterno\n",
    "Zse = np.zeros((2,2),dtype=np.complex128)\n",
    "Zse[0][0] = complex(1,0)\n",
    "Zse[1][1] = complex(1,0)\n",
    "Zse[0][1] = complex(-Rse)\n",
    "Zse[1][0] = complex(0,0)\n",
    "print(\"Zse = \",Zse)\n",
    "\n",
    "# Zee: matrice di trasferimento da ambiente ad ambiente \n",
    "Zee = Zse.dot(Z)\n",
    "Zee = Zee.dot(Zsi)\n",
    "print(\"Zee = \",Zee)"
   ]
  },
  {
   "cell_type": "code",
   "execution_count": 21,
   "metadata": {},
   "outputs": [
    {
     "name": "stdout",
     "output_type": "stream",
     "text": [
      "Y12 =  0.06055801506207261 (trasmittanza termica periodica)\n",
      "f =  -0.16872135863127452 (attenuazione)\n",
      "phase =  -3.891182643952371\n",
      "sfasamento =  8.108817356047629 [ore]\n",
      "Y11 =  5.941759819168738 (ammettenza termica interna Yii)\n",
      "Y22 =  0.8470497907097971 (ammettenza termica esterna Yee)\n"
     ]
    }
   ],
   "source": [
    "Y12 = -1/Zee[0][1]\n",
    "Y12 = np.sqrt((Y12.real)**2 + (Y12.imag)**2) # il modulo\n",
    "print(\"Y12 = \", Y12, \"(trasmittanza termica periodica)\")\n",
    "\n",
    "f = -np.sqrt((Y12.real)**2 + (Y12.imag)**2)/(1/Rtot)\n",
    "print(\"f = \", f, \"(attenuazione)\")\n",
    "\n",
    "phase = (math.atan2(Zee[0][1].imag,Zee[0][1].real))*T/(2*math.pi) # T in ore\n",
    "sfasamento = phase+T/2 # T in ore\n",
    "print(\"phase = \", phase)\n",
    "print(\"sfasamento = \", sfasamento, \"[ore]\")\n",
    "\n",
    "Y11 = -Zee[0][0]/Zee[0][1]\n",
    "Y11 = np.sqrt((Y11.real)**2 + (Y11.imag)**2) # il modulo\n",
    "print(\"Y11 = \", Y11, \"(ammettenza termica interna Yii)\")\n",
    "\n",
    "Y22 = -Zee[1][1]/Zee[0][1]\n",
    "Y22 = np.sqrt((Y22.real)**2 + (Y22.imag)**2) # il modulo\n",
    "print(\"Y22 = \", Y22, \"(ammettenza termica esterna Yee)\")"
   ]
  },
  {
   "cell_type": "code",
   "execution_count": 22,
   "metadata": {
    "scrolled": true
   },
   "outputs": [
    {
     "name": "stdout",
     "output_type": "stream",
     "text": [
      "Massa superficiale =  489.0\n",
      "[480000.   4200.   9000.] Totale =  493200.0\n"
     ]
    }
   ],
   "source": [
    "massaSuperficiale = sum(spessori*densità)\n",
    "print(\"Massa superficiale = \", massaSuperficiale)\n",
    "\n",
    "capacitàTermicaAreica = spessori*densità*caloreSpecifico\n",
    "print(capacitàTermicaAreica, \"Totale = \", sum(capacitàTermicaAreica) )"
   ]
  },
  {
   "cell_type": "code",
   "execution_count": null,
   "metadata": {},
   "outputs": [],
   "source": []
  },
  {
   "cell_type": "code",
   "execution_count": null,
   "metadata": {},
   "outputs": [],
   "source": []
  },
  {
   "cell_type": "code",
   "execution_count": null,
   "metadata": {},
   "outputs": [],
   "source": []
  },
  {
   "cell_type": "code",
   "execution_count": null,
   "metadata": {},
   "outputs": [],
   "source": []
  },
  {
   "cell_type": "code",
   "execution_count": null,
   "metadata": {},
   "outputs": [],
   "source": []
  },
  {
   "cell_type": "code",
   "execution_count": null,
   "metadata": {},
   "outputs": [],
   "source": []
  }
 ],
 "metadata": {
  "kernelspec": {
   "display_name": "Python [conda env:root] *",
   "language": "python",
   "name": "conda-root-py"
  },
  "language_info": {
   "codemirror_mode": {
    "name": "ipython",
    "version": 3
   },
   "file_extension": ".py",
   "mimetype": "text/x-python",
   "name": "python",
   "nbconvert_exporter": "python",
   "pygments_lexer": "ipython3",
   "version": "3.8.3"
  }
 },
 "nbformat": 4,
 "nbformat_minor": 4
}
