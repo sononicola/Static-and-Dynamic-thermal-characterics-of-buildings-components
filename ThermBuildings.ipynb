{
 "cells": [
  {
   "cell_type": "code",
   "execution_count": 1,
   "metadata": {
    "scrolled": true
   },
   "outputs": [],
   "source": [
    "from matplotlib import pyplot as plt\n",
    "import numpy as np\n",
    "#from sympy import *\n",
    "#from sympy import MatrixSymbol, Matrix\n",
    "import math\n",
    "import cmath\n",
    "import pandas as pd"
   ]
  },
  {
   "cell_type": "markdown",
   "metadata": {},
   "source": [
    "# Database e input dati"
   ]
  },
  {
   "cell_type": "code",
   "execution_count": 271,
   "metadata": {
    "scrolled": true
   },
   "outputs": [],
   "source": [
    "# da interno a esterno\n",
    "\n",
    "# gli input sono le key: descrizione, strati, spessori, trasmittane, mu, \n",
    "#                        densità, caloreSpecifico\n",
    "# alla fine del calcolo saranno salvate key\n",
    "pareti = {\n",
    "     \"1a\" : {\n",
    "        \"descrizione\"     : \"Parete in muratura con isolante interno\",\n",
    "        \"strati\"          : [\"Intonaco\",\"Isolante RockDuo\",\"Laterizio Poroton\",\"Intonaco\"],\n",
    "        \"spessori\"        : np.array([0.015,0.14,0.2,0.015]),\n",
    "        \"trasmittanze\"    : np.array([0.6,0.035,0.23,0.9]),\n",
    "        \"mu\"              : np.array([6.,1.,10.,8.]),\n",
    "        \"densità\"         : np.array([1500.,1200.,860.,1800.]),\n",
    "        \"caloreSpecifico\" : np.array([1000.,1500.,840.,1000.])\n",
    "    },\n",
    "    \"1b\" : {\n",
    "        \"descrizione\"     : \"Parete in muratura con isolante esterno\",\n",
    "        \"strati\"          : [\"Intonaco\",\"Laterizio Poroton\",\"Isolante RockDuo\",\"Intonaco\"],\n",
    "        \"spessori\"        : np.array([0.015,0.2,0.14,0.015]),\n",
    "        \"trasmittanze\"    : np.array([0.6,0.23,0.035,0.9]),\n",
    "        \"mu\"              : np.array([6.,10.,1.,8.]),\n",
    "        \"densità\"         : np.array([1500.,860.,1200.,1800.]),\n",
    "        \"caloreSpecifico\" : np.array([1000.,840.,1500.,1000.])\n",
    "    },\n",
    "    \"2\" : {\n",
    "        \"descrizione\"     : \"Parete della struttura a telaio CA, nella zona tra i pilastri\",\n",
    "        \"strati\"          : [\"Gessofibra\",\"Isolante impianti\",\"Laterizio Bioplan S\",\"Isolante RockDuo\",\"Intonaco\"],\n",
    "        \"spessori\"        : np.array([0.025,0.027,0.2,0.14,0.015]),\n",
    "        \"trasmittanze\"    : np.array([1.8,0.04,1.]),\n",
    "        \"mu\"              : np.array([6.,10.,8.]),\n",
    "        \"densità\"         : np.array([2400.,30.,1200.]),\n",
    "        \"caloreSpecifico\" : np.array([1000.,1400.,1500.])\n",
    "    },\n",
    "    \"3a\" : {\n",
    "        \"descrizione\"     : \"Perete in X-LAM con isolante bassa densità NOME\",\n",
    "        \"strati\"          : [\"Gessofibra\",\"X-LAM KLH\",\"Isolante bassa densità NOME\",\"Intonaco calce\"],\n",
    "        \"spessori\"        : np.array([0.013,0.096,0.12,0.015]),\n",
    "        \"trasmittanze\"    : np.array([0.21,0.13,0.038,0.9]),\n",
    "        \"mu\"              : np.array([5.,25.,1.,20.]),\n",
    "        \"densità\"         : np.array([1150.,500.,50.,1800.]),\n",
    "        \"caloreSpecifico\" : np.array([1100.,1600.,2100.,1000.])\n",
    "    },\n",
    "    \"3b\" : {\n",
    "        \"descrizione\"     : \"Perete in X-LAM con isolante bassa densità lana di roccia\",\n",
    "        \"strati\"          : [\"Gessofibra\",\"X-LAM KLH\",\"Isolante ventirockduo\",\"Intonaco calce\"],\n",
    "        \"spessori\"        : np.array([0.013,0.096,0.105,0.015]),\n",
    "        \"trasmittanze\"    : np.array([0.21,0.13,0.035,0.9]),\n",
    "        \"mu\"              : np.array([5.,25.,1.,20.]),\n",
    "        \"densità\"         : np.array([1150.,500.,70.,1800.]),\n",
    "        \"caloreSpecifico\" : np.array([1100.,1600.,1030.,1000.])\n",
    "    },\n",
    "    \"3c\" : {\n",
    "        \"descrizione\"     : \"Perete in X-LAM con isolante alta densità fibra di legno\",\n",
    "        \"strati\"          : [\"Gessofibra\",\"X-LAM KLH\",\"Isolante alta densità Naturalia Diffuterm\",\"Intonaco calce\"],\n",
    "        \"spessori\"        : np.array([0.013,0.096,0.13,0.015]),\n",
    "        \"trasmittanze\"    : np.array([0.21,0.13,0.043,0.9]),\n",
    "        \"mu\"              : np.array([5.,25.,5.,20.]),\n",
    "        \"densità\"         : np.array([1150.,500.,190.,1800.]),\n",
    "        \"caloreSpecifico\" : np.array([1100.,1600.,2100.,1000.])\n",
    "    }\n",
    "    \n",
    "      \n",
    "}"
   ]
  },
  {
   "cell_type": "code",
   "execution_count": 312,
   "metadata": {},
   "outputs": [],
   "source": [
    "#paretiOutput=pareti.copy()\n"
   ]
  },
  {
   "cell_type": "code",
   "execution_count": 275,
   "metadata": {
    "scrolled": true
   },
   "outputs": [
    {
     "name": "stdout",
     "output_type": "stream",
     "text": [
      "Parete in muratura con isolante interno\n",
      "Spessore totale =  0.37000000000000005\n",
      "Dimensioni ok\n"
     ]
    }
   ],
   "source": [
    "# INPUT DATI:\n",
    "\n",
    "# Scegliere la parete\n",
    "parete = \"1a\" # eseguire da qui in giù altrimento il dizionario di output si resetta\n",
    "\n",
    "Ti=20.\n",
    "Te=-5.\n",
    "URi=0.65\n",
    "URe=0.9 #0.9 forse\n",
    "\n",
    "# in orizzontale:\n",
    "Rsi=0.130\n",
    "Rse=0.040\n",
    "\n",
    "# Tempo dinamica\n",
    "tempo = 24 # ore -> secondi=86400\n",
    "\n",
    "\n",
    "print(pareti[parete][\"descrizione\"])\n",
    "spessori = pareti[parete][\"spessori\"]\n",
    "trasmittanze = pareti[parete][\"trasmittanze\"]\n",
    "mu = pareti[parete][\"mu\"]\n",
    "densità = pareti[parete][\"densità\"]\n",
    "caloreSpecifico = pareti[parete][\"caloreSpecifico\"]\n",
    "\n",
    "spessoreTot = sum(spessori)\n",
    "print(\"Spessore totale = \",spessoreTot)\n",
    "\n",
    "if len(pareti[parete][\"strati\"])==len(spessori)==len(trasmittanze)==len(mu)==len(densità)==len(caloreSpecifico):\n",
    "    print(\"Dimensioni ok\")\n",
    "else:\n",
    "    print(\"Devono avere la stessa lunghezza!\")"
   ]
  },
  {
   "cell_type": "code",
   "execution_count": 289,
   "metadata": {
    "scrolled": true
   },
   "outputs": [
    {
     "name": "stdout",
     "output_type": "stream",
     "text": [
      "[0.09 0.14 2.   0.12]\n",
      "2.35\n",
      "[0.   0.09 0.23 2.23 2.35]\n"
     ]
    }
   ],
   "source": [
    "# Spessori equivalenti (metri)\n",
    "Sd = spessori * mu \n",
    "Sdtot = sum(Sd)\n",
    "SdCumSum = Sd.cumsum()\n",
    "SdCumSum = np.insert(SdCumSum,0,0.)\n",
    "print(Sd)\n",
    "print(Sdtot)\n",
    "print(SdCumSum)"
   ]
  },
  {
   "cell_type": "code",
   "execution_count": 290,
   "metadata": {
    "scrolled": true
   },
   "outputs": [
    {
     "name": "stdout",
     "output_type": "stream",
     "text": [
      "resistenze =  [0.13       0.025      4.         0.86956522 0.01666667 0.04      ]\n",
      "resistemzeCumSum =  [0.13       0.155      4.155      5.02456522 5.04123188 5.08123188]\n",
      "Resistenza totale = 5.0812318840579715\n",
      "Trasmittanza termica U =  0.19680266967099724\n"
     ]
    }
   ],
   "source": [
    "resistenze = spessori/trasmittanze\n",
    "# Aggiunge le resistenze superficiali al vettore resistenze e calcola la somma cumolata\n",
    "resistenze = np.insert(resistenze,0,Rsi)\n",
    "resistenze = np.append(resistenze,Rse)\n",
    "resistenze = np.array(resistenze)\n",
    "Rtot = sum(resistenze)\n",
    "resistenzeCumSum = resistenze.cumsum()\n",
    "\n",
    "print(\"resistenze = \",resistenze)\n",
    "print(\"resistemzeCumSum = \",resistenzeCumSum)\n",
    "print(\"Resistenza totale =\", Rtot)\n",
    "print(\"Trasmittanza termica U = \",1/Rtot)"
   ]
  },
  {
   "cell_type": "code",
   "execution_count": 291,
   "metadata": {
    "scrolled": true
   },
   "outputs": [
    {
     "name": "stdout",
     "output_type": "stream",
     "text": [
      "Temperature superficiali =  [20.         19.36039132 19.23738966 -0.44287731 -4.72119622 -4.80319733\n",
      " -5.        ]\n"
     ]
    }
   ],
   "source": [
    "# Calcola le temperature superficiali i-esimme\n",
    "\n",
    "deltaT = Ti-Te\n",
    "temperature = np.array([])\n",
    "\n",
    "for i in range(0,len(resistenze)):\n",
    "    T = Ti-((resistenzeCumSum[i]*deltaT)/Rtot)\n",
    "    temperature = np.append(temperature,T)\n",
    "\n",
    "# Ritorna alla dimensione inziale aggiungendo la Ti all'inizio. L'ultima è già la Te    \n",
    "temperature = np.insert(temperature,0,Ti)\n",
    "\n",
    "print(\"Temperature superficiali = \",temperature)     "
   ]
  },
  {
   "cell_type": "code",
   "execution_count": 292,
   "metadata": {},
   "outputs": [
    {
     "name": "stdout",
     "output_type": "stream",
     "text": [
      "pressioni saturazione =  [2336.9511438  2246.0142303  2228.88579752  588.58885659  410.85836024\n",
      "  407.99024775  401.18098135]\n"
     ]
    }
   ],
   "source": [
    "# Pressione di saturazione per ogni temperatura i-esima\n",
    "\n",
    "pressioniSaturazione = np.array([])\n",
    "\n",
    "for temp in temperature:\n",
    "    if temp >= 0:\n",
    "        press = 610.5*np.exp(17.269*temp/(237.3+temp))\n",
    "    else:\n",
    "        press = 610.5*np.exp(21.875*temp/(265.5+temp))\n",
    "        \n",
    "    pressioniSaturazione = np.append(pressioniSaturazione,press)   \n",
    "    \n",
    "print(\"pressioni saturazione = \",pressioniSaturazione)     "
   ]
  },
  {
   "cell_type": "code",
   "execution_count": 293,
   "metadata": {
    "scrolled": true
   },
   "outputs": [
    {
     "name": "stdout",
     "output_type": "stream",
     "text": [
      "Pi =  1519.0182434715223\n",
      "Pe =  361.06288321648987\n",
      "Pressioni interne =  [1519.01824347 1474.67101691 1405.68644226  420.19251863  361.06288322]\n"
     ]
    }
   ],
   "source": [
    "Pi = URi * pressioniSaturazione[0]\n",
    "Pe = URe * pressioniSaturazione[-1]\n",
    "deltaP = Pi - Pe\n",
    "pressioni = np.array([])\n",
    "for p in range(1,len(temperature)-2): #valori interni a T perché conosciamo già gli estremi\n",
    "    P=Pi-((SdCumSum[p]*deltaP)/Sdtot)\n",
    "    pressioni = np.append(pressioni,P)\n",
    "\n",
    "# Ritorna alla dimensione inziale aggiungendo la Pi all'inizio. L'ultima è già la Pe    \n",
    "pressioni = np.insert(pressioni,0,Pi)\n",
    "\n",
    "print(\"Pi = \", Pi)\n",
    "print(\"Pe = \", Pe)\n",
    "print(\"Pressioni interne = \", pressioni)"
   ]
  },
  {
   "cell_type": "code",
   "execution_count": 294,
   "metadata": {
    "scrolled": true
   },
   "outputs": [
    {
     "name": "stdout",
     "output_type": "stream",
     "text": [
      "spessoriCumSum =  [0.    0.015 0.155 0.355 0.37 ]\n"
     ]
    }
   ],
   "source": [
    "spessoriCumSum = spessori.cumsum()\n",
    "spessoriCumSum = np.insert(spessoriCumSum,0,0.) \n",
    "print(\"spessoriCumSum = \", spessoriCumSum)"
   ]
  },
  {
   "cell_type": "code",
   "execution_count": 295,
   "metadata": {},
   "outputs": [],
   "source": [
    "#plt.style.available"
   ]
  },
  {
   "cell_type": "code",
   "execution_count": 296,
   "metadata": {},
   "outputs": [
    {
     "data": {
      "image/png": "[encoded data removed]",
      "text/plain": [
       "<Figure size 1296x720 with 2 Axes>"
      ]
     },
     "metadata": {
      "needs_background": "light"
     },
     "output_type": "display_data"
    }
   ],
   "source": [
    "#plt.style.use('fast')\n",
    "\n",
    "plt.figure(figsize=(18,10))\n",
    "\n",
    "\n",
    "plt.subplot(2, 1, 1)\n",
    "plt.plot(spessoriCumSum,temperature[1:-1],label=\"Temperatura\",color='green')\n",
    "plt.ticklabel_format(style='sci')\n",
    "plt.legend(loc=\"best\",fontsize=16)\n",
    "plt.xlabel(\"Spessore parete (m)\",fontsize=16)  \n",
    "plt.ylabel(\"Temperature (°C)\",fontsize=16)\n",
    "plt.grid(axis='x',linewidth=2)\n",
    "plt.xticks(spessoriCumSum, rotation=90, fontsize=14)\n",
    "#plt.yticks(temperature,fontsize=12) #i due vettori affiancati\n",
    "plt.yticks(fontsize=14)\n",
    "\n",
    "plt.subplot(2,1,2)\n",
    "plt.plot(SdCumSum,pressioni,label=\"Pressione\",color='orange')\n",
    "plt.plot(SdCumSum,pressioniSaturazione[1:-1], label=\"Pressione Saturazione\",color='red')\n",
    "#plt.plot(SdCumSum,100*temperature[1:-1],label=\"temperature\",color='green')\n",
    "plt.ticklabel_format(style='sci')\n",
    "plt.legend(loc=\"best\",fontsize=16)\n",
    "plt.xlabel(\"Spessore equivalente Sd (m)\",fontsize=16)  \n",
    "plt.ylabel(\"Pressione (Pa)\",fontsize=16)\n",
    "plt.grid(axis='x',linewidth=2)\n",
    "plt.xticks(SdCumSum,fontsize=14,rotation=90,color='black')\n",
    "#plt.yticks(np.hstack((pressioni,pressioniSaturazione)),fontsize=14) #i due vettori affiancati\n",
    "plt.yticks(fontsize=14)\n",
    "\n",
    "import tikzplotlib\n",
    "# modificare a mano:\n",
    "# \\begin{groupplot}[group style={group size=1 by 2,vertical sep=2.5cm}]\n",
    "tikzplotlib.save(\"temperatura+pressione--parete-\"+parete+\".tex\",\n",
    "                 axis_width='\\\\linewidth',\n",
    "                 axis_height='7cm',\n",
    "                 strict=True,\n",
    "                 extra_axis_parameters={'\\t ticklabel style={ \\n \\t\\t /pgf/number format/fixed, \\n \\t\\t /pgf/number format/precision=5\\n\\t\\t}, \\nscaled ticks=false'}\n",
    "                )"
   ]
  },
  {
   "cell_type": "code",
   "execution_count": 297,
   "metadata": {
    "scrolled": true
   },
   "outputs": [
    {
     "data": {
      "image/png": "[encoded data removed]",
      "text/plain": [
       "<Figure size 1296x504 with 1 Axes>"
      ]
     },
     "metadata": {
      "needs_background": "light"
     },
     "output_type": "display_data"
    }
   ],
   "source": [
    "#plt.style.use('fast')\n",
    "\n",
    "plt.figure(figsize=(18,7))\n",
    "plt.plot(spessoriCumSum,temperature[1:-1],label=\"temperature\",color='green')\n",
    "plt.legend(loc=\"best\",fontsize=16)\n",
    "plt.xlabel(\"Spessore parete (m)\",fontsize=16)  \n",
    "plt.ylabel(\"Temperature (°C)\",fontsize=16)\n",
    "plt.grid(axis='x',linewidth=2)\n",
    "plt.xticks(spessoriCumSum, rotation=90, fontsize=14)\n",
    "#plt.yticks(temperature,fontsize=12) #i due vettori affiancati\n",
    "plt.yticks(fontsize=14)\n",
    "\n",
    "\n",
    "import tikzplotlib\n",
    "\n"
   ]
  },
  {
   "cell_type": "code",
   "execution_count": 298,
   "metadata": {},
   "outputs": [
    {
     "data": {
      "text/plain": [
       "(array([ 250.,  500.,  750., 1000., 1250., 1500., 1750., 2000., 2250.,\n",
       "        2500.]),\n",
       " [Text(0, 0, ''),\n",
       "  Text(0, 0, ''),\n",
       "  Text(0, 0, ''),\n",
       "  Text(0, 0, ''),\n",
       "  Text(0, 0, ''),\n",
       "  Text(0, 0, ''),\n",
       "  Text(0, 0, ''),\n",
       "  Text(0, 0, ''),\n",
       "  Text(0, 0, ''),\n",
       "  Text(0, 0, '')])"
      ]
     },
     "execution_count": 298,
     "metadata": {},
     "output_type": "execute_result"
    },
    {
     "data": {
      "image/png": "[encoded data removed]",
      "text/plain": [
       "<Figure size 1296x504 with 1 Axes>"
      ]
     },
     "metadata": {
      "needs_background": "light"
     },
     "output_type": "display_data"
    }
   ],
   "source": [
    "plt.figure(figsize=(18,7))\n",
    "\n",
    "plt.plot(SdCumSum,pressioni,label=\"Pressione\",color='orange')\n",
    "plt.plot(SdCumSum,pressioniSaturazione[1:-1], label=\"Pressione Saturazione\",color='red')\n",
    "#plt.plot(SdCumSum,100*temperature[1:-1],label=\"temperature\",color='green')\n",
    "plt.ticklabel_format(style='sci')\n",
    "plt.legend(loc=\"best\",fontsize=16)\n",
    "plt.xlabel(\"Spessore equivalente Sd (m)\",fontsize=16)  \n",
    "plt.ylabel(\"Pressione (Pa)\",fontsize=16)\n",
    "plt.grid(axis='x',linewidth=2)\n",
    "plt.xticks(SdCumSum,fontsize=14,rotation=90,color='black')\n",
    "#plt.yticks(np.hstack((pressioni,pressioniSaturazione)),fontsize=14) #i due vettori affiancati\n",
    "plt.yticks(fontsize=14)\n",
    "\n",
    "\n",
    "\n"
   ]
  },
  {
   "cell_type": "code",
   "execution_count": 299,
   "metadata": {
    "scrolled": true
   },
   "outputs": [
    {
     "data": {
      "text/plain": [
       "array([1519.01824347, 1474.67101691, 1405.68644226,  420.19251863,\n",
       "        361.06288322, 2336.9511438 , 2246.0142303 , 2228.88579752,\n",
       "        588.58885659,  410.85836024,  407.99024775,  401.18098135])"
      ]
     },
     "execution_count": 299,
     "metadata": {},
     "output_type": "execute_result"
    }
   ],
   "source": [
    "np.hstack((pressioni,pressioniSaturazione))"
   ]
  },
  {
   "cell_type": "code",
   "execution_count": 300,
   "metadata": {
    "scrolled": true
   },
   "outputs": [
    {
     "name": "stdout",
     "output_type": "stream",
     "text": [
      "Profondità penetrazione (delta) =  [0.10488465 0.02312489 0.09357439 0.1172646 ]\n",
      "xi =  [0.14301426 6.05408245 2.13733704 0.12791584]\n",
      "zz =  [array([[ 0.99993028+2.04529821e-02j, -0.02499965-1.70441970e-04j],\n",
      "       [ 0.0111554 -1.63622336e+00j,  0.99993028+2.04529821e-02j]]), array([[ 207.36154689 -48.3556062j ,  -52.52757023 +84.47701255j],\n",
      "       [-387.03052796-240.65450026j,  207.36154689 -48.3556062j ]]), array([[-2.30648596+3.52644936j, -0.28129611-1.19391907j],\n",
      "       [14.42602192-3.39887679j, -2.30648596+3.52644936j]]), array([[ 0.99995538+1.63624131e-02j, -0.01666652-9.09024493e-05j],\n",
      "       [ 0.01070919-1.96347789e+00j,  0.99995538+1.63624131e-02j]])]\n",
      "Z = [[-1690.09139888+1822.70113475j  -241.27472755 -696.46980848j]\n",
      " [11869.02894982+2323.9206009j  -2263.40477017+2781.86918736j]]\n"
     ]
    }
   ],
   "source": [
    "profonditàPenetrazione = np.sqrt((trasmittanze*tempo*3600)/(  math.pi*densità * caloreSpecifico))\n",
    "xi = spessori/profonditàPenetrazione\n",
    "print(\"Profondità penetrazione (delta) = \",profonditàPenetrazione)\n",
    "print(\"xi = \",xi)\n",
    "\n",
    "# Calcola le matrice di trasferimento di ogni strato e le inserisce in una lista, \n",
    "# per poi moltiplicarle tra di loro in Z\n",
    "\n",
    "zz = [] # zz : lista di matrici z\n",
    "for i in range(0,len(xi)):\n",
    "    # z : matrice per ogni strato\n",
    "    z = np.zeros((2,2),dtype=np.complex128) # matrice complex float\n",
    "    z[0][0] = complex(  (np.cosh(xi[i])*np.cos(xi[i])) , (np.sinh(xi[i])*np.sin(xi[i]))  )\n",
    "    z[1][1] = z[0][0] \n",
    "    z[0][1] = -(profonditàPenetrazione[i]/(2*trasmittanze[i])) * complex(  (np.sinh(xi[i])*np.cos(xi[i]) + np.cosh(xi[i])*np.sin(xi[i])) , (np.cosh(xi[i])*np.sin(xi[i]) - np.sinh(xi[i])*np.cos(xi[i]))  )\n",
    "    z[1][0] = -(trasmittanze[i]/( profonditàPenetrazione[i]))  * complex(  (np.sinh(xi[i])*np.cos(xi[i]) - np.cosh(xi[i])*np.sin(xi[i])) , (np.sinh(xi[i])*np.cos(xi[i]) + np.cosh(xi[i])*np.sin(xi[i]))  )\n",
    "    # aggiunge alla lista zz\n",
    "    zz.append(z)\n",
    "print(\"zz = \",zz)\n",
    "\n",
    "# Z: matrice di trasferimento totale  del componente edilizio = Z_N * Z_n-1 * ... * Z_1   \n",
    "Z = np.zeros((2,2),dtype=np.complex128)\n",
    "Z = zz[-1] #Z_N\n",
    "for i in range(1,len(zz)): # [1  2 ... N  N+1)\n",
    "    Z = Z.dot(zz[-1-i]) # prodotto scalare\n",
    "print(\"Z =\",Z)   "
   ]
  },
  {
   "cell_type": "code",
   "execution_count": 301,
   "metadata": {
    "scrolled": true
   },
   "outputs": [
    {
     "name": "stdout",
     "output_type": "stream",
     "text": [
      "Zsi =  [[ 1.  +0.j -0.13+0.j]\n",
      " [ 0.  +0.j  1.  +0.j]]\n",
      "Zse =  [[ 1.  +0.j -0.04+0.j]\n",
      " [ 0.  +0.j  1.  +0.j]]\n",
      "Zee =  [[-2164.85255687+1729.74431071j   130.69229565-1032.61133637j]\n",
      " [11869.02894982+2323.9206009j  -3806.37853365+2479.75950924j]]\n"
     ]
    }
   ],
   "source": [
    "# Strato d'aria interno \n",
    "Zsi = np.zeros((2,2),dtype=np.complex128)\n",
    "Zsi[0][0] = complex(1,0)\n",
    "Zsi[1][1] = complex(1,0)\n",
    "Zsi[0][1] = complex(-Rsi)\n",
    "Zsi[1][0] = complex(0,0)\n",
    "print(\"Zsi = \",Zsi)\n",
    "\n",
    "# Strato d'aria esterno\n",
    "Zse = np.zeros((2,2),dtype=np.complex128)\n",
    "Zse[0][0] = complex(1,0)\n",
    "Zse[1][1] = complex(1,0)\n",
    "Zse[0][1] = complex(-Rse)\n",
    "Zse[1][0] = complex(0,0)\n",
    "print(\"Zse = \",Zse)\n",
    "\n",
    "# Zee: matrice di trasferimento da ambiente ad ambiente \n",
    "Zee = Zse.dot(Z)\n",
    "Zee = Zee.dot(Zsi)\n",
    "print(\"Zee = \",Zee)"
   ]
  },
  {
   "cell_type": "code",
   "execution_count": 302,
   "metadata": {
    "scrolled": true
   },
   "outputs": [
    {
     "name": "stdout",
     "output_type": "stream",
     "text": [
      "Y12 =  0.000960754150329189 (trasmittanza termica periodica)\n",
      "f =  -0.0048818146213937 (attenuazione)\n",
      "phase =  -5.519114731357791\n",
      "sfasamento =  6.480885268642209 [ore]\n",
      "Y11 =  2.6622776565644175 (ammettenza termica interna Yii)\n",
      "Y22 =  4.364587226663046 (ammettenza termica esterna Yee)\n"
     ]
    }
   ],
   "source": [
    "Y12 = -1/Zee[0][1]\n",
    "Y12 = np.sqrt((Y12.real)**2 + (Y12.imag)**2) # il modulo\n",
    "print(\"Y12 = \", Y12, \"(trasmittanza termica periodica)\")\n",
    "\n",
    "#f = -np.sqrt((Y12.real)**2 + (Y12.imag)**2)/(1/Rtot)\n",
    "f = -Y12/(1/Rtot)\n",
    "print(\"f = \", f, \"(attenuazione)\")\n",
    "\n",
    "phase = (math.atan2(Zee[0][1].imag,Zee[0][1].real))*tempo/(2*math.pi) # tempo in ore\n",
    "sfasamento = phase+tempo/2 # tempo in ore\n",
    "print(\"phase = \", phase)\n",
    "print(\"sfasamento = \", sfasamento, \"[ore]\")\n",
    "\n",
    "Y11 = -Zee[0][0]/Zee[0][1]\n",
    "Y11 = np.sqrt((Y11.real)**2 + (Y11.imag)**2) # il modulo\n",
    "print(\"Y11 = \", Y11, \"(ammettenza termica interna Yii)\")\n",
    "\n",
    "Y22 = -Zee[1][1]/Zee[0][1]\n",
    "Y22 = np.sqrt((Y22.real)**2 + (Y22.imag)**2) # il modulo\n",
    "print(\"Y22 = \", Y22, \"(ammettenza termica esterna Yee)\")"
   ]
  },
  {
   "cell_type": "code",
   "execution_count": 303,
   "metadata": {},
   "outputs": [
    {
     "data": {
      "text/plain": [
       "0.43260366053380406"
      ]
     },
     "execution_count": 303,
     "metadata": {},
     "output_type": "execute_result"
    }
   ],
   "source": [
    "1-Rsi*Y22"
   ]
  },
  {
   "cell_type": "code",
   "execution_count": 304,
   "metadata": {},
   "outputs": [
    {
     "name": "stdout",
     "output_type": "stream",
     "text": [
      "Y12 =  39.999628157254996 (trasmittanza termica periodica)\n",
      "f =  -203.2473859431071 (attenuazione)\n",
      "Y11 =  40.00520545033891 (ammettenza termica interna Yii)\n",
      "Y22 =  40.00520545033891 (ammettenza termica esterna Yee)\n",
      "-4.200676708544059\n",
      "-4.200676708544059\n",
      "Y12 =  0.010052657376747182 (trasmittanza termica periodica)\n",
      "f =  -0.05107988318223835 (attenuazione)\n",
      "Y11 =  2.140462547732862 (ammettenza termica interna Yii)\n",
      "Y22 =  2.140462547732862 (ammettenza termica esterna Yee)\n",
      "0.7217398687947278\n",
      "0.7217398687947278\n",
      "Y12 =  0.8152555537162499 (trasmittanza termica periodica)\n",
      "f =  -4.1425025131983455 (attenuazione)\n",
      "Y11 =  3.4352863289406583 (ammettenza termica interna Yii)\n",
      "Y22 =  3.4352863289406583 (ammettenza termica esterna Yee)\n",
      "0.5534127772377144\n",
      "0.5534127772377144\n",
      "Y12 =  59.99964302934351 (trasmittanza termica periodica)\n",
      "f =  -304.8720991927969 (attenuazione)\n",
      "Y11 =  60.00499737531165 (ammettenza termica interna Yii)\n",
      "Y22 =  60.00499737531165 (ammettenza termica esterna Yee)\n",
      "-6.800649658790515\n",
      "-6.800649658790515\n"
     ]
    }
   ],
   "source": [
    "for z in zz:\n",
    "    Y12 = -1/z[0][1]\n",
    "    Y12 = np.sqrt((Y12.real)**2 + (Y12.imag)**2) # il modulo\n",
    "    print(\"Y12 = \", Y12, \"(trasmittanza termica periodica)\")\n",
    "\n",
    "    #f = -np.sqrt((Y12.real)**2 + (Y12.imag)**2)/(1/Rtot)\n",
    "    f = -Y12/(1/Rtot)\n",
    "    print(\"f = \", f, \"(attenuazione)\")\n",
    "    \n",
    "    Y11 = -z[0][0]/z[0][1]\n",
    "    Y11 = np.sqrt((Y11.real)**2 + (Y11.imag)**2) # il modulo\n",
    "    print(\"Y11 = \", Y11, \"(ammettenza termica interna Yii)\")\n",
    "\n",
    "    Y22 = -z[1][1]/z[0][1]\n",
    "    Y22 = np.sqrt((Y22.real)**2 + (Y22.imag)**2) # il modulo\n",
    "    print(\"Y22 = \", Y22, \"(ammettenza termica esterna Yee)\")\n",
    "    \n",
    "    print(1-Rsi*Y11)\n",
    "    print(1-Rsi*Y22)"
   ]
  },
  {
   "cell_type": "code",
   "execution_count": 305,
   "metadata": {},
   "outputs": [
    {
     "name": "stdout",
     "output_type": "stream",
     "text": [
      "Massa superficiale =  389.5\n",
      "Capacità termica areica =  [ 22500. 252000. 144480.  27000.] \n",
      "Totale =  445980.0\n"
     ]
    }
   ],
   "source": [
    "massaSuperficiale = spessori*densità\n",
    "massaSuperficialeTot = sum(massaSuperficiale)\n",
    "print(\"Massa superficiale = \", massaSuperficialeTot)\n",
    "\n",
    "capacitàTermicaAreica = spessori*densità*caloreSpecifico\n",
    "capacitàTermicaAreicaTot = sum(capacitàTermicaAreica)\n",
    "print(\"Capacità termica areica = \", capacitàTermicaAreica, \"\\nTotale = \", capacitàTermicaAreicaTot )"
   ]
  },
  {
   "cell_type": "code",
   "execution_count": 313,
   "metadata": {
    "scrolled": true
   },
   "outputs": [
    {
     "data": {
      "text/plain": [
       "{'descrizione': 'Parete in muratura con isolante interno',\n",
       " 'strati': ['Intonaco', 'Isolante RockDuo', 'Laterizio Poroton', 'Intonaco'],\n",
       " 'spessori': array([0.015, 0.14 , 0.2  , 0.015]),\n",
       " 'trasmittanze': array([0.6  , 0.035, 0.23 , 0.9  ]),\n",
       " 'mu': array([ 6.,  1., 10.,  8.]),\n",
       " 'densità': array([1500., 1200.,  860., 1800.]),\n",
       " 'caloreSpecifico': array([1000., 1500.,  840., 1000.]),\n",
       " 'Sd': array([0.09, 0.14, 2.  , 0.12]),\n",
       " 'spessoreTot': 0.37000000000000005,\n",
       " 'resistenze': array([0.13      , 0.025     , 4.        , 0.86956522, 0.01666667,\n",
       "        0.04      ]),\n",
       " 'resistenzeTot': 5.0812318840579715,\n",
       " 'temperature': array([20.        , 19.36039132, 19.23738966, -0.44287731, -4.72119622,\n",
       "        -4.80319733, -5.        ]),\n",
       " 'pressioniSaturazione': array([2336.9511438 , 2246.0142303 , 2228.88579752,  588.58885659,\n",
       "         410.85836024,  407.99024775,  401.18098135]),\n",
       " 'pressioni': array([1519.01824347, 1474.67101691, 1405.68644226,  420.19251863,\n",
       "         361.06288322]),\n",
       " 'profonditàPenetrazione': array([0.10488465, 0.02312489, 0.09357439, 0.1172646 ]),\n",
       " 'xi': array([0.14301426, 6.05408245, 2.13733704, 0.12791584]),\n",
       " 'attenuazione': <_io.TextIOWrapper name='tabella-dinamica-1a.tex' mode='w' encoding='UTF-8'>,\n",
       " 'sfasamento': 6.480885268642209,\n",
       " 'trasmittanzaTermicaPeriodica': 59.99964302934351,\n",
       " 'ammettanzaInterna': 60.00499737531165,\n",
       " 'ammettanzaEsterna': 60.00499737531165,\n",
       " 'capacitàTermicaAreica': array([ 22500., 252000., 144480.,  27000.]),\n",
       " 'massaSuperficiale': array([ 22.5, 168. , 172. ,  27. ]),\n",
       " 'massaSuperficialeTot': 389.5,\n",
       " 'capacitàTermicaAreicaTot': 445980.0}"
      ]
     },
     "execution_count": 313,
     "metadata": {},
     "output_type": "execute_result"
    }
   ],
   "source": [
    "# Salvataggio output su un nuovo dizionario\n",
    "#paretiOutput=pareti.copy()\n",
    "\n",
    "paretiOutput[parete][\"Sd\"]=Sd\n",
    "paretiOutput[parete][\"spessoreTot\"]=spessoreTot\n",
    "paretiOutput[parete][\"resistenze\"]=resistenze\n",
    "paretiOutput[parete][\"resistenzeTot\"]=Rtot\n",
    "paretiOutput[parete][\"temperature\"]=temperature\n",
    "paretiOutput[parete][\"pressioniSaturazione\"]=pressioniSaturazione\n",
    "paretiOutput[parete][\"pressioni\"]=pressioni\n",
    "paretiOutput[parete][\"profonditàPenetrazione\"]=profonditàPenetrazione\n",
    "paretiOutput[parete][\"xi\"]=xi\n",
    "paretiOutput[parete][\"attenuazione\"]=f\n",
    "paretiOutput[parete][\"sfasamento\"]=sfasamento\n",
    "paretiOutput[parete][\"trasmittanzaTermicaPeriodica\"]=Y12\n",
    "paretiOutput[parete][\"ammettanzaInterna\"]=Y11\n",
    "paretiOutput[parete][\"ammettanzaEsterna\"]=Y22\n",
    "paretiOutput[parete][\"capacitàTermicaAreica\"]=capacitàTermicaAreica\n",
    "paretiOutput[parete][\"massaSuperficiale\"]=massaSuperficiale\n",
    "paretiOutput[parete][\"massaSuperficialeTot\"]=massaSuperficialeTot\n",
    "paretiOutput[parete][\"capacitàTermicaAreicaTot\"]=capacitàTermicaAreicaTot\n",
    "\n",
    "\n",
    "paretiOutput[parete]"
   ]
  },
  {
   "cell_type": "code",
   "execution_count": 314,
   "metadata": {
    "scrolled": true
   },
   "outputs": [
    {
     "name": "stdout",
     "output_type": "stream",
     "text": [
      "Sfasamento:\n",
      "parete 1a  :  6.480885268642209\n",
      "Attenuazione:\n",
      "parete 1a  :  <_io.TextIOWrapper name='tabella-dinamica-1a.tex' mode='w' encoding='UTF-8'>\n"
     ]
    }
   ],
   "source": [
    "print(\"Sfasamento:\") \n",
    "for key in pareti.keys():\n",
    "    if \"sfasamento\" in pareti[key].keys():\n",
    "        print(\"parete\" ,key,\" : \",pareti[key][\"sfasamento\"])\n",
    "\n",
    "print(\"Attenuazione:\")        \n",
    "for key in pareti.keys():\n",
    "    if \"attenuazione\" in pareti[key].keys():\n",
    "        print(\"parete\" ,key,\" : \",pareti[key][\"attenuazione\"])        "
   ]
  },
  {
   "cell_type": "code",
   "execution_count": 322,
   "metadata": {},
   "outputs": [
    {
     "data": {
      "text/html": [
       "<div>\n",
       "<style scoped>\n",
       "    .dataframe tbody tr th:only-of-type {\n",
       "        vertical-align: middle;\n",
       "    }\n",
       "\n",
       "    .dataframe tbody tr th {\n",
       "        vertical-align: top;\n",
       "    }\n",
       "\n",
       "    .dataframe thead th {\n",
       "        text-align: right;\n",
       "    }\n",
       "</style>\n",
       "<table border=\"1\" class=\"dataframe\">\n",
       "  <thead>\n",
       "    <tr style=\"text-align: right;\">\n",
       "      <th></th>\n",
       "      <th>strati</th>\n",
       "      <th>spessori</th>\n",
       "      <th>trasmittanze</th>\n",
       "      <th>mu</th>\n",
       "    </tr>\n",
       "  </thead>\n",
       "  <tbody>\n",
       "    <tr>\n",
       "      <th>0</th>\n",
       "      <td>Intonaco</td>\n",
       "      <td>0.015</td>\n",
       "      <td>0.600</td>\n",
       "      <td>6.0</td>\n",
       "    </tr>\n",
       "    <tr>\n",
       "      <th>1</th>\n",
       "      <td>Isolante RockDuo</td>\n",
       "      <td>0.140</td>\n",
       "      <td>0.035</td>\n",
       "      <td>1.0</td>\n",
       "    </tr>\n",
       "    <tr>\n",
       "      <th>2</th>\n",
       "      <td>Laterizio Poroton</td>\n",
       "      <td>0.200</td>\n",
       "      <td>0.230</td>\n",
       "      <td>10.0</td>\n",
       "    </tr>\n",
       "    <tr>\n",
       "      <th>3</th>\n",
       "      <td>Intonaco</td>\n",
       "      <td>0.015</td>\n",
       "      <td>0.900</td>\n",
       "      <td>8.0</td>\n",
       "    </tr>\n",
       "  </tbody>\n",
       "</table>\n",
       "</div>"
      ],
      "text/plain": [
       "              strati  spessori  trasmittanze    mu\n",
       "0           Intonaco     0.015         0.600   6.0\n",
       "1   Isolante RockDuo     0.140         0.035   1.0\n",
       "2  Laterizio Poroton     0.200         0.230  10.0\n",
       "3           Intonaco     0.015         0.900   8.0"
      ]
     },
     "execution_count": 322,
     "metadata": {},
     "output_type": "execute_result"
    }
   ],
   "source": [
    "col = ['strati','spessori','trasmittanze','mu']#colonne da tenere\n",
    "df = pd.DataFrame(pareti[parete],columns=col) \n",
    "\n",
    "with open('tabella-input-'+parete+'.tex','w') as f:\n",
    "    f.write(\n",
    "            df.to_latex(\n",
    "            index=False,\n",
    "            decimal=\",\",\n",
    "            caption=pareti[parete][\"descrizione\"],\n",
    "            column_format=\"lrrr\",\n",
    "            header=[\"Strati\",\"Spessori\",\"Conduttività termica\", \"mu\"],\n",
    "            )\n",
    "        )\n",
    "    f.close()\n",
    "df   "
   ]
  },
  {
   "cell_type": "code",
   "execution_count": 316,
   "metadata": {},
   "outputs": [
    {
     "ename": "ValueError",
     "evalue": "Writing 4 cols but got 6 aliases",
     "output_type": "error",
     "traceback": [
      "\u001b[0;31m---------------------------------------------------------------------------\u001b[0m",
      "\u001b[0;31mValueError\u001b[0m                                Traceback (most recent call last)",
      "\u001b[0;32m<ipython-input-316-7f847a5e3c18>\u001b[0m in \u001b[0;36m<module>\u001b[0;34m\u001b[0m\n\u001b[0;32m----> 1\u001b[0;31m print(df.to_latex(\n\u001b[0m\u001b[1;32m      2\u001b[0m         \u001b[0mindex\u001b[0m\u001b[0;34m=\u001b[0m\u001b[0;32mFalse\u001b[0m\u001b[0;34m,\u001b[0m\u001b[0;34m\u001b[0m\u001b[0;34m\u001b[0m\u001b[0m\n\u001b[1;32m      3\u001b[0m         \u001b[0mdecimal\u001b[0m\u001b[0;34m=\u001b[0m\u001b[0;34m\",\"\u001b[0m\u001b[0;34m,\u001b[0m\u001b[0;34m\u001b[0m\u001b[0;34m\u001b[0m\u001b[0m\n\u001b[1;32m      4\u001b[0m         \u001b[0mcaption\u001b[0m\u001b[0;34m=\u001b[0m\u001b[0mpareti\u001b[0m\u001b[0;34m[\u001b[0m\u001b[0mparete\u001b[0m\u001b[0;34m]\u001b[0m\u001b[0;34m[\u001b[0m\u001b[0;34m\"descrizione\"\u001b[0m\u001b[0;34m]\u001b[0m\u001b[0;34m,\u001b[0m\u001b[0;34m\u001b[0m\u001b[0;34m\u001b[0m\u001b[0m\n\u001b[1;32m      5\u001b[0m         \u001b[0mcolumn_format\u001b[0m\u001b[0;34m=\u001b[0m\u001b[0;34m\"SSSSSS\"\u001b[0m\u001b[0;34m,\u001b[0m\u001b[0;34m\u001b[0m\u001b[0;34m\u001b[0m\u001b[0m\n",
      "\u001b[0;32m~/miniconda3/lib/python3.8/site-packages/pandas/core/generic.py\u001b[0m in \u001b[0;36mto_latex\u001b[0;34m(self, buf, columns, col_space, header, index, na_rep, formatters, float_format, sparsify, index_names, bold_rows, column_format, longtable, escape, encoding, decimal, multicolumn, multicolumn_format, multirow, caption, label)\u001b[0m\n\u001b[1;32m   2980\u001b[0m             \u001b[0mdecimal\u001b[0m\u001b[0;34m=\u001b[0m\u001b[0mdecimal\u001b[0m\u001b[0;34m,\u001b[0m\u001b[0;34m\u001b[0m\u001b[0;34m\u001b[0m\u001b[0m\n\u001b[1;32m   2981\u001b[0m         )\n\u001b[0;32m-> 2982\u001b[0;31m         return formatter.to_latex(\n\u001b[0m\u001b[1;32m   2983\u001b[0m             \u001b[0mbuf\u001b[0m\u001b[0;34m=\u001b[0m\u001b[0mbuf\u001b[0m\u001b[0;34m,\u001b[0m\u001b[0;34m\u001b[0m\u001b[0;34m\u001b[0m\u001b[0m\n\u001b[1;32m   2984\u001b[0m             \u001b[0mcolumn_format\u001b[0m\u001b[0;34m=\u001b[0m\u001b[0mcolumn_format\u001b[0m\u001b[0;34m,\u001b[0m\u001b[0;34m\u001b[0m\u001b[0;34m\u001b[0m\u001b[0m\n",
      "\u001b[0;32m~/miniconda3/lib/python3.8/site-packages/pandas/io/formats/format.py\u001b[0m in \u001b[0;36mto_latex\u001b[0;34m(self, buf, column_format, longtable, encoding, multicolumn, multicolumn_format, multirow, caption, label)\u001b[0m\n\u001b[1;32m    938\u001b[0m         \u001b[0;32mfrom\u001b[0m \u001b[0mpandas\u001b[0m\u001b[0;34m.\u001b[0m\u001b[0mio\u001b[0m\u001b[0;34m.\u001b[0m\u001b[0mformats\u001b[0m\u001b[0;34m.\u001b[0m\u001b[0mlatex\u001b[0m \u001b[0;32mimport\u001b[0m \u001b[0mLatexFormatter\u001b[0m\u001b[0;34m\u001b[0m\u001b[0;34m\u001b[0m\u001b[0m\n\u001b[1;32m    939\u001b[0m \u001b[0;34m\u001b[0m\u001b[0m\n\u001b[0;32m--> 940\u001b[0;31m         return LatexFormatter(\n\u001b[0m\u001b[1;32m    941\u001b[0m             \u001b[0mself\u001b[0m\u001b[0;34m,\u001b[0m\u001b[0;34m\u001b[0m\u001b[0;34m\u001b[0m\u001b[0m\n\u001b[1;32m    942\u001b[0m             \u001b[0mcolumn_format\u001b[0m\u001b[0;34m=\u001b[0m\u001b[0mcolumn_format\u001b[0m\u001b[0;34m,\u001b[0m\u001b[0;34m\u001b[0m\u001b[0;34m\u001b[0m\u001b[0m\n",
      "\u001b[0;32m~/miniconda3/lib/python3.8/site-packages/pandas/io/formats/format.py\u001b[0m in \u001b[0;36mget_result\u001b[0;34m(self, buf, encoding)\u001b[0m\n\u001b[1;32m    518\u001b[0m         \"\"\"\n\u001b[1;32m    519\u001b[0m         \u001b[0;32mwith\u001b[0m \u001b[0mself\u001b[0m\u001b[0;34m.\u001b[0m\u001b[0mget_buffer\u001b[0m\u001b[0;34m(\u001b[0m\u001b[0mbuf\u001b[0m\u001b[0;34m,\u001b[0m \u001b[0mencoding\u001b[0m\u001b[0;34m=\u001b[0m\u001b[0mencoding\u001b[0m\u001b[0;34m)\u001b[0m \u001b[0;32mas\u001b[0m \u001b[0mf\u001b[0m\u001b[0;34m:\u001b[0m\u001b[0;34m\u001b[0m\u001b[0;34m\u001b[0m\u001b[0m\n\u001b[0;32m--> 520\u001b[0;31m             \u001b[0mself\u001b[0m\u001b[0;34m.\u001b[0m\u001b[0mwrite_result\u001b[0m\u001b[0;34m(\u001b[0m\u001b[0mbuf\u001b[0m\u001b[0;34m=\u001b[0m\u001b[0mf\u001b[0m\u001b[0;34m)\u001b[0m\u001b[0;34m\u001b[0m\u001b[0;34m\u001b[0m\u001b[0m\n\u001b[0m\u001b[1;32m    521\u001b[0m             \u001b[0;32mif\u001b[0m \u001b[0mbuf\u001b[0m \u001b[0;32mis\u001b[0m \u001b[0;32mNone\u001b[0m\u001b[0;34m:\u001b[0m\u001b[0;34m\u001b[0m\u001b[0;34m\u001b[0m\u001b[0m\n\u001b[1;32m    522\u001b[0m                 \u001b[0;32mreturn\u001b[0m \u001b[0mf\u001b[0m\u001b[0;34m.\u001b[0m\u001b[0mgetvalue\u001b[0m\u001b[0;34m(\u001b[0m\u001b[0;34m)\u001b[0m\u001b[0;34m\u001b[0m\u001b[0;34m\u001b[0m\u001b[0m\n",
      "\u001b[0;32m~/miniconda3/lib/python3.8/site-packages/pandas/io/formats/latex.py\u001b[0m in \u001b[0;36mwrite_result\u001b[0;34m(self, buf)\u001b[0m\n\u001b[1;32m     66\u001b[0m             \u001b[0mstrcols\u001b[0m \u001b[0;34m=\u001b[0m \u001b[0;34m[\u001b[0m\u001b[0;34m[\u001b[0m\u001b[0minfo_line\u001b[0m\u001b[0;34m]\u001b[0m\u001b[0;34m]\u001b[0m\u001b[0;34m\u001b[0m\u001b[0;34m\u001b[0m\u001b[0m\n\u001b[1;32m     67\u001b[0m         \u001b[0;32melse\u001b[0m\u001b[0;34m:\u001b[0m\u001b[0;34m\u001b[0m\u001b[0;34m\u001b[0m\u001b[0m\n\u001b[0;32m---> 68\u001b[0;31m             \u001b[0mstrcols\u001b[0m \u001b[0;34m=\u001b[0m \u001b[0mself\u001b[0m\u001b[0;34m.\u001b[0m\u001b[0mfmt\u001b[0m\u001b[0;34m.\u001b[0m\u001b[0m_to_str_columns\u001b[0m\u001b[0;34m(\u001b[0m\u001b[0;34m)\u001b[0m\u001b[0;34m\u001b[0m\u001b[0;34m\u001b[0m\u001b[0m\n\u001b[0m\u001b[1;32m     69\u001b[0m \u001b[0;34m\u001b[0m\u001b[0m\n\u001b[1;32m     70\u001b[0m         \u001b[0;32mdef\u001b[0m \u001b[0mget_col_type\u001b[0m\u001b[0;34m(\u001b[0m\u001b[0mdtype\u001b[0m\u001b[0;34m)\u001b[0m\u001b[0;34m:\u001b[0m\u001b[0;34m\u001b[0m\u001b[0;34m\u001b[0m\u001b[0m\n",
      "\u001b[0;32m~/miniconda3/lib/python3.8/site-packages/pandas/io/formats/format.py\u001b[0m in \u001b[0;36m_to_str_columns\u001b[0;34m(self)\u001b[0m\n\u001b[1;32m    750\u001b[0m                 \u001b[0mself\u001b[0m\u001b[0;34m.\u001b[0m\u001b[0mheader\u001b[0m \u001b[0;34m=\u001b[0m \u001b[0mcast\u001b[0m\u001b[0;34m(\u001b[0m\u001b[0mList\u001b[0m\u001b[0;34m[\u001b[0m\u001b[0mstr\u001b[0m\u001b[0;34m]\u001b[0m\u001b[0;34m,\u001b[0m \u001b[0mself\u001b[0m\u001b[0;34m.\u001b[0m\u001b[0mheader\u001b[0m\u001b[0;34m)\u001b[0m\u001b[0;34m\u001b[0m\u001b[0;34m\u001b[0m\u001b[0m\n\u001b[1;32m    751\u001b[0m                 \u001b[0;32mif\u001b[0m \u001b[0mlen\u001b[0m\u001b[0;34m(\u001b[0m\u001b[0mself\u001b[0m\u001b[0;34m.\u001b[0m\u001b[0mheader\u001b[0m\u001b[0;34m)\u001b[0m \u001b[0;34m!=\u001b[0m \u001b[0mlen\u001b[0m\u001b[0;34m(\u001b[0m\u001b[0mself\u001b[0m\u001b[0;34m.\u001b[0m\u001b[0mcolumns\u001b[0m\u001b[0;34m)\u001b[0m\u001b[0;34m:\u001b[0m\u001b[0;34m\u001b[0m\u001b[0;34m\u001b[0m\u001b[0m\n\u001b[0;32m--> 752\u001b[0;31m                     raise ValueError(\n\u001b[0m\u001b[1;32m    753\u001b[0m                         \u001b[0;34mf\"Writing {len(self.columns)} cols \"\u001b[0m\u001b[0;34m\u001b[0m\u001b[0;34m\u001b[0m\u001b[0m\n\u001b[1;32m    754\u001b[0m                         \u001b[0;34mf\"but got {len(self.header)} aliases\"\u001b[0m\u001b[0;34m\u001b[0m\u001b[0;34m\u001b[0m\u001b[0m\n",
      "\u001b[0;31mValueError\u001b[0m: Writing 4 cols but got 6 aliases"
     ]
    }
   ],
   "source": [
    "print(df.to_latex(\n",
    "        index=False,\n",
    "        decimal=\",\",\n",
    "        caption=pareti[parete][\"descrizione\"],\n",
    "        column_format=\"SSSSSS\",\n",
    "        header=[\"Strati\",\"Spessori\",\"Trasmittanze\", \"mu\",\"Densità\",\"Calore Specifico\"],\n",
    "        )\n",
    "     )"
   ]
  },
  {
   "cell_type": "code",
   "execution_count": null,
   "metadata": {},
   "outputs": [],
   "source": []
  },
  {
   "cell_type": "code",
   "execution_count": 317,
   "metadata": {},
   "outputs": [
    {
     "data": {
      "text/html": [
       "<div>\n",
       "<style scoped>\n",
       "    .dataframe tbody tr th:only-of-type {\n",
       "        vertical-align: middle;\n",
       "    }\n",
       "\n",
       "    .dataframe tbody tr th {\n",
       "        vertical-align: top;\n",
       "    }\n",
       "\n",
       "    .dataframe thead th {\n",
       "        text-align: right;\n",
       "    }\n",
       "</style>\n",
       "<table border=\"1\" class=\"dataframe\">\n",
       "  <thead>\n",
       "    <tr style=\"text-align: right;\">\n",
       "      <th></th>\n",
       "      <th>1a</th>\n",
       "      <th>1b</th>\n",
       "      <th>2</th>\n",
       "      <th>3a</th>\n",
       "      <th>3b</th>\n",
       "      <th>3c</th>\n",
       "    </tr>\n",
       "  </thead>\n",
       "  <tbody>\n",
       "    <tr>\n",
       "      <th>descrizione</th>\n",
       "      <td>Parete in muratura con isolante interno</td>\n",
       "      <td>Parete in muratura con isolante esterno</td>\n",
       "      <td>Parete della struttura a telaio CA, nella zona...</td>\n",
       "      <td>Perete in X-LAM con isolante bassa densità NOME</td>\n",
       "      <td>Perete in X-LAM con isolante bassa densità lan...</td>\n",
       "      <td>Perete in X-LAM con isolante alta densità fibr...</td>\n",
       "    </tr>\n",
       "    <tr>\n",
       "      <th>strati</th>\n",
       "      <td>[Intonaco, Isolante RockDuo, Laterizio Poroton...</td>\n",
       "      <td>[Intonaco, Laterizio Poroton, Isolante RockDuo...</td>\n",
       "      <td>[Gessofibra, Isolante impianti, Laterizio Biop...</td>\n",
       "      <td>[Gessofibra, X-LAM KLH, Isolante bassa densità...</td>\n",
       "      <td>[Gessofibra, X-LAM KLH, Isolante ventirockduo,...</td>\n",
       "      <td>[Gessofibra, X-LAM KLH, Isolante alta densità ...</td>\n",
       "    </tr>\n",
       "    <tr>\n",
       "      <th>spessori</th>\n",
       "      <td>[0.015, 0.14, 0.2, 0.015]</td>\n",
       "      <td>[0.015, 0.2, 0.14, 0.015]</td>\n",
       "      <td>[0.025, 0.027, 0.2, 0.14, 0.015]</td>\n",
       "      <td>[0.013, 0.096, 0.12, 0.015]</td>\n",
       "      <td>[0.013, 0.096, 0.105, 0.015]</td>\n",
       "      <td>[0.013, 0.096, 0.13, 0.015]</td>\n",
       "    </tr>\n",
       "    <tr>\n",
       "      <th>trasmittanze</th>\n",
       "      <td>[0.6, 0.035, 0.23, 0.9]</td>\n",
       "      <td>[0.6, 0.23, 0.035, 0.9]</td>\n",
       "      <td>[1.8, 0.04, 1.0]</td>\n",
       "      <td>[0.21, 0.13, 0.038, 0.9]</td>\n",
       "      <td>[0.21, 0.13, 0.035, 0.9]</td>\n",
       "      <td>[0.21, 0.13, 0.043, 0.9]</td>\n",
       "    </tr>\n",
       "    <tr>\n",
       "      <th>mu</th>\n",
       "      <td>[6.0, 1.0, 10.0, 8.0]</td>\n",
       "      <td>[6.0, 10.0, 1.0, 8.0]</td>\n",
       "      <td>[6.0, 10.0, 8.0]</td>\n",
       "      <td>[5.0, 25.0, 1.0, 20.0]</td>\n",
       "      <td>[5.0, 25.0, 1.0, 20.0]</td>\n",
       "      <td>[5.0, 25.0, 5.0, 20.0]</td>\n",
       "    </tr>\n",
       "    <tr>\n",
       "      <th>densità</th>\n",
       "      <td>[1500.0, 1200.0, 860.0, 1800.0]</td>\n",
       "      <td>[1500.0, 860.0, 1200.0, 1800.0]</td>\n",
       "      <td>[2400.0, 30.0, 1200.0]</td>\n",
       "      <td>[1150.0, 500.0, 50.0, 1800.0]</td>\n",
       "      <td>[1150.0, 500.0, 70.0, 1800.0]</td>\n",
       "      <td>[1150.0, 500.0, 190.0, 1800.0]</td>\n",
       "    </tr>\n",
       "    <tr>\n",
       "      <th>caloreSpecifico</th>\n",
       "      <td>[1000.0, 1500.0, 840.0, 1000.0]</td>\n",
       "      <td>[1000.0, 840.0, 1500.0, 1000.0]</td>\n",
       "      <td>[1000.0, 1400.0, 1500.0]</td>\n",
       "      <td>[1100.0, 1600.0, 2100.0, 1000.0]</td>\n",
       "      <td>[1100.0, 1600.0, 1030.0, 1000.0]</td>\n",
       "      <td>[1100.0, 1600.0, 2100.0, 1000.0]</td>\n",
       "    </tr>\n",
       "    <tr>\n",
       "      <th>Sd</th>\n",
       "      <td>[0.09, 0.14, 2.0, 0.12]</td>\n",
       "      <td>NaN</td>\n",
       "      <td>NaN</td>\n",
       "      <td>NaN</td>\n",
       "      <td>NaN</td>\n",
       "      <td>NaN</td>\n",
       "    </tr>\n",
       "    <tr>\n",
       "      <th>spessoreTot</th>\n",
       "      <td>0.37</td>\n",
       "      <td>NaN</td>\n",
       "      <td>NaN</td>\n",
       "      <td>NaN</td>\n",
       "      <td>NaN</td>\n",
       "      <td>NaN</td>\n",
       "    </tr>\n",
       "    <tr>\n",
       "      <th>resistenze</th>\n",
       "      <td>[0.13, 0.025, 4.0, 0.8695652173913043, 0.01666...</td>\n",
       "      <td>NaN</td>\n",
       "      <td>NaN</td>\n",
       "      <td>NaN</td>\n",
       "      <td>NaN</td>\n",
       "      <td>NaN</td>\n",
       "    </tr>\n",
       "    <tr>\n",
       "      <th>resistenzeTot</th>\n",
       "      <td>5.08123</td>\n",
       "      <td>NaN</td>\n",
       "      <td>NaN</td>\n",
       "      <td>NaN</td>\n",
       "      <td>NaN</td>\n",
       "      <td>NaN</td>\n",
       "    </tr>\n",
       "    <tr>\n",
       "      <th>temperature</th>\n",
       "      <td>[20.0, 19.36039132356926, 19.237389655024884, ...</td>\n",
       "      <td>NaN</td>\n",
       "      <td>NaN</td>\n",
       "      <td>NaN</td>\n",
       "      <td>NaN</td>\n",
       "      <td>NaN</td>\n",
       "    </tr>\n",
       "    <tr>\n",
       "      <th>pressioniSaturazione</th>\n",
       "      <td>[2336.951143802342, 2246.014230303399, 2228.88...</td>\n",
       "      <td>NaN</td>\n",
       "      <td>NaN</td>\n",
       "      <td>NaN</td>\n",
       "      <td>NaN</td>\n",
       "      <td>NaN</td>\n",
       "    </tr>\n",
       "    <tr>\n",
       "      <th>pressioni</th>\n",
       "      <td>[1519.0182434715223, 1474.6710169085636, 1405....</td>\n",
       "      <td>NaN</td>\n",
       "      <td>NaN</td>\n",
       "      <td>NaN</td>\n",
       "      <td>NaN</td>\n",
       "      <td>NaN</td>\n",
       "    </tr>\n",
       "    <tr>\n",
       "      <th>profonditàPenetrazione</th>\n",
       "      <td>[0.10488464933683958, 0.023124891541124435, 0....</td>\n",
       "      <td>NaN</td>\n",
       "      <td>NaN</td>\n",
       "      <td>NaN</td>\n",
       "      <td>NaN</td>\n",
       "      <td>NaN</td>\n",
       "    </tr>\n",
       "    <tr>\n",
       "      <th>xi</th>\n",
       "      <td>[0.1430142551349639, 6.0540824483881055, 2.137...</td>\n",
       "      <td>NaN</td>\n",
       "      <td>NaN</td>\n",
       "      <td>NaN</td>\n",
       "      <td>NaN</td>\n",
       "      <td>NaN</td>\n",
       "    </tr>\n",
       "    <tr>\n",
       "      <th>attenuazione</th>\n",
       "      <td>&lt;_io.TextIOWrapper name='tabella-dinamica-1a.t...</td>\n",
       "      <td>NaN</td>\n",
       "      <td>NaN</td>\n",
       "      <td>NaN</td>\n",
       "      <td>NaN</td>\n",
       "      <td>NaN</td>\n",
       "    </tr>\n",
       "    <tr>\n",
       "      <th>sfasamento</th>\n",
       "      <td>6.48089</td>\n",
       "      <td>NaN</td>\n",
       "      <td>NaN</td>\n",
       "      <td>NaN</td>\n",
       "      <td>NaN</td>\n",
       "      <td>NaN</td>\n",
       "    </tr>\n",
       "    <tr>\n",
       "      <th>trasmittanzaTermicaPeriodica</th>\n",
       "      <td>59.9996</td>\n",
       "      <td>NaN</td>\n",
       "      <td>NaN</td>\n",
       "      <td>NaN</td>\n",
       "      <td>NaN</td>\n",
       "      <td>NaN</td>\n",
       "    </tr>\n",
       "    <tr>\n",
       "      <th>ammettanzaInterna</th>\n",
       "      <td>60.005</td>\n",
       "      <td>NaN</td>\n",
       "      <td>NaN</td>\n",
       "      <td>NaN</td>\n",
       "      <td>NaN</td>\n",
       "      <td>NaN</td>\n",
       "    </tr>\n",
       "    <tr>\n",
       "      <th>ammettanzaEsterna</th>\n",
       "      <td>60.005</td>\n",
       "      <td>NaN</td>\n",
       "      <td>NaN</td>\n",
       "      <td>NaN</td>\n",
       "      <td>NaN</td>\n",
       "      <td>NaN</td>\n",
       "    </tr>\n",
       "    <tr>\n",
       "      <th>capacitàTermicaAreica</th>\n",
       "      <td>[22500.0, 252000.00000000003, 144480.0, 27000.0]</td>\n",
       "      <td>NaN</td>\n",
       "      <td>NaN</td>\n",
       "      <td>NaN</td>\n",
       "      <td>NaN</td>\n",
       "      <td>NaN</td>\n",
       "    </tr>\n",
       "    <tr>\n",
       "      <th>massaSuperficiale</th>\n",
       "      <td>[22.5, 168.00000000000003, 172.0, 27.0]</td>\n",
       "      <td>NaN</td>\n",
       "      <td>NaN</td>\n",
       "      <td>NaN</td>\n",
       "      <td>NaN</td>\n",
       "      <td>NaN</td>\n",
       "    </tr>\n",
       "    <tr>\n",
       "      <th>massaSuperficialeTot</th>\n",
       "      <td>389.5</td>\n",
       "      <td>NaN</td>\n",
       "      <td>NaN</td>\n",
       "      <td>NaN</td>\n",
       "      <td>NaN</td>\n",
       "      <td>NaN</td>\n",
       "    </tr>\n",
       "    <tr>\n",
       "      <th>capacitàTermicaAreicaTot</th>\n",
       "      <td>445980</td>\n",
       "      <td>NaN</td>\n",
       "      <td>NaN</td>\n",
       "      <td>NaN</td>\n",
       "      <td>NaN</td>\n",
       "      <td>NaN</td>\n",
       "    </tr>\n",
       "  </tbody>\n",
       "</table>\n",
       "</div>"
      ],
      "text/plain": [
       "                                                                             1a  \\\n",
       "descrizione                             Parete in muratura con isolante interno   \n",
       "strati                        [Intonaco, Isolante RockDuo, Laterizio Poroton...   \n",
       "spessori                                              [0.015, 0.14, 0.2, 0.015]   \n",
       "trasmittanze                                            [0.6, 0.035, 0.23, 0.9]   \n",
       "mu                                                        [6.0, 1.0, 10.0, 8.0]   \n",
       "densità                                         [1500.0, 1200.0, 860.0, 1800.0]   \n",
       "caloreSpecifico                                 [1000.0, 1500.0, 840.0, 1000.0]   \n",
       "Sd                                                      [0.09, 0.14, 2.0, 0.12]   \n",
       "spessoreTot                                                                0.37   \n",
       "resistenze                    [0.13, 0.025, 4.0, 0.8695652173913043, 0.01666...   \n",
       "resistenzeTot                                                           5.08123   \n",
       "temperature                   [20.0, 19.36039132356926, 19.237389655024884, ...   \n",
       "pressioniSaturazione          [2336.951143802342, 2246.014230303399, 2228.88...   \n",
       "pressioni                     [1519.0182434715223, 1474.6710169085636, 1405....   \n",
       "profonditàPenetrazione        [0.10488464933683958, 0.023124891541124435, 0....   \n",
       "xi                            [0.1430142551349639, 6.0540824483881055, 2.137...   \n",
       "attenuazione                  <_io.TextIOWrapper name='tabella-dinamica-1a.t...   \n",
       "sfasamento                                                              6.48089   \n",
       "trasmittanzaTermicaPeriodica                                            59.9996   \n",
       "ammettanzaInterna                                                        60.005   \n",
       "ammettanzaEsterna                                                        60.005   \n",
       "capacitàTermicaAreica          [22500.0, 252000.00000000003, 144480.0, 27000.0]   \n",
       "massaSuperficiale                       [22.5, 168.00000000000003, 172.0, 27.0]   \n",
       "massaSuperficialeTot                                                      389.5   \n",
       "capacitàTermicaAreicaTot                                                 445980   \n",
       "\n",
       "                                                                             1b  \\\n",
       "descrizione                             Parete in muratura con isolante esterno   \n",
       "strati                        [Intonaco, Laterizio Poroton, Isolante RockDuo...   \n",
       "spessori                                              [0.015, 0.2, 0.14, 0.015]   \n",
       "trasmittanze                                            [0.6, 0.23, 0.035, 0.9]   \n",
       "mu                                                        [6.0, 10.0, 1.0, 8.0]   \n",
       "densità                                         [1500.0, 860.0, 1200.0, 1800.0]   \n",
       "caloreSpecifico                                 [1000.0, 840.0, 1500.0, 1000.0]   \n",
       "Sd                                                                          NaN   \n",
       "spessoreTot                                                                 NaN   \n",
       "resistenze                                                                  NaN   \n",
       "resistenzeTot                                                               NaN   \n",
       "temperature                                                                 NaN   \n",
       "pressioniSaturazione                                                        NaN   \n",
       "pressioni                                                                   NaN   \n",
       "profonditàPenetrazione                                                      NaN   \n",
       "xi                                                                          NaN   \n",
       "attenuazione                                                                NaN   \n",
       "sfasamento                                                                  NaN   \n",
       "trasmittanzaTermicaPeriodica                                                NaN   \n",
       "ammettanzaInterna                                                           NaN   \n",
       "ammettanzaEsterna                                                           NaN   \n",
       "capacitàTermicaAreica                                                       NaN   \n",
       "massaSuperficiale                                                           NaN   \n",
       "massaSuperficialeTot                                                        NaN   \n",
       "capacitàTermicaAreicaTot                                                    NaN   \n",
       "\n",
       "                                                                              2  \\\n",
       "descrizione                   Parete della struttura a telaio CA, nella zona...   \n",
       "strati                        [Gessofibra, Isolante impianti, Laterizio Biop...   \n",
       "spessori                                       [0.025, 0.027, 0.2, 0.14, 0.015]   \n",
       "trasmittanze                                                   [1.8, 0.04, 1.0]   \n",
       "mu                                                             [6.0, 10.0, 8.0]   \n",
       "densità                                                  [2400.0, 30.0, 1200.0]   \n",
       "caloreSpecifico                                        [1000.0, 1400.0, 1500.0]   \n",
       "Sd                                                                          NaN   \n",
       "spessoreTot                                                                 NaN   \n",
       "resistenze                                                                  NaN   \n",
       "resistenzeTot                                                               NaN   \n",
       "temperature                                                                 NaN   \n",
       "pressioniSaturazione                                                        NaN   \n",
       "pressioni                                                                   NaN   \n",
       "profonditàPenetrazione                                                      NaN   \n",
       "xi                                                                          NaN   \n",
       "attenuazione                                                                NaN   \n",
       "sfasamento                                                                  NaN   \n",
       "trasmittanzaTermicaPeriodica                                                NaN   \n",
       "ammettanzaInterna                                                           NaN   \n",
       "ammettanzaEsterna                                                           NaN   \n",
       "capacitàTermicaAreica                                                       NaN   \n",
       "massaSuperficiale                                                           NaN   \n",
       "massaSuperficialeTot                                                        NaN   \n",
       "capacitàTermicaAreicaTot                                                    NaN   \n",
       "\n",
       "                                                                             3a  \\\n",
       "descrizione                     Perete in X-LAM con isolante bassa densità NOME   \n",
       "strati                        [Gessofibra, X-LAM KLH, Isolante bassa densità...   \n",
       "spessori                                            [0.013, 0.096, 0.12, 0.015]   \n",
       "trasmittanze                                           [0.21, 0.13, 0.038, 0.9]   \n",
       "mu                                                       [5.0, 25.0, 1.0, 20.0]   \n",
       "densità                                           [1150.0, 500.0, 50.0, 1800.0]   \n",
       "caloreSpecifico                                [1100.0, 1600.0, 2100.0, 1000.0]   \n",
       "Sd                                                                          NaN   \n",
       "spessoreTot                                                                 NaN   \n",
       "resistenze                                                                  NaN   \n",
       "resistenzeTot                                                               NaN   \n",
       "temperature                                                                 NaN   \n",
       "pressioniSaturazione                                                        NaN   \n",
       "pressioni                                                                   NaN   \n",
       "profonditàPenetrazione                                                      NaN   \n",
       "xi                                                                          NaN   \n",
       "attenuazione                                                                NaN   \n",
       "sfasamento                                                                  NaN   \n",
       "trasmittanzaTermicaPeriodica                                                NaN   \n",
       "ammettanzaInterna                                                           NaN   \n",
       "ammettanzaEsterna                                                           NaN   \n",
       "capacitàTermicaAreica                                                       NaN   \n",
       "massaSuperficiale                                                           NaN   \n",
       "massaSuperficialeTot                                                        NaN   \n",
       "capacitàTermicaAreicaTot                                                    NaN   \n",
       "\n",
       "                                                                             3b  \\\n",
       "descrizione                   Perete in X-LAM con isolante bassa densità lan...   \n",
       "strati                        [Gessofibra, X-LAM KLH, Isolante ventirockduo,...   \n",
       "spessori                                           [0.013, 0.096, 0.105, 0.015]   \n",
       "trasmittanze                                           [0.21, 0.13, 0.035, 0.9]   \n",
       "mu                                                       [5.0, 25.0, 1.0, 20.0]   \n",
       "densità                                           [1150.0, 500.0, 70.0, 1800.0]   \n",
       "caloreSpecifico                                [1100.0, 1600.0, 1030.0, 1000.0]   \n",
       "Sd                                                                          NaN   \n",
       "spessoreTot                                                                 NaN   \n",
       "resistenze                                                                  NaN   \n",
       "resistenzeTot                                                               NaN   \n",
       "temperature                                                                 NaN   \n",
       "pressioniSaturazione                                                        NaN   \n",
       "pressioni                                                                   NaN   \n",
       "profonditàPenetrazione                                                      NaN   \n",
       "xi                                                                          NaN   \n",
       "attenuazione                                                                NaN   \n",
       "sfasamento                                                                  NaN   \n",
       "trasmittanzaTermicaPeriodica                                                NaN   \n",
       "ammettanzaInterna                                                           NaN   \n",
       "ammettanzaEsterna                                                           NaN   \n",
       "capacitàTermicaAreica                                                       NaN   \n",
       "massaSuperficiale                                                           NaN   \n",
       "massaSuperficialeTot                                                        NaN   \n",
       "capacitàTermicaAreicaTot                                                    NaN   \n",
       "\n",
       "                                                                             3c  \n",
       "descrizione                   Perete in X-LAM con isolante alta densità fibr...  \n",
       "strati                        [Gessofibra, X-LAM KLH, Isolante alta densità ...  \n",
       "spessori                                            [0.013, 0.096, 0.13, 0.015]  \n",
       "trasmittanze                                           [0.21, 0.13, 0.043, 0.9]  \n",
       "mu                                                       [5.0, 25.0, 5.0, 20.0]  \n",
       "densità                                          [1150.0, 500.0, 190.0, 1800.0]  \n",
       "caloreSpecifico                                [1100.0, 1600.0, 2100.0, 1000.0]  \n",
       "Sd                                                                          NaN  \n",
       "spessoreTot                                                                 NaN  \n",
       "resistenze                                                                  NaN  \n",
       "resistenzeTot                                                               NaN  \n",
       "temperature                                                                 NaN  \n",
       "pressioniSaturazione                                                        NaN  \n",
       "pressioni                                                                   NaN  \n",
       "profonditàPenetrazione                                                      NaN  \n",
       "xi                                                                          NaN  \n",
       "attenuazione                                                                NaN  \n",
       "sfasamento                                                                  NaN  \n",
       "trasmittanzaTermicaPeriodica                                                NaN  \n",
       "ammettanzaInterna                                                           NaN  \n",
       "ammettanzaEsterna                                                           NaN  \n",
       "capacitàTermicaAreica                                                       NaN  \n",
       "massaSuperficiale                                                           NaN  \n",
       "massaSuperficialeTot                                                        NaN  \n",
       "capacitàTermicaAreicaTot                                                    NaN  "
      ]
     },
     "execution_count": 317,
     "metadata": {},
     "output_type": "execute_result"
    }
   ],
   "source": [
    "totalDF = pd.DataFrame(pareti)\n",
    "totalDF"
   ]
  },
  {
   "cell_type": "code",
   "execution_count": 340,
   "metadata": {},
   "outputs": [
    {
     "data": {
      "text/html": [
       "<div>\n",
       "<style scoped>\n",
       "    .dataframe tbody tr th:only-of-type {\n",
       "        vertical-align: middle;\n",
       "    }\n",
       "\n",
       "    .dataframe tbody tr th {\n",
       "        vertical-align: top;\n",
       "    }\n",
       "\n",
       "    .dataframe thead th {\n",
       "        text-align: right;\n",
       "    }\n",
       "</style>\n",
       "<table border=\"1\" class=\"dataframe\">\n",
       "  <thead>\n",
       "    <tr style=\"text-align: right;\">\n",
       "      <th></th>\n",
       "      <th>strati</th>\n",
       "      <th>spessori</th>\n",
       "      <th>densità</th>\n",
       "      <th>caloreSpecifico</th>\n",
       "      <th>massaSuperficiale</th>\n",
       "      <th>profonditàPenetrazione</th>\n",
       "      <th>xi</th>\n",
       "    </tr>\n",
       "  </thead>\n",
       "  <tbody>\n",
       "    <tr>\n",
       "      <th>0</th>\n",
       "      <td>Intonaco</td>\n",
       "      <td>0.015</td>\n",
       "      <td>1500.0</td>\n",
       "      <td>1000.0</td>\n",
       "      <td>22.5</td>\n",
       "      <td>0.104885</td>\n",
       "      <td>0.143014</td>\n",
       "    </tr>\n",
       "    <tr>\n",
       "      <th>1</th>\n",
       "      <td>Isolante RockDuo</td>\n",
       "      <td>0.140</td>\n",
       "      <td>1200.0</td>\n",
       "      <td>1500.0</td>\n",
       "      <td>168.0</td>\n",
       "      <td>0.023125</td>\n",
       "      <td>6.054082</td>\n",
       "    </tr>\n",
       "    <tr>\n",
       "      <th>2</th>\n",
       "      <td>Laterizio Poroton</td>\n",
       "      <td>0.200</td>\n",
       "      <td>860.0</td>\n",
       "      <td>840.0</td>\n",
       "      <td>172.0</td>\n",
       "      <td>0.093574</td>\n",
       "      <td>2.137337</td>\n",
       "    </tr>\n",
       "    <tr>\n",
       "      <th>3</th>\n",
       "      <td>Intonaco</td>\n",
       "      <td>0.015</td>\n",
       "      <td>1800.0</td>\n",
       "      <td>1000.0</td>\n",
       "      <td>27.0</td>\n",
       "      <td>0.117265</td>\n",
       "      <td>0.127916</td>\n",
       "    </tr>\n",
       "  </tbody>\n",
       "</table>\n",
       "</div>"
      ],
      "text/plain": [
       "              strati  spessori  densità  caloreSpecifico  massaSuperficiale  \\\n",
       "0           Intonaco     0.015   1500.0           1000.0               22.5   \n",
       "1   Isolante RockDuo     0.140   1200.0           1500.0              168.0   \n",
       "2  Laterizio Poroton     0.200    860.0            840.0              172.0   \n",
       "3           Intonaco     0.015   1800.0           1000.0               27.0   \n",
       "\n",
       "   profonditàPenetrazione        xi  \n",
       "0                0.104885  0.143014  \n",
       "1                0.023125  6.054082  \n",
       "2                0.093574  2.137337  \n",
       "3                0.117265  0.127916  "
      ]
     },
     "execution_count": 340,
     "metadata": {},
     "output_type": "execute_result"
    }
   ],
   "source": [
    "col = ['strati','spessori','densità','caloreSpecifico','massaSuperficiale','profonditàPenetrazione','xi']#colonne da tenere\n",
    "df = pd.DataFrame(pareti[parete],columns=col) \n",
    "\n",
    "with open('tabella-dinamica-'+parete+'.tex','w') as f:\n",
    "    f.write(\n",
    "            df.to_latex(\n",
    "            index=False,\n",
    "            decimal=\",\",\n",
    "            caption=pareti[parete][\"descrizione\"],\n",
    "            column_format=\"lrrrrrr\",\n",
    "            header=[\"Strati\",\"Spessori\",\"Densità\", \"Calore specifico\",\"Massa superficiale\",\"Profondità di Penetrazione\",\"xi\"],\n",
    "            )\n",
    "        )  \n",
    "    f.write(\"\\n\\\\begin{align}\\n\")\n",
    "    f.write(\"\\\\text{Massa superficiale totale} &= \\SI{\")\n",
    "    f.write(str(massaSuperficialeTot))\n",
    "    f.write(\"}{\\\\kilo\\\\gram}\\\\\\\\\\n\")\n",
    "    f.write(\"\\\\text{Sfasamento} &= \\SI{\")\n",
    "    f.write(str(sfasamento))\n",
    "    f.write(\"}{\\\\hour}\\\\\\\\\\n\")\n",
    "    f.write(\"\\\\end{align}\")\n",
    "    f.close()\n",
    "df   "
   ]
  },
  {
   "cell_type": "code",
   "execution_count": 237,
   "metadata": {},
   "outputs": [],
   "source": [
    "# Crea delle liste dei valori dentro al dizionario che è dentro all'altro dizionario\n",
    "# esempio:   prova = makeListFromDoubleDicts(pareti,'descrizione')\n",
    "def makeListFromDoubleDicts(dict1,dictKey):\n",
    "    self = [] \n",
    "    for i in dict1.keys():\n",
    "        self.append(dict1[i][dictKey])\n",
    "    return self   "
   ]
  },
  {
   "cell_type": "code",
   "execution_count": 238,
   "metadata": {},
   "outputs": [
    {
     "data": {
      "text/plain": [
       "445980.0"
      ]
     },
     "execution_count": 238,
     "metadata": {},
     "output_type": "execute_result"
    }
   ],
   "source": [
    "paretiOutput[parete]['capacitàTermicaAreicaTot']"
   ]
  },
  {
   "cell_type": "code",
   "execution_count": 239,
   "metadata": {},
   "outputs": [
    {
     "ename": "KeyError",
     "evalue": "'resistenzeTot'",
     "output_type": "error",
     "traceback": [
      "\u001b[0;31m---------------------------------------------------------------------------\u001b[0m",
      "\u001b[0;31mKeyError\u001b[0m                                  Traceback (most recent call last)",
      "\u001b[0;32m<ipython-input-239-f699ce4ae899>\u001b[0m in \u001b[0;36m<module>\u001b[0;34m\u001b[0m\n\u001b[0;32m----> 1\u001b[0;31m \u001b[0mresistenzeTot\u001b[0m\u001b[0;34m=\u001b[0m\u001b[0mmakeListFromDoubleDicts\u001b[0m\u001b[0;34m(\u001b[0m\u001b[0mparetiOutput\u001b[0m\u001b[0;34m,\u001b[0m\u001b[0;34m'resistenzeTot'\u001b[0m\u001b[0;34m)\u001b[0m\u001b[0;34m\u001b[0m\u001b[0;34m\u001b[0m\u001b[0m\n\u001b[0m\u001b[1;32m      2\u001b[0m \u001b[0msfasamenti\u001b[0m\u001b[0;34m=\u001b[0m\u001b[0mmakeListFromDoubleDicts\u001b[0m\u001b[0;34m(\u001b[0m\u001b[0mpareti\u001b[0m\u001b[0;34m,\u001b[0m\u001b[0;34m'sfasamento'\u001b[0m\u001b[0;34m)\u001b[0m\u001b[0;34m\u001b[0m\u001b[0;34m\u001b[0m\u001b[0m\n\u001b[1;32m      3\u001b[0m \u001b[0mmasseSuperficiali\u001b[0m\u001b[0;34m=\u001b[0m\u001b[0mmakeListFromDoubleDicts\u001b[0m\u001b[0;34m(\u001b[0m\u001b[0mpareti\u001b[0m\u001b[0;34m,\u001b[0m\u001b[0;34m'massaSuperficiale'\u001b[0m\u001b[0;34m)\u001b[0m\u001b[0;34m\u001b[0m\u001b[0;34m\u001b[0m\u001b[0m\n\u001b[1;32m      4\u001b[0m \u001b[0mattenuazioni\u001b[0m\u001b[0;34m=\u001b[0m\u001b[0mmakeListFromDoubleDicts\u001b[0m\u001b[0;34m(\u001b[0m\u001b[0mpareti\u001b[0m\u001b[0;34m,\u001b[0m\u001b[0;34m'attenuazione'\u001b[0m\u001b[0;34m)\u001b[0m\u001b[0;34m\u001b[0m\u001b[0;34m\u001b[0m\u001b[0m\n\u001b[1;32m      5\u001b[0m \u001b[0mspessoriTot\u001b[0m\u001b[0;34m=\u001b[0m\u001b[0mmakeListFromDoubleDicts\u001b[0m\u001b[0;34m(\u001b[0m\u001b[0mpareti\u001b[0m\u001b[0;34m,\u001b[0m\u001b[0;34m'spessoreTot'\u001b[0m\u001b[0;34m)\u001b[0m\u001b[0;34m\u001b[0m\u001b[0;34m\u001b[0m\u001b[0m\n",
      "\u001b[0;32m<ipython-input-237-57e043db3f1e>\u001b[0m in \u001b[0;36mmakeListFromDoubleDicts\u001b[0;34m(dict1, dictKey)\u001b[0m\n\u001b[1;32m      4\u001b[0m     \u001b[0mself\u001b[0m \u001b[0;34m=\u001b[0m \u001b[0;34m[\u001b[0m\u001b[0;34m]\u001b[0m\u001b[0;34m\u001b[0m\u001b[0;34m\u001b[0m\u001b[0m\n\u001b[1;32m      5\u001b[0m     \u001b[0;32mfor\u001b[0m \u001b[0mi\u001b[0m \u001b[0;32min\u001b[0m \u001b[0mdict1\u001b[0m\u001b[0;34m.\u001b[0m\u001b[0mkeys\u001b[0m\u001b[0;34m(\u001b[0m\u001b[0;34m)\u001b[0m\u001b[0;34m:\u001b[0m\u001b[0;34m\u001b[0m\u001b[0;34m\u001b[0m\u001b[0m\n\u001b[0;32m----> 6\u001b[0;31m         \u001b[0mself\u001b[0m\u001b[0;34m.\u001b[0m\u001b[0mappend\u001b[0m\u001b[0;34m(\u001b[0m\u001b[0mdict1\u001b[0m\u001b[0;34m[\u001b[0m\u001b[0mi\u001b[0m\u001b[0;34m]\u001b[0m\u001b[0;34m[\u001b[0m\u001b[0mdictKey\u001b[0m\u001b[0;34m]\u001b[0m\u001b[0;34m)\u001b[0m\u001b[0;34m\u001b[0m\u001b[0;34m\u001b[0m\u001b[0m\n\u001b[0m\u001b[1;32m      7\u001b[0m     \u001b[0;32mreturn\u001b[0m \u001b[0mself\u001b[0m\u001b[0;34m\u001b[0m\u001b[0;34m\u001b[0m\u001b[0m\n",
      "\u001b[0;31mKeyError\u001b[0m: 'resistenzeTot'"
     ]
    }
   ],
   "source": [
    "resistenzeTot=makeListFromDoubleDicts(paretiOutput,'resistenzeTot')\n",
    "sfasamenti=makeListFromDoubleDicts(pareti,'sfasamento')\n",
    "masseSuperficiali=makeListFromDoubleDicts(pareti,'massaSuperficiale')\n",
    "attenuazioni=makeListFromDoubleDicts(pareti,'attenuazione')\n",
    "spessoriTot=makeListFromDoubleDicts(pareti,'spessoreTot')\n",
    "capacitàTermicaAreiche=makeListFromDoubleDicts(pareti,'capacitàTermicaAreicaTot')\n",
    "\n"
   ]
  },
  {
   "cell_type": "code",
   "execution_count": null,
   "metadata": {},
   "outputs": [],
   "source": [
    "# mettere senza asse y oppure con doppi assi\n",
    "# scegliere le altre proprietà da stapare\n",
    "# mettere solo i punti, senza l'unione linee\n",
    "\n",
    "plt.plot(paretiOutput.keys(),resistenzeTot,label='Resistenza termica')\n",
    "plt.plot(paretiOutput.keys(),sfasamenti,label='Sfasamento')\n",
    "plt.plot(paretiOutput.keys(),masseSuperficiali,label='Massa superficiale')\n",
    "plt.plot(paretiOutput.keys(),attenuazioni,label='Attenuazioni')\n",
    "\n",
    "\n",
    "plt.legend(loc='best')\n"
   ]
  },
  {
   "cell_type": "code",
   "execution_count": null,
   "metadata": {},
   "outputs": [],
   "source": [
    "\n",
    "labels = paretiOutput.keys()\n",
    "\n",
    "x = np.arange(len(labels))  # the label locations\n",
    "width = 0.5  # the width of the bars\n",
    "\n",
    "fig, ax = plt.subplots()\n",
    "rects1 = ax.bar(x - width/3, resistenzeTot, width, label='Resistenza termica')\n",
    "rects2 = ax.bar(x + width/3, sfasamenti, width, label='Sfasamento')\n",
    "rects3 = ax.bar(x + 2*width/3, attenuazioni, width, label='Attenuazione')\n",
    "\n",
    "# Add some text for labels, title and custom x-axis tick labels, etc.\n",
    "ax.set_ylabel('Scores')\n",
    "ax.set_title('Scores by group and gender')\n",
    "ax.set_xticks(x)\n",
    "ax.set_xticklabels(labels)\n",
    "ax.legend()\n",
    "\n",
    "def autolabel(rects):\n",
    "    \"\"\"Attach a text label above each bar in *rects*, displaying its height.\"\"\"\n",
    "    for rect in rects:\n",
    "        height = round(rect.get_height(),1)\n",
    "        ax.annotate('{}'.format(height),\n",
    "                    xy=(rect.get_x() + rect.get_width() / 2, height),\n",
    "                    xytext=(0, 3),  # 3 points vertical offset\n",
    "                    textcoords=\"offset points\",\n",
    "                    ha='center', va='bottom')\n",
    "\n",
    "\n",
    "autolabel(rects1)\n",
    "autolabel(rects2)\n",
    "autolabel(rects3)\n",
    "\n",
    "\n",
    "fig.tight_layout()\n",
    "\n",
    "plt.show()"
   ]
  },
  {
   "cell_type": "code",
   "execution_count": null,
   "metadata": {},
   "outputs": [],
   "source": [
    "data = [[30, 25, 50, 20],\n",
    "[40, 23, 51, 17],\n",
    "[35, 22, 45, 19]]\n",
    "X = np.arange(4)\n",
    "fig = plt.figure()\n",
    "ax = fig.add_axes([0,0,1,1])\n",
    "ax.bar(X + 0.00, data[0], color = 'b', width = 0.25)\n",
    "ax.bar(X + 0.25, data[1], color = 'g', width = 0.25)\n",
    "ax.bar(X + 0.50, data[2], color = 'r', width = 0.25)"
   ]
  },
  {
   "cell_type": "code",
   "execution_count": null,
   "metadata": {},
   "outputs": [],
   "source": [
    "#  https://stackoverflow.com/questions/14270391/python-matplotlib-multiple-bars\n",
    "\n",
    "def bar_plot(ax, data, colors=None, total_width=0.8, single_width=1, legend=True):\n",
    "    \"\"\"Draws a bar plot with multiple bars per data point.\n",
    "\n",
    "    Parameters\n",
    "    ----------\n",
    "    ax : matplotlib.pyplot.axis\n",
    "        The axis we want to draw our plot on.\n",
    "\n",
    "    data: dictionary\n",
    "        A dictionary containing the data we want to plot. Keys are the names of the\n",
    "        data, the items is a list of the values.\n",
    "\n",
    "        Example:\n",
    "        data = {\n",
    "            \"x\":[1,2,3],\n",
    "            \"y\":[1,2,3],\n",
    "            \"z\":[1,2,3],\n",
    "        }\n",
    "\n",
    "    colors : array-like, optional\n",
    "        A list of colors which are used for the bars. If None, the colors\n",
    "        will be the standard matplotlib color cyle. (default: None)\n",
    "\n",
    "    total_width : float, optional, default: 0.8\n",
    "        The width of a bar group. 0.8 means that 80% of the x-axis is covered\n",
    "        by bars and 20% will be spaces between the bars.\n",
    "\n",
    "    single_width: float, optional, default: 1\n",
    "        The relative width of a single bar within a group. 1 means the bars\n",
    "        will touch eachother within a group, values less than 1 will make\n",
    "        these bars thinner.\n",
    "\n",
    "    legend: bool, optional, default: True\n",
    "        If this is set to true, a legend will be added to the axis.\n",
    "    \"\"\"\n",
    "\n",
    "    # Check if colors where provided, otherwhise use the default color cycle\n",
    "    if colors is None:\n",
    "        colors = plt.rcParams['axes.prop_cycle'].by_key()['color']\n",
    "\n",
    "    # Number of bars per group\n",
    "    n_bars = len(data)\n",
    "\n",
    "    # The width of a single bar\n",
    "    bar_width = total_width / n_bars\n",
    "\n",
    "    # List containing handles for the drawn bars, used for the legend\n",
    "    bars = []\n",
    "\n",
    "    # Iterate over all data\n",
    "    for i, (name, values) in enumerate(data.items()):\n",
    "        # The offset in x direction of that bar\n",
    "        x_offset = (i - n_bars / 2) * bar_width + bar_width / 2\n",
    "\n",
    "        # Draw a bar for every value of that type\n",
    "        for x, y in enumerate(values):\n",
    "            bar = ax.bar(x + x_offset, y, width=bar_width * single_width, color=colors[i % len(colors)])\n",
    "            autolabel(bar)\n",
    "        # Add a handle to the last drawn bar, which we'll need for the legend\n",
    "        bars.append(bar[0])\n",
    "\n",
    "    # Draw legend if we need\n",
    "    if legend:\n",
    "        ax.legend(bars, data.keys(),loc='best')\n",
    "\n",
    "\n",
    "if __name__ == \"__main__\":\n",
    "    # Usage example:\n",
    "    data = {\n",
    "        \"sfasamenti\": sfasamenti,\n",
    "        \"resistenze\": resistenzeTot,\n",
    "        \"masse superciali / 10\": np.array(masseSuperficiali)*0.1,\n",
    "        \"attenuazioni\": attenuazioni\n",
    "    }\n",
    "\n",
    "    fig, ax = plt.subplots()\n",
    "    ax.set_xticks(x)\n",
    "    ax.set_xticklabels(list(paretiOutput.keys()))\n",
    "    bar_plot(ax, data, total_width=.8, single_width=.9)\n",
    "    plt.show()"
   ]
  },
  {
   "cell_type": "code",
   "execution_count": null,
   "metadata": {},
   "outputs": [],
   "source": []
  }
 ],
 "metadata": {
  "kernelspec": {
   "display_name": "Python [conda env:root] *",
   "language": "python",
   "name": "conda-root-py"
  },
  "language_info": {
   "codemirror_mode": {
    "name": "ipython",
    "version": 3
   },
   "file_extension": ".py",
   "mimetype": "text/x-python",
   "name": "python",
   "nbconvert_exporter": "python",
   "pygments_lexer": "ipython3",
   "version": "3.8.3"
  }
 },
 "nbformat": 4,
 "nbformat_minor": 4
}
