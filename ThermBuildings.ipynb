{
 "cells": [
  {
   "cell_type": "code",
   "execution_count": 1,
   "metadata": {
    "scrolled": true
   },
   "outputs": [],
   "source": [
    "from matplotlib import pyplot as plt\n",
    "import numpy as np\n",
    "#from sympy import *\n",
    "#from sympy import MatrixSymbol, Matrix\n",
    "import math\n",
    "import cmath\n",
    "import pandas as pd"
   ]
  },
  {
   "cell_type": "markdown",
   "metadata": {},
   "source": [
    "# Database e input dati"
   ]
  },
  {
   "cell_type": "code",
   "execution_count": 2,
   "metadata": {
    "scrolled": true
   },
   "outputs": [],
   "source": [
    "# da interno a esterno\n",
    "\n",
    "# gli input sono le key: descrizione, strati, spessori, trasmittane, mu, \n",
    "#                        densità, caloreSpecifico\n",
    "# alla fine del calcolo saranno salvate key\n",
    "pareti = {\n",
    "    \"0a\" : {\n",
    "        \"descrizione\"     : \"Parete solo mattone pieno\",\n",
    "        \"strati\"          : [\"Mattone pieno\"],\n",
    "        \"spessori\"        : np.array([1.]),\n",
    "        \"trasmittanze\"    : np.array([0.78]),\n",
    "        \"mu\"              : np.array([10.]),\n",
    "        \"densità\"         : np.array([1700.]),\n",
    "        \"caloreSpecifico\" : np.array([940.])\n",
    "    },\n",
    "    \"0b\" : {\n",
    "        \"descrizione\"     : \"Parete solo isolante\",\n",
    "        \"strati\"          : [\"Isolante VentirockDuo \"],\n",
    "        \"spessori\"        : np.array([0.12]),\n",
    "        \"trasmittanze\"    : np.array([0.035]),\n",
    "        \"mu\"              : np.array([1.]),\n",
    "        \"densità\"         : np.array([70.]),\n",
    "        \"caloreSpecifico\" : np.array([1030.])\n",
    "    },\n",
    "     \"1a\" : {\n",
    "        \"descrizione\"     : \"Parete in laterizio con isolante interno\",\n",
    "        \"strati\"          : [\"Intonaco\",\"Isolante VentirockDuo\",\"Laterizio semipieno\",\"Intonaco\"],\n",
    "        \"spessori\"        : np.array([0.015,0.12,0.2,0.015]),\n",
    "        \"trasmittanze\"    : np.array([0.6,0.035,0.53,0.9]),\n",
    "        \"mu\"              : np.array([6.,1.,10.,8.]),\n",
    "        \"densità\"         : np.array([1500.,70.,1000.,1800.]),\n",
    "        \"caloreSpecifico\" : np.array([1000.,1030.,840.,1000.])\n",
    "    },\n",
    "    \"1b\" : {\n",
    "        \"descrizione\"     : \"Parete in laterizio con isolante esterno\",\n",
    "        \"strati\"          : [\"Intonaco\",\"Laterizio semipieno\",\"Isolante VentirockDuo\",\"Intonaco\"],\n",
    "        \"spessori\"        : np.array([0.015,0.2,0.12,0.015]),\n",
    "        \"trasmittanze\"    : np.array([0.6,0.53,0.035,0.9]),\n",
    "        \"mu\"              : np.array([6.,10.,1.,8.]),\n",
    "        \"densità\"         : np.array([1500.,1000.,70.,1800.]),\n",
    "        \"caloreSpecifico\" : np.array([1000.,840.,1030.,1000.])\n",
    "    },\n",
    "     \"2a\" : {\n",
    "        \"descrizione\"     : \"Parete in Poroton con isolante esterno\",\n",
    "        \"strati\"          : [\"Intonaco\",\"Laterizio Poroton\",\"Isolante VentirockDuo\",\"Intonaco\"],\n",
    "        \"spessori\"        : np.array([0.015,0.2,0.11,0.015]),\n",
    "        \"trasmittanze\"    : np.array([0.6,0.23,0.035,0.9]),\n",
    "        \"mu\"              : np.array([6.,10.,1.,8.]),\n",
    "        \"densità\"         : np.array([1500.,860.,70.,1800.]),\n",
    "        \"caloreSpecifico\" : np.array([1000.,840.,1030.,1000.])\n",
    "    },\n",
    "    \"3a\" : {\n",
    "        \"descrizione\"     : \"Perete in X-LAM con isolante bassa densità\",\n",
    "        \"strati\"          : [\"Gessofibra\",\"X-LAM KLH\",\"Isolante bassa densità\",\"Intonaco calce\"],\n",
    "        \"spessori\"        : np.array([0.015,0.096,0.12,0.015]),\n",
    "        \"trasmittanze\"    : np.array([0.21,0.13,0.038,0.9]),\n",
    "        \"mu\"              : np.array([5.,25.,1.,20.]),\n",
    "        \"densità\"         : np.array([1150.,500.,50.,1800.]),\n",
    "        \"caloreSpecifico\" : np.array([1100.,1600.,2100.,1000.])\n",
    "    },\n",
    "    \"3b\" : {\n",
    "        \"descrizione\"     : \"Perete in X-LAM con isolante bassa densità lana di roccia\",\n",
    "        \"strati\"          : [\"Gessofibra\",\"X-LAM KLH\",\"Isolante VentirockDuo\",\"Intonaco calce\"],\n",
    "        \"spessori\"        : np.array([0.015,0.096,0.11,0.015]),\n",
    "        \"trasmittanze\"    : np.array([0.21,0.13,0.035,0.9]),\n",
    "        \"mu\"              : np.array([5.,25.,1.,20.]),\n",
    "        \"densità\"         : np.array([1150.,500.,70.,1800.]),\n",
    "        \"caloreSpecifico\" : np.array([1100.,1600.,1030.,1000.])\n",
    "    },\n",
    "    \"3c\" : {\n",
    "        \"descrizione\"     : \"Perete in X-LAM con isolante alta densità fibra di legno\",\n",
    "        \"strati\"          : [\"Gessofibra\",\"X-LAM KLH\",\"Isolante alta densità Naturalia Diffuterm\",\"Intonaco calce\"],\n",
    "        \"spessori\"        : np.array([0.015,0.096,0.13,0.015]),\n",
    "        \"trasmittanze\"    : np.array([0.21,0.13,0.043,0.9]),\n",
    "        \"mu\"              : np.array([5.,25.,5.,20.]),\n",
    "        \"densità\"         : np.array([1150.,500.,190.,1800.]),\n",
    "        \"caloreSpecifico\" : np.array([1100.,1600.,2100.,1000.])\n",
    "    }\n",
    "    \n",
    "      \n",
    "}"
   ]
  },
  {
   "cell_type": "code",
   "execution_count": 3,
   "metadata": {},
   "outputs": [],
   "source": [
    "#de commentare alla prima esecuzione di una parete e poi commentare\n",
    "\n",
    "#paretiOutput=pareti.copy()\n"
   ]
  },
  {
   "cell_type": "code",
   "execution_count": 180,
   "metadata": {
    "scrolled": true
   },
   "outputs": [
    {
     "name": "stdout",
     "output_type": "stream",
     "text": [
      "Perete in X-LAM con isolante alta densità fibra di legno\n",
      "Spessore totale =  0.256\n",
      "Dimensioni ok\n"
     ]
    }
   ],
   "source": [
    "# INPUT DATI:\n",
    "\n",
    "# Scegliere la parete\n",
    "parete = \"3c\" # eseguire da qui in giù altrimento il dizionario di output si resetta\n",
    "\n",
    "Ti=20.\n",
    "Te=-5.\n",
    "URi=0.65\n",
    "URe=0.9 #0.9 forse\n",
    "\n",
    "# in orizzontale:\n",
    "Rsi=0.130\n",
    "Rse=0.040\n",
    "\n",
    "# Tempo dinamica\n",
    "tempo = 24 # ore -> secondi=86400\n",
    "\n",
    "\n",
    "print(pareti[parete][\"descrizione\"])\n",
    "spessori = pareti[parete][\"spessori\"]\n",
    "trasmittanze = pareti[parete][\"trasmittanze\"]\n",
    "mu = pareti[parete][\"mu\"]\n",
    "densità = pareti[parete][\"densità\"]\n",
    "caloreSpecifico = pareti[parete][\"caloreSpecifico\"]\n",
    "\n",
    "spessoreTot = sum(spessori)\n",
    "print(\"Spessore totale = \",spessoreTot)\n",
    "\n",
    "if len(pareti[parete][\"strati\"])==len(spessori)==len(trasmittanze)==len(mu)==len(densità)==len(caloreSpecifico):\n",
    "    print(\"Dimensioni ok\")\n",
    "else:\n",
    "    print(\"Devono avere la stessa lunghezza!\")"
   ]
  },
  {
   "cell_type": "code",
   "execution_count": 181,
   "metadata": {
    "scrolled": true
   },
   "outputs": [
    {
     "name": "stdout",
     "output_type": "stream",
     "text": [
      "[0.075 2.4   0.65  0.3  ]\n",
      "3.425\n",
      "[0.    0.075 2.475 3.125 3.425]\n"
     ]
    }
   ],
   "source": [
    "# Spessori equivalenti (metri)\n",
    "Sd = spessori * mu \n",
    "Sdtot = sum(Sd)\n",
    "SdCumSum = Sd.cumsum()\n",
    "SdCumSum = np.insert(SdCumSum,0,0.)\n",
    "print(Sd)\n",
    "print(Sdtot)\n",
    "print(SdCumSum)"
   ]
  },
  {
   "cell_type": "code",
   "execution_count": 182,
   "metadata": {
    "scrolled": true
   },
   "outputs": [
    {
     "name": "stdout",
     "output_type": "stream",
     "text": [
      "resistenze =  [0.13       0.07142857 0.73846154 3.02325581 0.01666667 0.04      ]\n",
      "resistemzeCumSum =  [0.13       0.20142857 0.93989011 3.96314592 3.97981259 4.01981259]\n",
      "Resistenza totale = 4.0198125905102655\n",
      "Trasmittanza termica U =  0.24876781628097303\n"
     ]
    }
   ],
   "source": [
    "resistenze = spessori/trasmittanze\n",
    "# Aggiunge le resistenze superficiali al vettore resistenze e calcola la somma cumolata\n",
    "resistenze = np.insert(resistenze,0,Rsi)\n",
    "resistenze = np.append(resistenze,Rse)\n",
    "resistenze = np.array(resistenze)\n",
    "Rtot = sum(resistenze)\n",
    "resistenzeCumSum = resistenze.cumsum()\n",
    "\n",
    "print(\"resistenze = \",resistenze)\n",
    "print(\"resistemzeCumSum = \",resistenzeCumSum)\n",
    "print(\"Resistenza totale =\", Rtot)\n",
    "print(\"Trasmittanza termica U = \",1/Rtot)"
   ]
  },
  {
   "cell_type": "code",
   "execution_count": 214,
   "metadata": {
    "scrolled": true
   },
   "outputs": [
    {
     "name": "stdout",
     "output_type": "stream",
     "text": [
      "Temperature superficiali =  [20.         19.1915046  18.74727635 14.15463975 -4.64757893 -4.75123218\n",
      " -5.        ]\n"
     ]
    }
   ],
   "source": [
    "# Calcola le temperature superficiali i-esimme\n",
    "\n",
    "deltaT = Ti-Te\n",
    "temperature = np.array([])\n",
    "\n",
    "for i in range(0,len(resistenze)):\n",
    "    T = Ti-((resistenzeCumSum[i]*deltaT)/Rtot)\n",
    "    temperature = np.append(temperature,T)\n",
    "\n",
    "# Ritorna alla dimensione inziale aggiungendo la Ti all'inizio. L'ultima è già la Te    \n",
    "temperature = np.insert(temperature,0,Ti)\n",
    "\n",
    "print(\"Temperature superficiali = \",temperature)     "
   ]
  },
  {
   "cell_type": "code",
   "execution_count": 184,
   "metadata": {},
   "outputs": [
    {
     "name": "stdout",
     "output_type": "stream",
     "text": [
      "pressioni saturazione =  [2336.9511438  2222.52546261 2161.76522159 1613.83405435  413.44885629\n",
      "  409.80568403  401.18098135]\n"
     ]
    }
   ],
   "source": [
    "# Pressione di saturazione per ogni temperatura i-esima\n",
    "\n",
    "pressioniSaturazione = np.array([])\n",
    "\n",
    "for temp in temperature:\n",
    "    if temp >= 0:\n",
    "        press = 610.5*np.exp(17.269*temp/(237.3+temp))\n",
    "    else:\n",
    "        press = 610.5*np.exp(21.875*temp/(265.5+temp))\n",
    "        \n",
    "    pressioniSaturazione = np.append(pressioniSaturazione,press)   \n",
    "    \n",
    "print(\"pressioni saturazione = \",pressioniSaturazione)     "
   ]
  },
  {
   "cell_type": "code",
   "execution_count": 185,
   "metadata": {
    "scrolled": true
   },
   "outputs": [
    {
     "name": "stdout",
     "output_type": "stream",
     "text": [
      "Pi =  1519.0182434715223\n",
      "Pe =  361.06288321648987\n",
      "Pressioni interne =  [1519.01824347 1493.66155675  682.24758168  462.4896301   361.06288322]\n"
     ]
    }
   ],
   "source": [
    "Pi = URi * pressioniSaturazione[0]\n",
    "Pe = URe * pressioniSaturazione[-1]\n",
    "deltaP = Pi - Pe\n",
    "pressioni = np.array([])\n",
    "for p in range(1,len(temperature)-2): #valori interni a T perché conosciamo già gli estremi\n",
    "    P=Pi-((SdCumSum[p]*deltaP)/Sdtot)\n",
    "    pressioni = np.append(pressioni,P)\n",
    "\n",
    "# Ritorna alla dimensione inziale aggiungendo la Pi all'inizio. L'ultima è già la Pe    \n",
    "pressioni = np.insert(pressioni,0,Pi)\n",
    "\n",
    "print(\"Pi = \", Pi)\n",
    "print(\"Pe = \", Pe)\n",
    "print(\"Pressioni interne = \", pressioni)"
   ]
  },
  {
   "cell_type": "code",
   "execution_count": 186,
   "metadata": {
    "scrolled": true
   },
   "outputs": [
    {
     "name": "stdout",
     "output_type": "stream",
     "text": [
      "spessoriCumSum =  [0.    0.015 0.111 0.241 0.256]\n"
     ]
    }
   ],
   "source": [
    "spessoriCumSum = spessori.cumsum()\n",
    "spessoriCumSum = np.insert(spessoriCumSum,0,0.) \n",
    "print(\"spessoriCumSum = \", spessoriCumSum)"
   ]
  },
  {
   "cell_type": "code",
   "execution_count": 187,
   "metadata": {},
   "outputs": [],
   "source": [
    "#plt.style.available"
   ]
  },
  {
   "cell_type": "code",
   "execution_count": 188,
   "metadata": {},
   "outputs": [
    {
     "data": {
      "image/png": "[encoded data removed]",
      "text/plain": [
       "<Figure size 1296x720 with 2 Axes>"
      ]
     },
     "metadata": {
      "needs_background": "light"
     },
     "output_type": "display_data"
    }
   ],
   "source": [
    "#plt.style.use('fast')\n",
    "\n",
    "plt.figure(figsize=(18,10))\n",
    "\n",
    "\n",
    "plt.subplot(2, 1, 1)\n",
    "plt.plot(spessoriCumSum,temperature[1:-1],label=\"Temperatura\",color='green')\n",
    "plt.ticklabel_format(style='sci')\n",
    "plt.legend(loc=\"best\",fontsize=16)\n",
    "plt.xlabel(\"Spessore parete (m)\",fontsize=16)  \n",
    "plt.ylabel(\"Temperature (°C)\",fontsize=16)\n",
    "plt.grid(axis='x',linewidth=2)\n",
    "plt.xticks(spessoriCumSum, rotation=90, fontsize=14)\n",
    "#plt.yticks(temperature,fontsize=12) #i due vettori affiancati\n",
    "plt.yticks(fontsize=14)\n",
    "\n",
    "plt.subplot(2,1,2)\n",
    "plt.plot(SdCumSum,pressioni,label=\"Pressione\",color='orange')\n",
    "plt.plot(SdCumSum,pressioniSaturazione[1:-1], label=\"Pressione Saturazione\",color='red')\n",
    "#plt.plot(SdCumSum,100*temperature[1:-1],label=\"temperature\",color='green')\n",
    "plt.ticklabel_format(style='sci')\n",
    "plt.legend(loc=\"best\",fontsize=16)\n",
    "plt.xlabel(\"Spessore equivalente Sd (m)\",fontsize=16)  \n",
    "plt.ylabel(\"Pressione (Pa)\",fontsize=16)\n",
    "plt.grid(axis='x',linewidth=2)\n",
    "plt.xticks(SdCumSum,fontsize=14,rotation=90,color='black')\n",
    "#plt.yticks(np.hstack((pressioni,pressioniSaturazione)),fontsize=14) #i due vettori affiancati\n",
    "plt.yticks(fontsize=14)\n",
    "\n",
    "import tikzplotlib\n",
    "# modificare a mano:\n",
    "# \\begin{groupplot}[group style={group size=1 by 2,vertical sep=2.5cm}]\n",
    "tikzplotlib.save(\"temperatura+pressione--parete-\"+parete+\".tex\",\n",
    "                 axis_width='\\\\linewidth',\n",
    "                 axis_height='7cm',\n",
    "                 strict=True,\n",
    "                 extra_axis_parameters={'\\t ticklabel style={ \\n \\t\\t /pgf/number format/fixed, \\n \\t\\t /pgf/number format/precision=5\\n\\t\\t}, \\nscaled ticks=false'}\n",
    "                )"
   ]
  },
  {
   "cell_type": "code",
   "execution_count": 189,
   "metadata": {
    "scrolled": true
   },
   "outputs": [
    {
     "data": {
      "image/png": "[encoded data removed]",
      "text/plain": [
       "<Figure size 1296x504 with 1 Axes>"
      ]
     },
     "metadata": {
      "needs_background": "light"
     },
     "output_type": "display_data"
    }
   ],
   "source": [
    "#plt.style.use('fast')\n",
    "\n",
    "plt.figure(figsize=(18,7))\n",
    "plt.plot(spessoriCumSum,temperature[1:-1],label=\"temperature\",color='green')\n",
    "plt.legend(loc=\"best\",fontsize=16)\n",
    "plt.xlabel(\"Spessore parete (m)\",fontsize=16)  \n",
    "plt.ylabel(\"Temperature (°C)\",fontsize=16)\n",
    "plt.grid(axis='x',linewidth=2)\n",
    "plt.xticks(spessoriCumSum, rotation=90, fontsize=14)\n",
    "#plt.yticks(temperature,fontsize=12) #i due vettori affiancati\n",
    "plt.yticks(fontsize=14)\n",
    "\n",
    "\n",
    "import tikzplotlib\n",
    "\n"
   ]
  },
  {
   "cell_type": "code",
   "execution_count": 190,
   "metadata": {},
   "outputs": [
    {
     "data": {
      "text/plain": [
       "(array([ 250.,  500.,  750., 1000., 1250., 1500., 1750., 2000., 2250.,\n",
       "        2500.]),\n",
       " [Text(0, 0, ''),\n",
       "  Text(0, 0, ''),\n",
       "  Text(0, 0, ''),\n",
       "  Text(0, 0, ''),\n",
       "  Text(0, 0, ''),\n",
       "  Text(0, 0, ''),\n",
       "  Text(0, 0, ''),\n",
       "  Text(0, 0, ''),\n",
       "  Text(0, 0, ''),\n",
       "  Text(0, 0, '')])"
      ]
     },
     "execution_count": 190,
     "metadata": {},
     "output_type": "execute_result"
    },
    {
     "data": {
      "image/png": "[encoded data removed]",
      "text/plain": [
       "<Figure size 1296x504 with 1 Axes>"
      ]
     },
     "metadata": {
      "needs_background": "light"
     },
     "output_type": "display_data"
    }
   ],
   "source": [
    "plt.figure(figsize=(18,7))\n",
    "\n",
    "plt.plot(SdCumSum,pressioni,label=\"Pressione\",color='orange')\n",
    "plt.plot(SdCumSum,pressioniSaturazione[1:-1], label=\"Pressione Saturazione\",color='red')\n",
    "#plt.plot(SdCumSum,100*temperature[1:-1],label=\"temperature\",color='green')\n",
    "plt.ticklabel_format(style='sci')\n",
    "plt.legend(loc=\"best\",fontsize=16)\n",
    "plt.xlabel(\"Spessore equivalente Sd (m)\",fontsize=16)  \n",
    "plt.ylabel(\"Pressione (Pa)\",fontsize=16)\n",
    "plt.grid(axis='x',linewidth=2)\n",
    "plt.xticks(SdCumSum,fontsize=14,rotation=90,color='black')\n",
    "#plt.yticks(np.hstack((pressioni,pressioniSaturazione)),fontsize=14) #i due vettori affiancati\n",
    "plt.yticks(fontsize=14)\n",
    "\n",
    "\n",
    "\n"
   ]
  },
  {
   "cell_type": "code",
   "execution_count": 191,
   "metadata": {
    "scrolled": true
   },
   "outputs": [
    {
     "data": {
      "text/plain": [
       "array([1519.01824347, 1493.66155675,  682.24758168,  462.4896301 ,\n",
       "        361.06288322, 2336.9511438 , 2222.52546261, 2161.76522159,\n",
       "       1613.83405435,  413.44885629,  409.80568403,  401.18098135])"
      ]
     },
     "execution_count": 191,
     "metadata": {},
     "output_type": "execute_result"
    }
   ],
   "source": [
    "np.hstack((pressioni,pressioniSaturazione))"
   ]
  },
  {
   "cell_type": "code",
   "execution_count": 192,
   "metadata": {
    "scrolled": true
   },
   "outputs": [
    {
     "name": "stdout",
     "output_type": "stream",
     "text": [
      "Profondità penetrazione (delta) =  [0.06756882 0.06685111 0.05444145 0.1172646 ]\n",
      "xi =  [0.22199589 1.43602703 2.38788626 0.12791584]\n",
      "zz =  [array([[ 0.99959521+4.92808465e-02j, -0.07142279-1.17337158e-03j],\n",
      "       [ 0.02266791-1.37978923e+00j,  0.99959521+4.92808465e-02j]]), array([[ 0.29840601+1.96506319j, -0.63437138-0.49735475j],\n",
      "       [ 3.76154045-4.79780999j,  0.29840601+1.96506319j]]), array([[-4.00390321+3.6949984j ,  0.11338502-4.87110912j],\n",
      "       [ 6.0776451 +0.14146961j, -4.00390321+3.6949984j ]]), array([[ 0.99995538+1.63624131e-02j, -0.01666652-9.09024493e-05j],\n",
      "       [ 0.01070919-1.96347789e+00j,  0.99995538+1.63624131e-02j]])]\n",
      "Z = [[ -31.02504061 -48.05225063j   16.45054786  +1.46954386j]\n",
      " [-104.58446868+124.06789204j   -9.68507653 -45.83083789j]]\n"
     ]
    }
   ],
   "source": [
    "profonditàPenetrazione = np.sqrt((trasmittanze*tempo*3600)/(  math.pi*densità * caloreSpecifico))\n",
    "print(\"Profondità penetrazione (delta) = \",profonditàPenetrazione)\n",
    "xi = spessori/profonditàPenetrazione\n",
    "print(\"xi = \",xi)\n",
    "\n",
    "# Calcola le matrice di trasferimento di ogni strato e le inserisce in una lista, \n",
    "# per poi moltiplicarle tra di loro in Z\n",
    "\n",
    "zz = [] # zz : lista di matrici z\n",
    "for i in range(0,len(xi)):\n",
    "    # z : matrice per ogni strato\n",
    "    z = np.zeros((2,2),dtype=np.complex128) # matrice complex float\n",
    "    z[0][0] = complex(  (np.cosh(xi[i])*np.cos(xi[i])) , (np.sinh(xi[i])*np.sin(xi[i]))  )\n",
    "    z[1][1] = z[0][0] \n",
    "    z[0][1] = -(profonditàPenetrazione[i]/(2*trasmittanze[i])) * complex(  (np.sinh(xi[i])*np.cos(xi[i]) + np.cosh(xi[i])*np.sin(xi[i])) , (np.cosh(xi[i])*np.sin(xi[i]) - np.sinh(xi[i])*np.cos(xi[i]))  )\n",
    "    z[1][0] = -(trasmittanze[i]/( profonditàPenetrazione[i]))  * complex(  (np.sinh(xi[i])*np.cos(xi[i]) - np.cosh(xi[i])*np.sin(xi[i])) , (np.sinh(xi[i])*np.cos(xi[i]) + np.cosh(xi[i])*np.sin(xi[i]))  )\n",
    "    # aggiunge alla lista zz\n",
    "    zz.append(z)\n",
    "print(\"zz = \",zz)\n",
    "\n",
    "# Z: matrice di trasferimento totale  del componente edilizio = Z_N * Z_n-1 * ... * Z_1   \n",
    "Z = np.zeros((2,2),dtype=np.complex128)\n",
    "Z = zz[-1] #Z_N\n",
    "for i in range(1,len(zz)): # [1  2 ... N  N+1)\n",
    "    Z = Z.dot(zz[-1-i]) # prodotto scalare\n",
    "print(\"Z =\",Z)   "
   ]
  },
  {
   "cell_type": "code",
   "execution_count": 193,
   "metadata": {
    "scrolled": true
   },
   "outputs": [
    {
     "name": "stdout",
     "output_type": "stream",
     "text": [
      "Zsi =  [[ 1.  +0.j -0.13+0.j]\n",
      " [ 0.  +0.j  1.  +0.j]]\n",
      "Zse =  [[ 1.  +0.j -0.04+0.j]\n",
      " [ 0.  +0.j  1.  +0.j]]\n",
      "Zee =  [[ -26.84166186 -53.01496631j   20.32736696 +10.194723j  ]\n",
      " [-104.58446868+124.06789204j    3.9109044  -61.95966386j]]\n"
     ]
    }
   ],
   "source": [
    "# Strato d'aria interno \n",
    "Zsi = np.zeros((2,2),dtype=np.complex128)\n",
    "Zsi[0][0] = complex(1,0)\n",
    "Zsi[1][1] = complex(1,0)\n",
    "Zsi[0][1] = complex(-Rsi)\n",
    "Zsi[1][0] = complex(0,0)\n",
    "print(\"Zsi = \",Zsi)\n",
    "\n",
    "# Strato d'aria esterno\n",
    "Zse = np.zeros((2,2),dtype=np.complex128)\n",
    "Zse[0][0] = complex(1,0)\n",
    "Zse[1][1] = complex(1,0)\n",
    "Zse[0][1] = complex(-Rse)\n",
    "Zse[1][0] = complex(0,0)\n",
    "print(\"Zse = \",Zse)\n",
    "\n",
    "# Zee: matrice di trasferimento da ambiente ad ambiente \n",
    "Zee = Zse.dot(Z)\n",
    "Zee = Zee.dot(Zsi)\n",
    "print(\"Zee = \",Zee)"
   ]
  },
  {
   "cell_type": "code",
   "execution_count": 194,
   "metadata": {
    "scrolled": true
   },
   "outputs": [
    {
     "name": "stdout",
     "output_type": "stream",
     "text": [
      "Y12 =  0.04397424174344255 (trasmittanza termica periodica)\n",
      "fd =  -0.17676821061843245 (attenuazione)\n",
      "phase =  1.7756666736772442\n",
      "sfasamento =  13.775666673677245 [ore]\n",
      "Y11 =  2.6130697249284407 (ammettenza termica interna Yii)\n",
      "Y22 =  2.7300515149284124 (ammettenza termica esterna Yee)\n"
     ]
    }
   ],
   "source": [
    "Y12 = -1/Zee[0][1]\n",
    "Y12 = np.sqrt((Y12.real)**2 + (Y12.imag)**2) # il modulo\n",
    "print(\"Y12 = \", Y12, \"(trasmittanza termica periodica)\")\n",
    "\n",
    "#f = -np.sqrt((Y12.real)**2 + (Y12.imag)**2)/(1/Rtot)\n",
    "fd = -Y12/(1/Rtot)\n",
    "print(\"fd = \", fd, \"(attenuazione)\")\n",
    "\n",
    "phase = (math.atan2(Zee[0][1].imag,Zee[0][1].real))*tempo/(2*math.pi) # tempo in ore\n",
    "sfasamento = phase+tempo/2 # tempo in ore\n",
    "print(\"phase = \", phase)\n",
    "print(\"sfasamento = \", sfasamento, \"[ore]\")\n",
    "\n",
    "Y11 = -Zee[0][0]/Zee[0][1]\n",
    "Y11 = np.sqrt((Y11.real)**2 + (Y11.imag)**2) # il modulo\n",
    "print(\"Y11 = \", Y11, \"(ammettenza termica interna Yii)\")\n",
    "\n",
    "Y22 = -Zee[1][1]/Zee[0][1]\n",
    "Y22 = np.sqrt((Y22.real)**2 + (Y22.imag)**2) # il modulo\n",
    "print(\"Y22 = \", Y22, \"(ammettenza termica esterna Yee)\")"
   ]
  },
  {
   "cell_type": "code",
   "execution_count": 195,
   "metadata": {},
   "outputs": [
    {
     "data": {
      "text/plain": [
       "0.6450933030593065"
      ]
     },
     "execution_count": 195,
     "metadata": {},
     "output_type": "execute_result"
    }
   ],
   "source": [
    "1-Rsi*Y22"
   ]
  },
  {
   "cell_type": "code",
   "execution_count": 196,
   "metadata": {},
   "outputs": [
    {
     "data": {
      "text/plain": [
       "0.8954772110028624"
      ]
     },
     "execution_count": 196,
     "metadata": {},
     "output_type": "execute_result"
    }
   ],
   "source": [
    "1-Rse*Y11"
   ]
  },
  {
   "cell_type": "markdown",
   "metadata": {},
   "source": [
    "### calcolo di alcune proprietà della parete"
   ]
  },
  {
   "cell_type": "code",
   "execution_count": 197,
   "metadata": {},
   "outputs": [
    {
     "name": "stdout",
     "output_type": "stream",
     "text": [
      "Massa superficiale =  116.95\n",
      "Capacità termica areica =  [18975. 76800. 51870. 27000.] \n",
      "Totale =  174645.0\n",
      "Diffusività termica =  [1.66007905e-07 1.62500000e-07 1.07769424e-07 5.00000000e-07]\n",
      "Effusività termica =  [ 515.41245619  322.49030993  130.98473193 1272.79220614]\n",
      "Capacità termica areica interna 36.2094494519863\n",
      "Capacità termica areica esterna 37.50766613521939\n"
     ]
    }
   ],
   "source": [
    "massaSuperficiale = spessori*densità\n",
    "massaSuperficialeTot = sum(massaSuperficiale)\n",
    "print(\"Massa superficiale = \", massaSuperficialeTot)\n",
    "\n",
    "\n",
    "capacitàTermicaAreica = spessori*densità*caloreSpecifico\n",
    "capacitàTermicaAreicaTot = sum(capacitàTermicaAreica)\n",
    "print(\"Capacità termica areica = \", capacitàTermicaAreica, \"\\nTotale = \", capacitàTermicaAreicaTot )\n",
    "\n",
    "\n",
    "diffusivitàTermica = trasmittanze / (densità * caloreSpecifico)\n",
    "print(\"Diffusività termica = \", diffusivitàTermica)\n",
    "\n",
    "effusivitàTermica = np.sqrt(trasmittanze * caloreSpecifico * densità)\n",
    "print(\"Effusività termica = \", effusivitàTermica)\n",
    "\n",
    "#k1 = omega * modulo(Z11-1/Z12)\n",
    "k1 = ((tempo*3600)/(2*math.pi) * np.sqrt((((Zee[0][0]-1)/Zee[0][1]).real)**2 \n",
    "           + (((Zee[0][0]-1)/Zee[0][1]).imag)**2))/1000 #kJ/m2 K\n",
    "print(\"Capacità termica areica interna\", k1)\n",
    "k2 = ((tempo*3600)/(2*math.pi) * np.sqrt((((Zee[1][1]-1)/Zee[0][1]).real)**2 \n",
    "           + (((Zee[1][1]-1)/Zee[0][1]).imag)**2))/1000 #kJ/m2 K\n",
    "print(\"Capacità termica areica esterna\", k2)"
   ]
  },
  {
   "cell_type": "code",
   "execution_count": 198,
   "metadata": {
    "scrolled": true
   },
   "outputs": [
    {
     "data": {
      "text/plain": [
       "{'descrizione': 'Perete in X-LAM con isolante alta densità fibra di legno',\n",
       " 'strati': ['Gessofibra',\n",
       "  'X-LAM KLH',\n",
       "  'Isolante alta densità Naturalia Diffuterm',\n",
       "  'Intonaco calce'],\n",
       " 'spessori': array([0.015, 0.096, 0.13 , 0.015]),\n",
       " 'trasmittanze': array([0.21 , 0.13 , 0.043, 0.9  ]),\n",
       " 'mu': array([ 5., 25.,  5., 20.]),\n",
       " 'densità': array([1150.,  500.,  190., 1800.]),\n",
       " 'caloreSpecifico': array([1100., 1600., 2100., 1000.]),\n",
       " 'Sd': array([0.075, 2.4  , 0.65 , 0.3  ]),\n",
       " 'spessoreTot': 0.256,\n",
       " 'resistenze': array([0.13      , 0.07142857, 0.73846154, 3.02325581, 0.01666667,\n",
       "        0.04      ]),\n",
       " 'resistenzeTot': 4.0198125905102655,\n",
       " 'temperature': array([20.        , 19.1915046 , 18.74727635, 14.15463975, -4.64757893,\n",
       "        -4.75123218, -5.        ]),\n",
       " 'pressioniSaturazione': array([2336.9511438 , 2222.52546261, 2161.76522159, 1613.83405435,\n",
       "         413.44885629,  409.80568403,  401.18098135]),\n",
       " 'pressioni': array([1519.01824347, 1493.66155675,  682.24758168,  462.4896301 ,\n",
       "         361.06288322]),\n",
       " 'profonditàPenetrazione': array([0.06756882, 0.06685111, 0.05444145, 0.1172646 ]),\n",
       " 'xi': array([0.22199589, 1.43602703, 2.38788626, 0.12791584]),\n",
       " 'attenuazione': -0.17676821061843245,\n",
       " 'sfasamento': 13.775666673677245,\n",
       " 'trasmittanzaTermicaPeriodica': 0.04397424174344255,\n",
       " 'ammettanzaInterna': 2.6130697249284407,\n",
       " 'ammettanzaEsterna': 2.7300515149284124,\n",
       " 'capacitàTermicaAreica': array([18.975, 76.8  , 51.87 , 27.   ]),\n",
       " 'capacitàTermicaAreicaTot': 174.645,\n",
       " 'CapacitàTermicaAreicaInterna': 36.2094494519863,\n",
       " 'CapacitàTermicaAreicaEsterna': 37.50766613521939,\n",
       " 'massaSuperficiale': array([17.25, 48.  , 24.7 , 27.  ]),\n",
       " 'massaSuperficialeTot': 116.95,\n",
       " 'diffusivitàTermica': array([1.66007905, 1.625     , 1.07769424, 5.        ]),\n",
       " 'effusivitàTermica': array([ 515.41245619,  322.49030993,  130.98473193, 1272.79220614])}"
      ]
     },
     "execution_count": 198,
     "metadata": {},
     "output_type": "execute_result"
    }
   ],
   "source": [
    "# Salvataggio output su un nuovo dizionario\n",
    "#paretiOutput=pareti.copy()\n",
    "\n",
    "paretiOutput[parete][\"Sd\"]=Sd\n",
    "paretiOutput[parete][\"spessoreTot\"]=spessoreTot\n",
    "paretiOutput[parete][\"resistenze\"]=resistenze\n",
    "paretiOutput[parete][\"resistenzeTot\"]=Rtot\n",
    "paretiOutput[parete][\"temperature\"]=temperature\n",
    "paretiOutput[parete][\"pressioniSaturazione\"]=pressioniSaturazione\n",
    "paretiOutput[parete][\"pressioni\"]=pressioni\n",
    "paretiOutput[parete][\"profonditàPenetrazione\"]=profonditàPenetrazione\n",
    "paretiOutput[parete][\"xi\"]=xi\n",
    "paretiOutput[parete][\"attenuazione\"]=fd\n",
    "paretiOutput[parete][\"sfasamento\"]=sfasamento\n",
    "paretiOutput[parete][\"trasmittanzaTermicaPeriodica\"]=Y12\n",
    "paretiOutput[parete][\"ammettanzaInterna\"]=Y11\n",
    "paretiOutput[parete][\"ammettanzaEsterna\"]=Y22\n",
    "paretiOutput[parete][\"capacitàTermicaAreica\"]=capacitàTermicaAreica/1000\n",
    "paretiOutput[parete][\"capacitàTermicaAreicaTot\"]=capacitàTermicaAreicaTot/1000\n",
    "paretiOutput[parete][\"CapacitàTermicaAreicaInterna\"]=k1\n",
    "paretiOutput[parete][\"CapacitàTermicaAreicaEsterna\"]=k2                     \n",
    "paretiOutput[parete][\"massaSuperficiale\"]=massaSuperficiale\n",
    "paretiOutput[parete][\"massaSuperficialeTot\"]=massaSuperficialeTot\n",
    "paretiOutput[parete][\"diffusivitàTermica\"]=diffusivitàTermica*10**7\n",
    "paretiOutput[parete][\"effusivitàTermica\"]=effusivitàTermica\n",
    "\n",
    "\n",
    "\n",
    "paretiOutput[parete]"
   ]
  },
  {
   "cell_type": "code",
   "execution_count": 199,
   "metadata": {
    "scrolled": true
   },
   "outputs": [
    {
     "name": "stdout",
     "output_type": "stream",
     "text": [
      "Sfasamento:\n",
      "parete 0a  :  8.434329437326848\n",
      "parete 0b  :  1.4890902430619626\n",
      "parete 1a  :  9.087569108789243\n",
      "parete 1b  :  9.442959399012102\n",
      "parete 2a  :  11.245213146510668\n",
      "parete 3a  :  9.330670920511281\n",
      "parete 3b  :  8.581322085902597\n",
      "parete 3c  :  13.775666673677245\n",
      "Attenuazione:\n",
      "parete 0a  :  -0.0018380061028167051\n",
      "parete 0b  :  -0.9699259737018535\n",
      "parete 1a  :  -0.35184100462306395\n",
      "parete 1b  :  -0.2522952161285369\n",
      "parete 2a  :  -0.1820611794644262\n",
      "parete 3a  :  -0.3343681232575215\n",
      "parete 3b  :  -0.35551273885615997\n",
      "parete 3c  :  -0.17676821061843245\n"
     ]
    }
   ],
   "source": [
    "print(\"Sfasamento:\") \n",
    "for key in pareti.keys():\n",
    "    if \"sfasamento\" in pareti[key].keys():\n",
    "        print(\"parete\" ,key,\" : \",pareti[key][\"sfasamento\"])\n",
    "\n",
    "print(\"Attenuazione:\")        \n",
    "for key in pareti.keys():\n",
    "    if \"attenuazione\" in pareti[key].keys():\n",
    "        print(\"parete\" ,key,\" : \",pareti[key][\"attenuazione\"])        "
   ]
  },
  {
   "cell_type": "code",
   "execution_count": 200,
   "metadata": {},
   "outputs": [
    {
     "data": {
      "text/html": [
       "<div>\n",
       "<style scoped>\n",
       "    .dataframe tbody tr th:only-of-type {\n",
       "        vertical-align: middle;\n",
       "    }\n",
       "\n",
       "    .dataframe tbody tr th {\n",
       "        vertical-align: top;\n",
       "    }\n",
       "\n",
       "    .dataframe thead th {\n",
       "        text-align: right;\n",
       "    }\n",
       "</style>\n",
       "<table border=\"1\" class=\"dataframe\">\n",
       "  <thead>\n",
       "    <tr style=\"text-align: right;\">\n",
       "      <th></th>\n",
       "      <th>strati</th>\n",
       "      <th>spessori</th>\n",
       "      <th>trasmittanze</th>\n",
       "      <th>mu</th>\n",
       "    </tr>\n",
       "  </thead>\n",
       "  <tbody>\n",
       "    <tr>\n",
       "      <th>0</th>\n",
       "      <td>Gessofibra</td>\n",
       "      <td>0.015</td>\n",
       "      <td>0.210</td>\n",
       "      <td>5.0</td>\n",
       "    </tr>\n",
       "    <tr>\n",
       "      <th>1</th>\n",
       "      <td>X-LAM KLH</td>\n",
       "      <td>0.096</td>\n",
       "      <td>0.130</td>\n",
       "      <td>25.0</td>\n",
       "    </tr>\n",
       "    <tr>\n",
       "      <th>2</th>\n",
       "      <td>Isolante alta densità Naturalia Diffuterm</td>\n",
       "      <td>0.130</td>\n",
       "      <td>0.043</td>\n",
       "      <td>5.0</td>\n",
       "    </tr>\n",
       "    <tr>\n",
       "      <th>3</th>\n",
       "      <td>Intonaco calce</td>\n",
       "      <td>0.015</td>\n",
       "      <td>0.900</td>\n",
       "      <td>20.0</td>\n",
       "    </tr>\n",
       "  </tbody>\n",
       "</table>\n",
       "</div>"
      ],
      "text/plain": [
       "                                      strati  spessori  trasmittanze    mu\n",
       "0                                 Gessofibra     0.015         0.210   5.0\n",
       "1                                  X-LAM KLH     0.096         0.130  25.0\n",
       "2  Isolante alta densità Naturalia Diffuterm     0.130         0.043   5.0\n",
       "3                             Intonaco calce     0.015         0.900  20.0"
      ]
     },
     "execution_count": 200,
     "metadata": {},
     "output_type": "execute_result"
    }
   ],
   "source": [
    "col = ['strati','spessori','trasmittanze','mu']#colonne da tenere\n",
    "df = pd.DataFrame(pareti[parete],columns=col) \n",
    "\n",
    "with open('tabella-input-'+parete+'.tex','w') as f:\n",
    "    f.write(\n",
    "            df.to_latex(\n",
    "            index=False,\n",
    "            decimal=\",\",\n",
    "            caption=pareti[parete][\"descrizione\"],\n",
    "            column_format=\"lrrr\",\n",
    "            header=[\"Strati\",\"Spessori\",\"Trasmitttanza\", \"mu\"],\n",
    "            )\n",
    "        )\n",
    "    f.close()\n",
    "df   "
   ]
  },
  {
   "cell_type": "code",
   "execution_count": 201,
   "metadata": {},
   "outputs": [
    {
     "data": {
      "text/html": [
       "<div>\n",
       "<style scoped>\n",
       "    .dataframe tbody tr th:only-of-type {\n",
       "        vertical-align: middle;\n",
       "    }\n",
       "\n",
       "    .dataframe tbody tr th {\n",
       "        vertical-align: top;\n",
       "    }\n",
       "\n",
       "    .dataframe thead th {\n",
       "        text-align: right;\n",
       "    }\n",
       "</style>\n",
       "<table border=\"1\" class=\"dataframe\">\n",
       "  <thead>\n",
       "    <tr style=\"text-align: right;\">\n",
       "      <th></th>\n",
       "      <th>0a</th>\n",
       "      <th>0b</th>\n",
       "      <th>1a</th>\n",
       "      <th>1b</th>\n",
       "      <th>2a</th>\n",
       "      <th>3a</th>\n",
       "      <th>3b</th>\n",
       "      <th>3c</th>\n",
       "    </tr>\n",
       "  </thead>\n",
       "  <tbody>\n",
       "    <tr>\n",
       "      <th>descrizione</th>\n",
       "      <td>Parete solo mattone pieno</td>\n",
       "      <td>Parete solo isolante</td>\n",
       "      <td>Parete in laterizio con isolante interno</td>\n",
       "      <td>Parete in laterizio con isolante esterno</td>\n",
       "      <td>Parete in Poroton con isolante esterno</td>\n",
       "      <td>Perete in X-LAM con isolante bassa densità</td>\n",
       "      <td>Perete in X-LAM con isolante bassa densità lan...</td>\n",
       "      <td>Perete in X-LAM con isolante alta densità fibr...</td>\n",
       "    </tr>\n",
       "    <tr>\n",
       "      <th>strati</th>\n",
       "      <td>[Mattone pieno]</td>\n",
       "      <td>[Isolante VentirockDuo ]</td>\n",
       "      <td>[Intonaco, Isolante VentirockDuo, Laterizio se...</td>\n",
       "      <td>[Intonaco, Laterizio semipieno, Isolante Venti...</td>\n",
       "      <td>[Intonaco, Laterizio Poroton, Isolante Ventiro...</td>\n",
       "      <td>[Gessofibra, X-LAM KLH, Isolante bassa densità...</td>\n",
       "      <td>[Gessofibra, X-LAM KLH, Isolante VentirockDuo,...</td>\n",
       "      <td>[Gessofibra, X-LAM KLH, Isolante alta densità ...</td>\n",
       "    </tr>\n",
       "    <tr>\n",
       "      <th>spessori</th>\n",
       "      <td>[1.0]</td>\n",
       "      <td>[0.12]</td>\n",
       "      <td>[0.015, 0.12, 0.2, 0.015]</td>\n",
       "      <td>[0.015, 0.2, 0.12, 0.015]</td>\n",
       "      <td>[0.015, 0.2, 0.11, 0.015]</td>\n",
       "      <td>[0.015, 0.096, 0.12, 0.015]</td>\n",
       "      <td>[0.015, 0.096, 0.11, 0.015]</td>\n",
       "      <td>[0.015, 0.096, 0.13, 0.015]</td>\n",
       "    </tr>\n",
       "    <tr>\n",
       "      <th>trasmittanze</th>\n",
       "      <td>[0.78]</td>\n",
       "      <td>[0.035]</td>\n",
       "      <td>[0.6, 0.035, 0.53, 0.9]</td>\n",
       "      <td>[0.6, 0.53, 0.035, 0.9]</td>\n",
       "      <td>[0.6, 0.23, 0.035, 0.9]</td>\n",
       "      <td>[0.21, 0.13, 0.038, 0.9]</td>\n",
       "      <td>[0.21, 0.13, 0.035, 0.9]</td>\n",
       "      <td>[0.21, 0.13, 0.043, 0.9]</td>\n",
       "    </tr>\n",
       "    <tr>\n",
       "      <th>mu</th>\n",
       "      <td>[10.0]</td>\n",
       "      <td>[1.0]</td>\n",
       "      <td>[6.0, 1.0, 10.0, 8.0]</td>\n",
       "      <td>[6.0, 10.0, 1.0, 8.0]</td>\n",
       "      <td>[6.0, 10.0, 1.0, 8.0]</td>\n",
       "      <td>[5.0, 25.0, 1.0, 20.0]</td>\n",
       "      <td>[5.0, 25.0, 1.0, 20.0]</td>\n",
       "      <td>[5.0, 25.0, 5.0, 20.0]</td>\n",
       "    </tr>\n",
       "    <tr>\n",
       "      <th>densità</th>\n",
       "      <td>[1700.0]</td>\n",
       "      <td>[70.0]</td>\n",
       "      <td>[1500.0, 70.0, 1000.0, 1800.0]</td>\n",
       "      <td>[1500.0, 1000.0, 70.0, 1800.0]</td>\n",
       "      <td>[1500.0, 860.0, 70.0, 1800.0]</td>\n",
       "      <td>[1150.0, 500.0, 50.0, 1800.0]</td>\n",
       "      <td>[1150.0, 500.0, 70.0, 1800.0]</td>\n",
       "      <td>[1150.0, 500.0, 190.0, 1800.0]</td>\n",
       "    </tr>\n",
       "    <tr>\n",
       "      <th>caloreSpecifico</th>\n",
       "      <td>[940.0]</td>\n",
       "      <td>[1030.0]</td>\n",
       "      <td>[1000.0, 1030.0, 840.0, 1000.0]</td>\n",
       "      <td>[1000.0, 840.0, 1030.0, 1000.0]</td>\n",
       "      <td>[1000.0, 840.0, 1030.0, 1000.0]</td>\n",
       "      <td>[1100.0, 1600.0, 2100.0, 1000.0]</td>\n",
       "      <td>[1100.0, 1600.0, 1030.0, 1000.0]</td>\n",
       "      <td>[1100.0, 1600.0, 2100.0, 1000.0]</td>\n",
       "    </tr>\n",
       "    <tr>\n",
       "      <th>Sd</th>\n",
       "      <td>[10.0]</td>\n",
       "      <td>[0.12]</td>\n",
       "      <td>[0.09, 0.12, 2.0, 0.12]</td>\n",
       "      <td>[0.09, 2.0, 0.12, 0.12]</td>\n",
       "      <td>[0.09, 2.0, 0.11, 0.12]</td>\n",
       "      <td>[0.075, 2.4, 0.12, 0.3]</td>\n",
       "      <td>[0.075, 2.4, 0.11, 0.3]</td>\n",
       "      <td>[0.075, 2.4, 0.65, 0.3]</td>\n",
       "    </tr>\n",
       "    <tr>\n",
       "      <th>spessoreTot</th>\n",
       "      <td>1</td>\n",
       "      <td>0.12</td>\n",
       "      <td>0.35</td>\n",
       "      <td>0.35</td>\n",
       "      <td>0.34</td>\n",
       "      <td>0.246</td>\n",
       "      <td>0.236</td>\n",
       "      <td>0.256</td>\n",
       "    </tr>\n",
       "    <tr>\n",
       "      <th>resistenze</th>\n",
       "      <td>[0.13, 1.282051282051282, 0.04]</td>\n",
       "      <td>[0.13, 3.428571428571428, 0.04]</td>\n",
       "      <td>[0.13, 0.025, 3.428571428571428, 0.37735849056...</td>\n",
       "      <td>[0.13, 0.025, 0.37735849056603776, 3.428571428...</td>\n",
       "      <td>[0.13, 0.025, 0.8695652173913043, 3.1428571428...</td>\n",
       "      <td>[0.13, 0.07142857142857142, 0.7384615384615385...</td>\n",
       "      <td>[0.13, 0.07142857142857142, 0.7384615384615385...</td>\n",
       "      <td>[0.13, 0.07142857142857142, 0.7384615384615385...</td>\n",
       "    </tr>\n",
       "    <tr>\n",
       "      <th>resistenzeTot</th>\n",
       "      <td>1.45205</td>\n",
       "      <td>3.59857</td>\n",
       "      <td>4.0176</td>\n",
       "      <td>4.0176</td>\n",
       "      <td>4.22409</td>\n",
       "      <td>4.15445</td>\n",
       "      <td>4.13941</td>\n",
       "      <td>4.01981</td>\n",
       "    </tr>\n",
       "    <tr>\n",
       "      <th>temperature</th>\n",
       "      <td>[20.0, 17.761787038672082, -4.311319088822177,...</td>\n",
       "      <td>[20.0, 19.0968638348551, -4.722111949186186, -...</td>\n",
       "      <td>[20.0, 19.191058651462512, 19.035493007512997,...</td>\n",
       "      <td>[20.0, 19.191058651462512, 19.035493007512997,...</td>\n",
       "      <td>[20.0, 19.230603337360648, 19.08264244069923, ...</td>\n",
       "      <td>[20.0, 19.217706599892153, 18.78787506137136, ...</td>\n",
       "      <td>[20.0, 19.21486469744969, 18.7834716740704, 14...</td>\n",
       "      <td>[20.0, 19.191504597086837, 18.74727635372796, ...</td>\n",
       "    </tr>\n",
       "    <tr>\n",
       "      <th>pressioniSaturazione</th>\n",
       "      <td>[2336.951143802342, 2032.136515913911, 425.471...</td>\n",
       "      <td>[2336.951143802342, 2209.457007725478, 410.826...</td>\n",
       "      <td>[2336.951143802342, 2222.463726062035, 2201.01...</td>\n",
       "      <td>[2336.951143802342, 2222.463726062035, 2201.01...</td>\n",
       "      <td>[2336.951143802342, 2227.944113246787, 2207.49...</td>\n",
       "      <td>[2336.951143802342, 2226.155492920845, 2167.25...</td>\n",
       "      <td>[2336.951143802342, 2225.761524627243, 2166.66...</td>\n",
       "      <td>[2336.951143802342, 2222.5254626086785, 2161.7...</td>\n",
       "    </tr>\n",
       "    <tr>\n",
       "      <th>pressioni</th>\n",
       "      <td>[1519.0182434715223, 361.06288321649004]</td>\n",
       "      <td>[1519.0182434715223, 361.0628832164898]</td>\n",
       "      <td>[1519.0182434715223, 1474.2903540196112, 1414....</td>\n",
       "      <td>[1519.0182434715223, 1474.2903540196112, 480.3...</td>\n",
       "      <td>[1519.0182434715223, 1474.0975613926632, 475.8...</td>\n",
       "      <td>[1519.0182434715223, 1489.0193999415992, 529.0...</td>\n",
       "      <td>[1519.0182434715223, 1488.915417814979, 525.62...</td>\n",
       "      <td>[1519.0182434715223, 1493.6615567506092, 682.2...</td>\n",
       "    </tr>\n",
       "    <tr>\n",
       "      <th>profonditàPenetrazione</th>\n",
       "      <td>[0.11586195405117661]</td>\n",
       "      <td>[0.1155442464870155]</td>\n",
       "      <td>[0.10488464933683958, 0.1155442464870155, 0.13...</td>\n",
       "      <td>[0.10488464933683958, 0.13172864563603823, 0.1...</td>\n",
       "      <td>[0.10488464933683958, 0.09357438559709087, 0.1...</td>\n",
       "      <td>[0.06756881764921453, 0.0668511092056102, 0.09...</td>\n",
       "      <td>[0.06756881764921453, 0.0668511092056102, 0.11...</td>\n",
       "      <td>[0.06756881764921453, 0.0668511092056102, 0.05...</td>\n",
       "    </tr>\n",
       "    <tr>\n",
       "      <th>xi</th>\n",
       "      <td>[8.630960941313804]</td>\n",
       "      <td>[1.0385631794611705]</td>\n",
       "      <td>[0.1430142551349639, 1.0385631794611705, 1.518...</td>\n",
       "      <td>[0.1430142551349639, 1.5182726508294424, 1.038...</td>\n",
       "      <td>[0.1430142551349639, 2.1373370364530375, 0.952...</td>\n",
       "      <td>[0.22199589280772875, 1.436027032920848, 1.202...</td>\n",
       "      <td>[0.22199589280772875, 1.436027032920848, 0.952...</td>\n",
       "      <td>[0.22199589280772875, 1.436027032920848, 2.387...</td>\n",
       "    </tr>\n",
       "    <tr>\n",
       "      <th>attenuazione</th>\n",
       "      <td>-0.00183801</td>\n",
       "      <td>-0.969926</td>\n",
       "      <td>-0.351841</td>\n",
       "      <td>-0.252295</td>\n",
       "      <td>-0.182061</td>\n",
       "      <td>-0.334368</td>\n",
       "      <td>-0.355513</td>\n",
       "      <td>-0.176768</td>\n",
       "    </tr>\n",
       "    <tr>\n",
       "      <th>sfasamento</th>\n",
       "      <td>8.43433</td>\n",
       "      <td>1.48909</td>\n",
       "      <td>9.08757</td>\n",
       "      <td>9.44296</td>\n",
       "      <td>11.2452</td>\n",
       "      <td>9.33067</td>\n",
       "      <td>8.58132</td>\n",
       "      <td>13.7757</td>\n",
       "    </tr>\n",
       "    <tr>\n",
       "      <th>trasmittanzaTermicaPeriodica</th>\n",
       "      <td>0.0012658</td>\n",
       "      <td>0.269531</td>\n",
       "      <td>0.087575</td>\n",
       "      <td>0.0627975</td>\n",
       "      <td>0.0431007</td>\n",
       "      <td>0.0804843</td>\n",
       "      <td>0.0858848</td>\n",
       "      <td>0.0439742</td>\n",
       "    </tr>\n",
       "    <tr>\n",
       "      <th>ammettanzaInterna</th>\n",
       "      <td>4.6008</td>\n",
       "      <td>0.363804</td>\n",
       "      <td>1.74384</td>\n",
       "      <td>3.92528</td>\n",
       "      <td>3.17135</td>\n",
       "      <td>2.651</td>\n",
       "      <td>2.65927</td>\n",
       "      <td>2.61307</td>\n",
       "    </tr>\n",
       "    <tr>\n",
       "      <th>ammettanzaEsterna</th>\n",
       "      <td>7.33752</td>\n",
       "      <td>0.372645</td>\n",
       "      <td>5.99115</td>\n",
       "      <td>2.15729</td>\n",
       "      <td>2.15393</td>\n",
       "      <td>2.25678</td>\n",
       "      <td>2.16057</td>\n",
       "      <td>2.73005</td>\n",
       "    </tr>\n",
       "    <tr>\n",
       "      <th>capacitàTermicaAreica</th>\n",
       "      <td>[1598.0]</td>\n",
       "      <td>[8.652]</td>\n",
       "      <td>[22.5, 8.652, 168.0, 27.0]</td>\n",
       "      <td>[22.5, 168.0, 8.652, 27.0]</td>\n",
       "      <td>[22.5, 144.48, 7.931, 27.0]</td>\n",
       "      <td>[18.975, 76.8, 12.6, 27.0]</td>\n",
       "      <td>[18.975, 76.8, 7.931, 27.0]</td>\n",
       "      <td>[18.975, 76.8, 51.87, 27.0]</td>\n",
       "    </tr>\n",
       "    <tr>\n",
       "      <th>capacitàTermicaAreicaTot</th>\n",
       "      <td>1598</td>\n",
       "      <td>8.652</td>\n",
       "      <td>226.152</td>\n",
       "      <td>226.152</td>\n",
       "      <td>201.911</td>\n",
       "      <td>135.375</td>\n",
       "      <td>130.706</td>\n",
       "      <td>174.645</td>\n",
       "    </tr>\n",
       "    <tr>\n",
       "      <th>CapacitàTermicaAreicaInterna</th>\n",
       "      <td>63.2801</td>\n",
       "      <td>4.10482</td>\n",
       "      <td>25.0948</td>\n",
       "      <td>54.8209</td>\n",
       "      <td>44.1525</td>\n",
       "      <td>37.5582</td>\n",
       "      <td>37.7093</td>\n",
       "      <td>36.2094</td>\n",
       "    </tr>\n",
       "    <tr>\n",
       "      <th>CapacitàTermicaAreicaEsterna</th>\n",
       "      <td>100.914</td>\n",
       "      <td>4.31705</td>\n",
       "      <td>83.5872</td>\n",
       "      <td>30.353</td>\n",
       "      <td>29.8806</td>\n",
       "      <td>31.9492</td>\n",
       "      <td>30.7896</td>\n",
       "      <td>37.5077</td>\n",
       "    </tr>\n",
       "    <tr>\n",
       "      <th>massaSuperficiale</th>\n",
       "      <td>[1700.0]</td>\n",
       "      <td>[8.4]</td>\n",
       "      <td>[22.5, 8.4, 200.0, 27.0]</td>\n",
       "      <td>[22.5, 200.0, 8.4, 27.0]</td>\n",
       "      <td>[22.5, 172.0, 7.7, 27.0]</td>\n",
       "      <td>[17.25, 48.0, 6.0, 27.0]</td>\n",
       "      <td>[17.25, 48.0, 7.7, 27.0]</td>\n",
       "      <td>[17.25, 48.0, 24.7, 27.0]</td>\n",
       "    </tr>\n",
       "    <tr>\n",
       "      <th>massaSuperficialeTot</th>\n",
       "      <td>1700</td>\n",
       "      <td>8.4</td>\n",
       "      <td>257.9</td>\n",
       "      <td>257.9</td>\n",
       "      <td>229.2</td>\n",
       "      <td>98.25</td>\n",
       "      <td>99.95</td>\n",
       "      <td>116.95</td>\n",
       "    </tr>\n",
       "    <tr>\n",
       "      <th>diffusivitàTermica</th>\n",
       "      <td>[4.881101376720901]</td>\n",
       "      <td>[4.8543689320388355]</td>\n",
       "      <td>[4.0, 4.8543689320388355, 6.30952380952381, 5.0]</td>\n",
       "      <td>[4.0, 6.30952380952381, 4.8543689320388355, 5.0]</td>\n",
       "      <td>[4.0, 3.1838316722037656, 4.8543689320388355, ...</td>\n",
       "      <td>[1.6600790513833992, 1.625, 3.619047619047619,...</td>\n",
       "      <td>[1.6600790513833992, 1.625, 4.8543689320388355...</td>\n",
       "      <td>[1.6600790513833992, 1.625, 1.0776942355889723...</td>\n",
       "    </tr>\n",
       "    <tr>\n",
       "      <th>effusivitàTermica</th>\n",
       "      <td>[1116.4407731716]</td>\n",
       "      <td>[50.23445033042564]</td>\n",
       "      <td>[948.6832980505138, 50.23445033042564, 667.233...</td>\n",
       "      <td>[948.6832980505138, 667.2330927044911, 50.2344...</td>\n",
       "      <td>[948.6832980505138, 407.61746773169574, 50.234...</td>\n",
       "      <td>[515.412456194066, 322.49030993194197, 63.1664...</td>\n",
       "      <td>[515.412456194066, 322.49030993194197, 50.2344...</td>\n",
       "      <td>[515.412456194066, 322.49030993194197, 130.984...</td>\n",
       "    </tr>\n",
       "  </tbody>\n",
       "</table>\n",
       "</div>"
      ],
      "text/plain": [
       "                                                                             0a  \\\n",
       "descrizione                                           Parete solo mattone pieno   \n",
       "strati                                                          [Mattone pieno]   \n",
       "spessori                                                                  [1.0]   \n",
       "trasmittanze                                                             [0.78]   \n",
       "mu                                                                       [10.0]   \n",
       "densità                                                                [1700.0]   \n",
       "caloreSpecifico                                                         [940.0]   \n",
       "Sd                                                                       [10.0]   \n",
       "spessoreTot                                                                   1   \n",
       "resistenze                                      [0.13, 1.282051282051282, 0.04]   \n",
       "resistenzeTot                                                           1.45205   \n",
       "temperature                   [20.0, 17.761787038672082, -4.311319088822177,...   \n",
       "pressioniSaturazione          [2336.951143802342, 2032.136515913911, 425.471...   \n",
       "pressioni                              [1519.0182434715223, 361.06288321649004]   \n",
       "profonditàPenetrazione                                    [0.11586195405117661]   \n",
       "xi                                                          [8.630960941313804]   \n",
       "attenuazione                                                        -0.00183801   \n",
       "sfasamento                                                              8.43433   \n",
       "trasmittanzaTermicaPeriodica                                          0.0012658   \n",
       "ammettanzaInterna                                                        4.6008   \n",
       "ammettanzaEsterna                                                       7.33752   \n",
       "capacitàTermicaAreica                                                  [1598.0]   \n",
       "capacitàTermicaAreicaTot                                                   1598   \n",
       "CapacitàTermicaAreicaInterna                                            63.2801   \n",
       "CapacitàTermicaAreicaEsterna                                            100.914   \n",
       "massaSuperficiale                                                      [1700.0]   \n",
       "massaSuperficialeTot                                                       1700   \n",
       "diffusivitàTermica                                          [4.881101376720901]   \n",
       "effusivitàTermica                                             [1116.4407731716]   \n",
       "\n",
       "                                                                             0b  \\\n",
       "descrizione                                                Parete solo isolante   \n",
       "strati                                                 [Isolante VentirockDuo ]   \n",
       "spessori                                                                 [0.12]   \n",
       "trasmittanze                                                            [0.035]   \n",
       "mu                                                                        [1.0]   \n",
       "densità                                                                  [70.0]   \n",
       "caloreSpecifico                                                        [1030.0]   \n",
       "Sd                                                                       [0.12]   \n",
       "spessoreTot                                                                0.12   \n",
       "resistenze                                      [0.13, 3.428571428571428, 0.04]   \n",
       "resistenzeTot                                                           3.59857   \n",
       "temperature                   [20.0, 19.0968638348551, -4.722111949186186, -...   \n",
       "pressioniSaturazione          [2336.951143802342, 2209.457007725478, 410.826...   \n",
       "pressioni                               [1519.0182434715223, 361.0628832164898]   \n",
       "profonditàPenetrazione                                     [0.1155442464870155]   \n",
       "xi                                                         [1.0385631794611705]   \n",
       "attenuazione                                                          -0.969926   \n",
       "sfasamento                                                              1.48909   \n",
       "trasmittanzaTermicaPeriodica                                           0.269531   \n",
       "ammettanzaInterna                                                      0.363804   \n",
       "ammettanzaEsterna                                                      0.372645   \n",
       "capacitàTermicaAreica                                                   [8.652]   \n",
       "capacitàTermicaAreicaTot                                                  8.652   \n",
       "CapacitàTermicaAreicaInterna                                            4.10482   \n",
       "CapacitàTermicaAreicaEsterna                                            4.31705   \n",
       "massaSuperficiale                                                         [8.4]   \n",
       "massaSuperficialeTot                                                        8.4   \n",
       "diffusivitàTermica                                         [4.8543689320388355]   \n",
       "effusivitàTermica                                           [50.23445033042564]   \n",
       "\n",
       "                                                                             1a  \\\n",
       "descrizione                            Parete in laterizio con isolante interno   \n",
       "strati                        [Intonaco, Isolante VentirockDuo, Laterizio se...   \n",
       "spessori                                              [0.015, 0.12, 0.2, 0.015]   \n",
       "trasmittanze                                            [0.6, 0.035, 0.53, 0.9]   \n",
       "mu                                                        [6.0, 1.0, 10.0, 8.0]   \n",
       "densità                                          [1500.0, 70.0, 1000.0, 1800.0]   \n",
       "caloreSpecifico                                 [1000.0, 1030.0, 840.0, 1000.0]   \n",
       "Sd                                                      [0.09, 0.12, 2.0, 0.12]   \n",
       "spessoreTot                                                                0.35   \n",
       "resistenze                    [0.13, 0.025, 3.428571428571428, 0.37735849056...   \n",
       "resistenzeTot                                                            4.0176   \n",
       "temperature                   [20.0, 19.191058651462512, 19.035493007512997,...   \n",
       "pressioniSaturazione          [2336.951143802342, 2222.463726062035, 2201.01...   \n",
       "pressioni                     [1519.0182434715223, 1474.2903540196112, 1414....   \n",
       "profonditàPenetrazione        [0.10488464933683958, 0.1155442464870155, 0.13...   \n",
       "xi                            [0.1430142551349639, 1.0385631794611705, 1.518...   \n",
       "attenuazione                                                          -0.351841   \n",
       "sfasamento                                                              9.08757   \n",
       "trasmittanzaTermicaPeriodica                                           0.087575   \n",
       "ammettanzaInterna                                                       1.74384   \n",
       "ammettanzaEsterna                                                       5.99115   \n",
       "capacitàTermicaAreica                                [22.5, 8.652, 168.0, 27.0]   \n",
       "capacitàTermicaAreicaTot                                                226.152   \n",
       "CapacitàTermicaAreicaInterna                                            25.0948   \n",
       "CapacitàTermicaAreicaEsterna                                            83.5872   \n",
       "massaSuperficiale                                      [22.5, 8.4, 200.0, 27.0]   \n",
       "massaSuperficialeTot                                                      257.9   \n",
       "diffusivitàTermica             [4.0, 4.8543689320388355, 6.30952380952381, 5.0]   \n",
       "effusivitàTermica             [948.6832980505138, 50.23445033042564, 667.233...   \n",
       "\n",
       "                                                                             1b  \\\n",
       "descrizione                            Parete in laterizio con isolante esterno   \n",
       "strati                        [Intonaco, Laterizio semipieno, Isolante Venti...   \n",
       "spessori                                              [0.015, 0.2, 0.12, 0.015]   \n",
       "trasmittanze                                            [0.6, 0.53, 0.035, 0.9]   \n",
       "mu                                                        [6.0, 10.0, 1.0, 8.0]   \n",
       "densità                                          [1500.0, 1000.0, 70.0, 1800.0]   \n",
       "caloreSpecifico                                 [1000.0, 840.0, 1030.0, 1000.0]   \n",
       "Sd                                                      [0.09, 2.0, 0.12, 0.12]   \n",
       "spessoreTot                                                                0.35   \n",
       "resistenze                    [0.13, 0.025, 0.37735849056603776, 3.428571428...   \n",
       "resistenzeTot                                                            4.0176   \n",
       "temperature                   [20.0, 19.191058651462512, 19.035493007512997,...   \n",
       "pressioniSaturazione          [2336.951143802342, 2222.463726062035, 2201.01...   \n",
       "pressioni                     [1519.0182434715223, 1474.2903540196112, 480.3...   \n",
       "profonditàPenetrazione        [0.10488464933683958, 0.13172864563603823, 0.1...   \n",
       "xi                            [0.1430142551349639, 1.5182726508294424, 1.038...   \n",
       "attenuazione                                                          -0.252295   \n",
       "sfasamento                                                              9.44296   \n",
       "trasmittanzaTermicaPeriodica                                          0.0627975   \n",
       "ammettanzaInterna                                                       3.92528   \n",
       "ammettanzaEsterna                                                       2.15729   \n",
       "capacitàTermicaAreica                                [22.5, 168.0, 8.652, 27.0]   \n",
       "capacitàTermicaAreicaTot                                                226.152   \n",
       "CapacitàTermicaAreicaInterna                                            54.8209   \n",
       "CapacitàTermicaAreicaEsterna                                             30.353   \n",
       "massaSuperficiale                                      [22.5, 200.0, 8.4, 27.0]   \n",
       "massaSuperficialeTot                                                      257.9   \n",
       "diffusivitàTermica             [4.0, 6.30952380952381, 4.8543689320388355, 5.0]   \n",
       "effusivitàTermica             [948.6832980505138, 667.2330927044911, 50.2344...   \n",
       "\n",
       "                                                                             2a  \\\n",
       "descrizione                              Parete in Poroton con isolante esterno   \n",
       "strati                        [Intonaco, Laterizio Poroton, Isolante Ventiro...   \n",
       "spessori                                              [0.015, 0.2, 0.11, 0.015]   \n",
       "trasmittanze                                            [0.6, 0.23, 0.035, 0.9]   \n",
       "mu                                                        [6.0, 10.0, 1.0, 8.0]   \n",
       "densità                                           [1500.0, 860.0, 70.0, 1800.0]   \n",
       "caloreSpecifico                                 [1000.0, 840.0, 1030.0, 1000.0]   \n",
       "Sd                                                      [0.09, 2.0, 0.11, 0.12]   \n",
       "spessoreTot                                                                0.34   \n",
       "resistenze                    [0.13, 0.025, 0.8695652173913043, 3.1428571428...   \n",
       "resistenzeTot                                                           4.22409   \n",
       "temperature                   [20.0, 19.230603337360648, 19.08264244069923, ...   \n",
       "pressioniSaturazione          [2336.951143802342, 2227.944113246787, 2207.49...   \n",
       "pressioni                     [1519.0182434715223, 1474.0975613926632, 475.8...   \n",
       "profonditàPenetrazione        [0.10488464933683958, 0.09357438559709087, 0.1...   \n",
       "xi                            [0.1430142551349639, 2.1373370364530375, 0.952...   \n",
       "attenuazione                                                          -0.182061   \n",
       "sfasamento                                                              11.2452   \n",
       "trasmittanzaTermicaPeriodica                                          0.0431007   \n",
       "ammettanzaInterna                                                       3.17135   \n",
       "ammettanzaEsterna                                                       2.15393   \n",
       "capacitàTermicaAreica                               [22.5, 144.48, 7.931, 27.0]   \n",
       "capacitàTermicaAreicaTot                                                201.911   \n",
       "CapacitàTermicaAreicaInterna                                            44.1525   \n",
       "CapacitàTermicaAreicaEsterna                                            29.8806   \n",
       "massaSuperficiale                                      [22.5, 172.0, 7.7, 27.0]   \n",
       "massaSuperficialeTot                                                      229.2   \n",
       "diffusivitàTermica            [4.0, 3.1838316722037656, 4.8543689320388355, ...   \n",
       "effusivitàTermica             [948.6832980505138, 407.61746773169574, 50.234...   \n",
       "\n",
       "                                                                             3a  \\\n",
       "descrizione                          Perete in X-LAM con isolante bassa densità   \n",
       "strati                        [Gessofibra, X-LAM KLH, Isolante bassa densità...   \n",
       "spessori                                            [0.015, 0.096, 0.12, 0.015]   \n",
       "trasmittanze                                           [0.21, 0.13, 0.038, 0.9]   \n",
       "mu                                                       [5.0, 25.0, 1.0, 20.0]   \n",
       "densità                                           [1150.0, 500.0, 50.0, 1800.0]   \n",
       "caloreSpecifico                                [1100.0, 1600.0, 2100.0, 1000.0]   \n",
       "Sd                                                      [0.075, 2.4, 0.12, 0.3]   \n",
       "spessoreTot                                                               0.246   \n",
       "resistenze                    [0.13, 0.07142857142857142, 0.7384615384615385...   \n",
       "resistenzeTot                                                           4.15445   \n",
       "temperature                   [20.0, 19.217706599892153, 18.78787506137136, ...   \n",
       "pressioniSaturazione          [2336.951143802342, 2226.155492920845, 2167.25...   \n",
       "pressioni                     [1519.0182434715223, 1489.0193999415992, 529.0...   \n",
       "profonditàPenetrazione        [0.06756881764921453, 0.0668511092056102, 0.09...   \n",
       "xi                            [0.22199589280772875, 1.436027032920848, 1.202...   \n",
       "attenuazione                                                          -0.334368   \n",
       "sfasamento                                                              9.33067   \n",
       "trasmittanzaTermicaPeriodica                                          0.0804843   \n",
       "ammettanzaInterna                                                         2.651   \n",
       "ammettanzaEsterna                                                       2.25678   \n",
       "capacitàTermicaAreica                                [18.975, 76.8, 12.6, 27.0]   \n",
       "capacitàTermicaAreicaTot                                                135.375   \n",
       "CapacitàTermicaAreicaInterna                                            37.5582   \n",
       "CapacitàTermicaAreicaEsterna                                            31.9492   \n",
       "massaSuperficiale                                      [17.25, 48.0, 6.0, 27.0]   \n",
       "massaSuperficialeTot                                                      98.25   \n",
       "diffusivitàTermica            [1.6600790513833992, 1.625, 3.619047619047619,...   \n",
       "effusivitàTermica             [515.412456194066, 322.49030993194197, 63.1664...   \n",
       "\n",
       "                                                                             3b  \\\n",
       "descrizione                   Perete in X-LAM con isolante bassa densità lan...   \n",
       "strati                        [Gessofibra, X-LAM KLH, Isolante VentirockDuo,...   \n",
       "spessori                                            [0.015, 0.096, 0.11, 0.015]   \n",
       "trasmittanze                                           [0.21, 0.13, 0.035, 0.9]   \n",
       "mu                                                       [5.0, 25.0, 1.0, 20.0]   \n",
       "densità                                           [1150.0, 500.0, 70.0, 1800.0]   \n",
       "caloreSpecifico                                [1100.0, 1600.0, 1030.0, 1000.0]   \n",
       "Sd                                                      [0.075, 2.4, 0.11, 0.3]   \n",
       "spessoreTot                                                               0.236   \n",
       "resistenze                    [0.13, 0.07142857142857142, 0.7384615384615385...   \n",
       "resistenzeTot                                                           4.13941   \n",
       "temperature                   [20.0, 19.21486469744969, 18.7834716740704, 14...   \n",
       "pressioniSaturazione          [2336.951143802342, 2225.761524627243, 2166.66...   \n",
       "pressioni                     [1519.0182434715223, 1488.915417814979, 525.62...   \n",
       "profonditàPenetrazione        [0.06756881764921453, 0.0668511092056102, 0.11...   \n",
       "xi                            [0.22199589280772875, 1.436027032920848, 0.952...   \n",
       "attenuazione                                                          -0.355513   \n",
       "sfasamento                                                              8.58132   \n",
       "trasmittanzaTermicaPeriodica                                          0.0858848   \n",
       "ammettanzaInterna                                                       2.65927   \n",
       "ammettanzaEsterna                                                       2.16057   \n",
       "capacitàTermicaAreica                               [18.975, 76.8, 7.931, 27.0]   \n",
       "capacitàTermicaAreicaTot                                                130.706   \n",
       "CapacitàTermicaAreicaInterna                                            37.7093   \n",
       "CapacitàTermicaAreicaEsterna                                            30.7896   \n",
       "massaSuperficiale                                      [17.25, 48.0, 7.7, 27.0]   \n",
       "massaSuperficialeTot                                                      99.95   \n",
       "diffusivitàTermica            [1.6600790513833992, 1.625, 4.8543689320388355...   \n",
       "effusivitàTermica             [515.412456194066, 322.49030993194197, 50.2344...   \n",
       "\n",
       "                                                                             3c  \n",
       "descrizione                   Perete in X-LAM con isolante alta densità fibr...  \n",
       "strati                        [Gessofibra, X-LAM KLH, Isolante alta densità ...  \n",
       "spessori                                            [0.015, 0.096, 0.13, 0.015]  \n",
       "trasmittanze                                           [0.21, 0.13, 0.043, 0.9]  \n",
       "mu                                                       [5.0, 25.0, 5.0, 20.0]  \n",
       "densità                                          [1150.0, 500.0, 190.0, 1800.0]  \n",
       "caloreSpecifico                                [1100.0, 1600.0, 2100.0, 1000.0]  \n",
       "Sd                                                      [0.075, 2.4, 0.65, 0.3]  \n",
       "spessoreTot                                                               0.256  \n",
       "resistenze                    [0.13, 0.07142857142857142, 0.7384615384615385...  \n",
       "resistenzeTot                                                           4.01981  \n",
       "temperature                   [20.0, 19.191504597086837, 18.74727635372796, ...  \n",
       "pressioniSaturazione          [2336.951143802342, 2222.5254626086785, 2161.7...  \n",
       "pressioni                     [1519.0182434715223, 1493.6615567506092, 682.2...  \n",
       "profonditàPenetrazione        [0.06756881764921453, 0.0668511092056102, 0.05...  \n",
       "xi                            [0.22199589280772875, 1.436027032920848, 2.387...  \n",
       "attenuazione                                                          -0.176768  \n",
       "sfasamento                                                              13.7757  \n",
       "trasmittanzaTermicaPeriodica                                          0.0439742  \n",
       "ammettanzaInterna                                                       2.61307  \n",
       "ammettanzaEsterna                                                       2.73005  \n",
       "capacitàTermicaAreica                               [18.975, 76.8, 51.87, 27.0]  \n",
       "capacitàTermicaAreicaTot                                                174.645  \n",
       "CapacitàTermicaAreicaInterna                                            36.2094  \n",
       "CapacitàTermicaAreicaEsterna                                            37.5077  \n",
       "massaSuperficiale                                     [17.25, 48.0, 24.7, 27.0]  \n",
       "massaSuperficialeTot                                                     116.95  \n",
       "diffusivitàTermica            [1.6600790513833992, 1.625, 1.0776942355889723...  \n",
       "effusivitàTermica             [515.412456194066, 322.49030993194197, 130.984...  "
      ]
     },
     "execution_count": 201,
     "metadata": {},
     "output_type": "execute_result"
    }
   ],
   "source": [
    "totalDF = pd.DataFrame(pareti)\n",
    "totalDF"
   ]
  },
  {
   "cell_type": "code",
   "execution_count": 202,
   "metadata": {},
   "outputs": [
    {
     "data": {
      "text/html": [
       "<div>\n",
       "<style scoped>\n",
       "    .dataframe tbody tr th:only-of-type {\n",
       "        vertical-align: middle;\n",
       "    }\n",
       "\n",
       "    .dataframe tbody tr th {\n",
       "        vertical-align: top;\n",
       "    }\n",
       "\n",
       "    .dataframe thead th {\n",
       "        text-align: right;\n",
       "    }\n",
       "</style>\n",
       "<table border=\"1\" class=\"dataframe\">\n",
       "  <thead>\n",
       "    <tr style=\"text-align: right;\">\n",
       "      <th></th>\n",
       "      <th>strati</th>\n",
       "      <th>spessori</th>\n",
       "      <th>densità</th>\n",
       "      <th>caloreSpecifico</th>\n",
       "      <th>massaSuperficiale</th>\n",
       "      <th>profonditàPenetrazione</th>\n",
       "      <th>xi</th>\n",
       "      <th>capacitàTermicaAreica</th>\n",
       "      <th>diffusivitàTermica</th>\n",
       "      <th>effusivitàTermica</th>\n",
       "    </tr>\n",
       "  </thead>\n",
       "  <tbody>\n",
       "    <tr>\n",
       "      <th>0</th>\n",
       "      <td>Gessofibra</td>\n",
       "      <td>0.015</td>\n",
       "      <td>1150.0</td>\n",
       "      <td>1100.0</td>\n",
       "      <td>17.25</td>\n",
       "      <td>0.068</td>\n",
       "      <td>0.222</td>\n",
       "      <td>19.0</td>\n",
       "      <td>1.66</td>\n",
       "      <td>515.4</td>\n",
       "    </tr>\n",
       "    <tr>\n",
       "      <th>1</th>\n",
       "      <td>X-LAM KLH</td>\n",
       "      <td>0.096</td>\n",
       "      <td>500.0</td>\n",
       "      <td>1600.0</td>\n",
       "      <td>48.00</td>\n",
       "      <td>0.067</td>\n",
       "      <td>1.436</td>\n",
       "      <td>76.8</td>\n",
       "      <td>1.62</td>\n",
       "      <td>322.5</td>\n",
       "    </tr>\n",
       "    <tr>\n",
       "      <th>2</th>\n",
       "      <td>Isolante alta densità Naturalia Diffuterm</td>\n",
       "      <td>0.130</td>\n",
       "      <td>190.0</td>\n",
       "      <td>2100.0</td>\n",
       "      <td>24.70</td>\n",
       "      <td>0.054</td>\n",
       "      <td>2.388</td>\n",
       "      <td>51.9</td>\n",
       "      <td>1.08</td>\n",
       "      <td>131.0</td>\n",
       "    </tr>\n",
       "    <tr>\n",
       "      <th>3</th>\n",
       "      <td>Intonaco calce</td>\n",
       "      <td>0.015</td>\n",
       "      <td>1800.0</td>\n",
       "      <td>1000.0</td>\n",
       "      <td>27.00</td>\n",
       "      <td>0.117</td>\n",
       "      <td>0.128</td>\n",
       "      <td>27.0</td>\n",
       "      <td>5.00</td>\n",
       "      <td>1272.8</td>\n",
       "    </tr>\n",
       "  </tbody>\n",
       "</table>\n",
       "</div>"
      ],
      "text/plain": [
       "                                      strati  spessori  densità  \\\n",
       "0                                 Gessofibra     0.015   1150.0   \n",
       "1                                  X-LAM KLH     0.096    500.0   \n",
       "2  Isolante alta densità Naturalia Diffuterm     0.130    190.0   \n",
       "3                             Intonaco calce     0.015   1800.0   \n",
       "\n",
       "   caloreSpecifico  massaSuperficiale  profonditàPenetrazione     xi  \\\n",
       "0           1100.0              17.25                   0.068  0.222   \n",
       "1           1600.0              48.00                   0.067  1.436   \n",
       "2           2100.0              24.70                   0.054  2.388   \n",
       "3           1000.0              27.00                   0.117  0.128   \n",
       "\n",
       "   capacitàTermicaAreica  diffusivitàTermica  effusivitàTermica  \n",
       "0                   19.0                1.66              515.4  \n",
       "1                   76.8                1.62              322.5  \n",
       "2                   51.9                1.08              131.0  \n",
       "3                   27.0                5.00             1272.8  "
      ]
     },
     "execution_count": 202,
     "metadata": {},
     "output_type": "execute_result"
    }
   ],
   "source": [
    "col = ['strati','spessori','densità','caloreSpecifico','massaSuperficiale','profonditàPenetrazione','xi','capacitàTermicaAreica','diffusivitàTermica','effusivitàTermica']#colonne da tenere\n",
    "df = pd.DataFrame(pareti[parete],columns=col) \n",
    "df = df.round({'profonditàPenetrazione':3,'xi':3,'capacitàTermicaAreica':1,'diffusivitàTermica':2,'effusivitàTermica':1}) # arrotonda le cifre decimali\n",
    "# oppure\n",
    "# decimals = pd.Series([3,3], index=['profonditàPenetrazione','xi'])\n",
    "# df = df.round(decimals)\n",
    "\n",
    "with open('tabella-dinamica-'+parete+'.tex','w') as f:\n",
    "    f.write(\n",
    "            df.to_latex(\n",
    "            index=False,\n",
    "            decimal=\",\",\n",
    "            caption=pareti[parete][\"descrizione\"],\n",
    "            column_format=\"lrrrrrrr\",\n",
    "            header=[\"Strati\",\"Spessori\",\"Densità\", \"Calore specifico\",\"Massa superficiale\",\"Profondità di Penetrazione\",\"xi\",\"Capacità termica\",\"Diffusività termica x 10-7\",\"Effusività termcia\"],\n",
    "            )\n",
    "        )  \n",
    "    f.write(\"\\n\\\\begin{flushleft}\\n\")\n",
    "    f.write(\"\\\\begin{align*}\\n\")\n",
    "    \n",
    "    f.write(\"\\\\text{Massa superficiale totale} \\\\, M_s &= \\SI{\")\n",
    "    f.write(str(massaSuperficialeTot))\n",
    "    f.write(\"}{\\\\kilo\\\\gram\\\\per\\\\metre\\\\squared}\\\\\\\\\\n\")\n",
    "    \n",
    "    f.write(\"\\\\text{Sfasamento} \\\\, \\\\Delta\\\\tau &= \\SI{\")\n",
    "    f.write(str(round(sfasamento,2)))\n",
    "    f.write(\"}{\\\\hour}\\\\\\\\\\n\")\n",
    "    \n",
    "    f.write(\"\\\\text{Fattore di attenuazione} \\\\, fd &= \\SI{\")\n",
    "    f.write(str(abs(round(fd,3))))\n",
    "    f.write(\"}{}\\\\\\\\\\n\")\n",
    "    \n",
    "    f.write(\"\\\\text{Trasmittanza termica periodica} \\\\, Y_{12} &= \\SI{\")\n",
    "    f.write(str(abs(round(Y12,3))))\n",
    "    f.write(\"}{\\\\watt\\\\per\\\\metre\\\\squared\\\\per\\\\kelvin}\\\\\\\\\\n\")\n",
    "    \n",
    "    f.write(\"\\\\text{Ammettanza termica interna} \\\\, Y_{11} &= \\SI{\")\n",
    "    f.write(str(abs(round(Y11,3))))\n",
    "    f.write(\"}{\\\\watt\\\\per\\\\metre\\\\squared\\\\per\\\\kelvin}\\\\\\\\\\n\")\n",
    "    \n",
    "    f.write(\"\\\\text{Ammettanza termica esterna} \\\\, Y_{22} &= \\SI{\")\n",
    "    f.write(str(abs(round(Y22,3))))\n",
    "    f.write(\"}{\\\\watt\\\\per\\\\metre\\\\squared\\\\per\\\\kelvin}\\\\\\\\\\n\")\n",
    "    \n",
    "    f.write(\"\\\\text{Capacità termica periodica interna} \\\\, k_1 &= \\SI{\")\n",
    "    f.write(str(abs(round(k1,2))))\n",
    "    f.write(\"}{\\\\kilo\\\\joule\\\\per\\\\metre\\\\squared\\\\per\\\\kelvin}\\\\\\\\\\n\")\n",
    "    \n",
    "    f.write(\"\\\\end{align*}\")\n",
    "    f.write(\"\\n\\\\end{flushleft}\\n\")\n",
    "f.close()\n",
    "df   "
   ]
  },
  {
   "cell_type": "code",
   "execution_count": 203,
   "metadata": {},
   "outputs": [],
   "source": [
    "# Crea delle liste dei valori dentro al dizionario che è dentro all'altro dizionario\n",
    "# esempio:   prova = makeListFromDoubleDicts(pareti,'descrizione')\n",
    "def makeListFromDoubleDicts(dict1,dictKey):\n",
    "    self = [] \n",
    "    for i in dict1.keys():\n",
    "        self.append(dict1[i][dictKey])\n",
    "    return self   "
   ]
  },
  {
   "cell_type": "code",
   "execution_count": 204,
   "metadata": {},
   "outputs": [],
   "source": [
    "resistenzeTot=makeListFromDoubleDicts(paretiOutput,'resistenzeTot')\n",
    "sfasamenti=makeListFromDoubleDicts(pareti,'sfasamento')\n",
    "masseSuperficiali=makeListFromDoubleDicts(pareti,'massaSuperficialeTot')\n",
    "attenuazioni=makeListFromDoubleDicts(pareti,'attenuazione')\n",
    "spessoriTot=makeListFromDoubleDicts(pareti,'spessoreTot')\n",
    "capacitàTermicaAreicheInterne=makeListFromDoubleDicts(pareti,'CapacitàTermicaAreicaInterna')\n",
    "trasmittanzeTermichePeriodiche=makeListFromDoubleDicts(pareti,'trasmittanzaTermicaPeriodica')\n",
    "\n"
   ]
  },
  {
   "cell_type": "code",
   "execution_count": 205,
   "metadata": {},
   "outputs": [
    {
     "data": {
      "text/plain": [
       "<matplotlib.legend.Legend at 0x7fb4dc9bba60>"
      ]
     },
     "execution_count": 205,
     "metadata": {},
     "output_type": "execute_result"
    },
    {
     "data": {
      "image/png": "[encoded data removed]",
      "text/plain": [
       "<Figure size 432x288 with 1 Axes>"
      ]
     },
     "metadata": {
      "needs_background": "light"
     },
     "output_type": "display_data"
    }
   ],
   "source": [
    "# mettere senza asse y oppure con doppi assi\n",
    "# scegliere le altre proprietà da stapare\n",
    "# mettere solo i punti, senza l'unione linee\n",
    "\n",
    "plt.plot(paretiOutput.keys(),resistenzeTot,label='Resistenza termica')\n",
    "plt.plot(paretiOutput.keys(),sfasamenti,label='Sfasamento')\n",
    "plt.plot(paretiOutput.keys(),masseSuperficiali,label='Massa superficiale')\n",
    "plt.plot(paretiOutput.keys(),attenuazioni,label='Attenuazioni')\n",
    "\n",
    "\n",
    "plt.legend(loc='best')\n"
   ]
  },
  {
   "cell_type": "code",
   "execution_count": 206,
   "metadata": {},
   "outputs": [
    {
     "data": {
      "image/png": "[encoded data removed]",
      "text/plain": [
       "<Figure size 432x288 with 1 Axes>"
      ]
     },
     "metadata": {
      "needs_background": "light"
     },
     "output_type": "display_data"
    }
   ],
   "source": [
    "\n",
    "labels = paretiOutput.keys()\n",
    "\n",
    "x = np.arange(len(labels))  # the label locations\n",
    "width = 0.5  # the width of the bars\n",
    "\n",
    "fig, ax = plt.subplots()\n",
    "rects1 = ax.bar(x - width/3, resistenzeTot, width, label='Resistenza termica')\n",
    "rects2 = ax.bar(x + width/3, sfasamenti, width, label='Sfasamento')\n",
    "rects3 = ax.bar(x + 2*width/3, attenuazioni, width, label='Attenuazione')\n",
    "\n",
    "# Add some text for labels, title and custom x-axis tick labels, etc.\n",
    "ax.set_ylabel('Scores')\n",
    "ax.set_title('Scores by group and gender')\n",
    "ax.set_xticks(x)\n",
    "ax.set_xticklabels(labels)\n",
    "ax.legend()\n",
    "\n",
    "def autolabel(rects):\n",
    "    \"\"\"Attach a text label above each bar in *rects*, displaying its height.\"\"\"\n",
    "    for rect in rects:\n",
    "        height = round(rect.get_height(),2)\n",
    "        ax.annotate('{}'.format(height),\n",
    "                    xy=(rect.get_x() + rect.get_width() / 2, height),\n",
    "                    xytext=(0, 3),  # 3 points vertical offset\n",
    "                    textcoords=\"offset points\",\n",
    "                    ha='center', va='bottom')\n",
    "\n",
    "\n",
    "autolabel(rects1)\n",
    "autolabel(rects2)\n",
    "autolabel(rects3)\n",
    "\n",
    "\n",
    "fig.tight_layout()\n",
    "\n",
    "plt.show()"
   ]
  },
  {
   "cell_type": "code",
   "execution_count": 207,
   "metadata": {},
   "outputs": [
    {
     "data": {
      "text/plain": [
       "<BarContainer object of 4 artists>"
      ]
     },
     "execution_count": 207,
     "metadata": {},
     "output_type": "execute_result"
    },
    {
     "data": {
      "image/png": "[encoded data removed]",
      "text/plain": [
       "<Figure size 432x288 with 1 Axes>"
      ]
     },
     "metadata": {
      "needs_background": "light"
     },
     "output_type": "display_data"
    }
   ],
   "source": [
    "data = [[30, 25, 50, 20],\n",
    "[40, 23, 51, 17],\n",
    "[35, 22, 45, 19]]\n",
    "X = np.arange(4)\n",
    "fig = plt.figure()\n",
    "ax = fig.add_axes([0,0,1,1])\n",
    "ax.bar(X + 0.00, data[0], color = 'b', width = 0.25)\n",
    "ax.bar(X + 0.25, data[1], color = 'g', width = 0.25)\n",
    "ax.bar(X + 0.50, data[2], color = 'r', width = 0.25)"
   ]
  },
  {
   "cell_type": "code",
   "execution_count": 208,
   "metadata": {},
   "outputs": [
    {
     "data": {
      "text/plain": [
       "array([6.3280064 , 0.41048219, 2.50947869, 5.48209088, 4.41525465,\n",
       "       3.75582316, 3.77092834, 3.62094495])"
      ]
     },
     "execution_count": 208,
     "metadata": {},
     "output_type": "execute_result"
    }
   ],
   "source": [
    "np.array(capacitàTermicaAreicheInterne)*0.1"
   ]
  },
  {
   "cell_type": "code",
   "execution_count": 209,
   "metadata": {},
   "outputs": [
    {
     "data": {
      "text/plain": [
       "['0a', '0b', '1a', '1b', '2a', '3a', '3b', '3c']"
      ]
     },
     "execution_count": 209,
     "metadata": {},
     "output_type": "execute_result"
    }
   ],
   "source": [
    "list(paretiOutput.keys())"
   ]
  },
  {
   "cell_type": "code",
   "execution_count": 210,
   "metadata": {},
   "outputs": [
    {
     "name": "stderr",
     "output_type": "stream",
     "text": [
      "<ipython-input-210-0424674dd0ab>:84: UserWarning: FixedFormatter should only be used together with FixedLocator\n",
      "  ax.set_xticklabels(['']+list(paretiOutput.keys())) # altrimenti parte dal secondo elemento\n"
     ]
    },
    {
     "data": {
      "image/png": "[encoded data removed]",
      "text/plain": [
       "<Figure size 432x288 with 1 Axes>"
      ]
     },
     "metadata": {
      "needs_background": "light"
     },
     "output_type": "display_data"
    }
   ],
   "source": [
    "#  https://stackoverflow.com/questions/14270391/python-matplotlib-multiple-bars\n",
    "\n",
    "def bar_plot(ax, data, colors=None, total_width=0.8, single_width=1, legend=True):\n",
    "    \"\"\"Draws a bar plot with multiple bars per data point.\n",
    "\n",
    "    Parameters\n",
    "    ----------\n",
    "    ax : matplotlib.pyplot.axis\n",
    "        The axis we want to draw our plot on.\n",
    "\n",
    "    data: dictionary\n",
    "        A dictionary containing the data we want to plot. Keys are the names of the\n",
    "        data, the items is a list of the values.\n",
    "\n",
    "        Example:\n",
    "        data = {\n",
    "            \"x\":[1,2,3],\n",
    "            \"y\":[1,2,3],\n",
    "            \"z\":[1,2,3],\n",
    "        }\n",
    "\n",
    "    colors : array-like, optional\n",
    "        A list of colors which are used for the bars. If None, the colors\n",
    "        will be the standard matplotlib color cyle. (default: None)\n",
    "\n",
    "    total_width : float, optional, default: 0.8\n",
    "        The width of a bar group. 0.8 means that 80% of the x-axis is covered\n",
    "        by bars and 20% will be spaces between the bars.\n",
    "\n",
    "    single_width: float, optional, default: 1\n",
    "        The relative width of a single bar within a group. 1 means the bars\n",
    "        will touch eachother within a group, values less than 1 will make\n",
    "        these bars thinner.\n",
    "\n",
    "    legend: bool, optional, default: True\n",
    "        If this is set to true, a legend will be added to the axis.\n",
    "    \"\"\"\n",
    "\n",
    "    # Check if colors where provided, otherwhise use the default color cycle\n",
    "    if colors is None:\n",
    "        colors = plt.rcParams['axes.prop_cycle'].by_key()['color']\n",
    "\n",
    "    # Number of bars per group\n",
    "    n_bars = len(data)\n",
    "\n",
    "    # The width of a single bar\n",
    "    bar_width = total_width / n_bars\n",
    "\n",
    "    # List containing handles for the drawn bars, used for the legend\n",
    "    bars = []\n",
    "\n",
    "    # Iterate over all data\n",
    "    for i, (name, values) in enumerate(data.items()):\n",
    "        # The offset in x direction of that bar\n",
    "        x_offset = (i - n_bars / 2) * bar_width + bar_width / 2\n",
    "\n",
    "        # Draw a bar for every value of that type\n",
    "        for x, y in enumerate(values):\n",
    "            bar = ax.bar(x + x_offset, y, width=bar_width * single_width, color=colors[i % len(colors)])\n",
    "            autolabel(bar)\n",
    "        # Add a handle to the last drawn bar, which we'll need for the legend\n",
    "        bars.append(bar[0])\n",
    "\n",
    "    # Draw legend if we need\n",
    "    if legend:\n",
    "        ax.legend(bars, data.keys(),loc='best')\n",
    "\n",
    "\n",
    "if __name__ == \"__main__\":\n",
    "    # Usage example:\n",
    "    data = {\n",
    "        \"spessore m\": spessoriTot,\n",
    "        \"resistenze\": resistenzeTot,\n",
    "        \"masse superciali x 10^2\": np.array(masseSuperficiali)*0.01,\n",
    "        \"trasmittanze termiche periodiche x 10^-2\": np.array(trasmittanzeTermichePeriodiche)*100,\n",
    "        \"sfasamenti\": sfasamenti,\n",
    "        \"fattori di attenuazione x10^-1\": abs(np.array(attenuazioni))*10,\n",
    "        \"Capacità termiche Areiche Interne x 10^-1\" : np.array(capacitàTermicaAreicheInterne)*0.1    \n",
    "    }\n",
    "\n",
    "    fig, ax = plt.subplots()\n",
    "    bar_plot(ax, data, total_width=.8, single_width=.9)\n",
    "    #ax.set_xticks(x) #dà problemi\n",
    "    ax.set_xticklabels(['']+list(paretiOutput.keys())) # altrimenti parte dal secondo elemento\n",
    "    tikzplotlib.save(\"confronto.tex\",\n",
    "                 axis_width='\\\\linewidth',\n",
    "                 axis_height='15cm',\n",
    "                 #strict=True,\n",
    "                 #extra_axis_parameters={'\\t ticklabel style={ \\n \\t\\t /pgf/number format/fixed, \\n \\t\\t /pgf/number format/precision=5\\n\\t\\t}, \\nscaled ticks=false'}\n",
    "                )"
   ]
  },
  {
   "cell_type": "code",
   "execution_count": null,
   "metadata": {},
   "outputs": [],
   "source": []
  },
  {
   "cell_type": "code",
   "execution_count": 211,
   "metadata": {},
   "outputs": [
    {
     "data": {
      "text/plain": [
       "[1.0,\n",
       " 0.12,\n",
       " 0.35000000000000003,\n",
       " 0.35000000000000003,\n",
       " 0.34,\n",
       " 0.246,\n",
       " 0.236,\n",
       " 0.256]"
      ]
     },
     "execution_count": 211,
     "metadata": {},
     "output_type": "execute_result"
    }
   ],
   "source": [
    "spessoriTot"
   ]
  },
  {
   "cell_type": "code",
   "execution_count": 212,
   "metadata": {},
   "outputs": [
    {
     "name": "stderr",
     "output_type": "stream",
     "text": [
      "<ipython-input-212-5a017c1f0800>:16: UserWarning: FixedFormatter should only be used together with FixedLocator\n",
      "  ax.set_xticklabels(['']+list(paretiOutput.keys())[2:]) # altrimenti parte dal secondo elemento\n"
     ]
    },
    {
     "data": {
      "image/png": "[encoded data removed]",
      "text/plain": [
       "<Figure size 432x288 with 1 Axes>"
      ]
     },
     "metadata": {
      "needs_background": "light"
     },
     "output_type": "display_data"
    }
   ],
   "source": [
    "# tolte le prime due pareti perchè sballano il grafico\n",
    "\n",
    "data = {\n",
    "        \"spessore m\": spessoriTot[2:],\n",
    "        \"resistenze\": resistenzeTot[2:],\n",
    "        \"masse superciali x 10^2\": np.array(masseSuperficiali)[2:]*0.01,\n",
    "        \"trasmittanze termiche periodiche x 10^-2\": np.array(trasmittanzeTermichePeriodiche)[2:]*100,\n",
    "        \"sfasamenti\": sfasamenti[2:],\n",
    "        \"fattori di attenuazione x10^-1\": abs(np.array(attenuazioni)[2:])*10,\n",
    "        \"Capacità termiche Areiche Interne x 10^-1\" : np.array(capacitàTermicaAreicheInterne)[2:]*0.1    \n",
    "    }\n",
    "\n",
    "fig, ax = plt.subplots()\n",
    "bar_plot(ax, data, total_width=.8, single_width=.9)\n",
    "#ax.set_xticks(x) #dà problemi\n",
    "ax.set_xticklabels(['']+list(paretiOutput.keys())[2:]) # altrimenti parte dal secondo elemento\n",
    "tikzplotlib.save(\"confronto2.tex\",\n",
    "                 axis_width='\\\\linewidth',\n",
    "                 axis_height='15cm',\n",
    "                 #strict=True,\n",
    "                 #extra_axis_parameters={'\\t ticklabel style={ \\n \\t\\t /pgf/number format/fixed, \\n \\t\\t /pgf/number format/precision=5\\n\\t\\t}, \\nscaled ticks=false'}\n",
    "                )"
   ]
  },
  {
   "cell_type": "code",
   "execution_count": 215,
   "metadata": {},
   "outputs": [
    {
     "data": {
      "text/plain": [
       "[<matplotlib.lines.Line2D at 0x7fb4dc84ea00>]"
      ]
     },
     "execution_count": 215,
     "metadata": {},
     "output_type": "execute_result"
    },
    {
     "data": {
      "image/png": "[encoded data removed]",
      "text/plain": [
       "<Figure size 432x288 with 1 Axes>"
      ]
     },
     "metadata": {
      "needs_background": "light"
     },
     "output_type": "display_data"
    }
   ],
   "source": [
    "x=np.arange(0,24,0.1)\n",
    "plt.plot(x,np.sin(x)+20)\n",
    "plt.plot(x,np.sin(fd*x+sfasamento)+20)"
   ]
  },
  {
   "cell_type": "code",
   "execution_count": null,
   "metadata": {},
   "outputs": [],
   "source": []
  },
  {
   "cell_type": "code",
   "execution_count": null,
   "metadata": {},
   "outputs": [],
   "source": []
  },
  {
   "cell_type": "code",
   "execution_count": null,
   "metadata": {},
   "outputs": [],
   "source": []
  },
  {
   "cell_type": "code",
   "execution_count": null,
   "metadata": {},
   "outputs": [],
   "source": []
  }
 ],
 "metadata": {
  "kernelspec": {
   "display_name": "Python [conda env:root] *",
   "language": "python",
   "name": "conda-root-py"
  },
  "language_info": {
   "codemirror_mode": {
    "name": "ipython",
    "version": 3
   },
   "file_extension": ".py",
   "mimetype": "text/x-python",
   "name": "python",
   "nbconvert_exporter": "python",
   "pygments_lexer": "ipython3",
   "version": "3.8.3"
  }
 },
 "nbformat": 4,
 "nbformat_minor": 4
}
