{
 "cells": [
  {
   "cell_type": "code",
   "execution_count": 1,
   "metadata": {},
   "outputs": [],
   "source": [
    "from matplotlib import pyplot as plt\n",
    "import numpy as np\n",
    "#from sympy import *\n",
    "#from sympy import MatrixSymbol, Matrix\n",
    "import math\n",
    "import cmath\n",
    "import pandas as pd"
   ]
  },
  {
   "cell_type": "markdown",
   "metadata": {},
   "source": [
    "# Database e input dati"
   ]
  },
  {
   "cell_type": "code",
   "execution_count": 2,
   "metadata": {},
   "outputs": [],
   "source": [
    "#da interno a esterno\n",
    "\n",
    "pareti = {\n",
    "    \"0\" : {\n",
    "        \"descrizione\"     : \"Parete formata da boh\",\n",
    "        \"strati\"          : [\"ciao\",\"topo\",\"gigio\"],\n",
    "        \"spessori\"        : np.array([0.2,0.1,0.005]),\n",
    "        \"trasmittanze\"    : np.array([1.8,0.04,1.]),\n",
    "        \"mu\"              : np.array([6.,10.,8.]),\n",
    "        \"densità\"         : np.array([2400.,30.,1200.]),\n",
    "        \"caloreSpecifico\" : np.array([1000.,1400.,1500.])\n",
    "    },\n",
    "    \"1\" : {\n",
    "        \"descrizione\"     : \"Parete in muratura con isolante esterno\",\n",
    "        \"spessori\"        : np.array([0.015,0.2,0.14,0.015]),\n",
    "        \"trasmittanze\"    : np.array([0.6,0.23,0.035,0.9]),\n",
    "        \"mu\"              : np.array([6.,10.,1.,8.]),\n",
    "        \"densità\"         : np.array([1500.,860.,1200.,1800.]),\n",
    "        \"caloreSpecifico\" : np.array([1000.,840.,1500.,1000.])\n",
    "    },\n",
    "    \"2\" : {\n",
    "        \"descrizione\"     : \"Parete in muratura con isolante interno\",\n",
    "        \"spessori\"        : np.array([0.015,0.14,0.2,0.015]),\n",
    "        \"trasmittanze\"    : np.array([0.6,0.035,0.23,0.9]),\n",
    "        \"mu\"              : np.array([6.,1.,10.,8.]),\n",
    "        \"densità\"         : np.array([1500.,1200.,860.,1800.]),\n",
    "        \"caloreSpecifico\" : np.array([1000.,1500.,840.,1000.])\n",
    "    },\n",
    "    \"4\" : {\n",
    "        \"descrizione\"     : \"Parete formata da boh\",\n",
    "        \"spessori\"        : np.array([0.2,0.1,0.005]),\n",
    "        \"trasmittanze\"    : np.array([1.8,0.04,1.]),\n",
    "        \"mu\"              : np.array([6,10,8]),\n",
    "        \"densità\"         : np.array([2400.,30.,1200.]),\n",
    "        \"caloreSpecifico\" : np.array([1000.,1400.,1500.])\n",
    "    },\n",
    "    \"5\" : {\n",
    "        \"descrizione\"     : \"Parete formata da boh\",\n",
    "        \"spessori\"        : np.array([0.2,0.1,0.005]),\n",
    "        \"trasmittanze\"    : np.array([1.8,0.04,1.]),\n",
    "        \"mu\"              : np.array([6,10,8]),\n",
    "        \"densità\"         : np.array([2400.,30.,1200.]),\n",
    "        \"caloreSpecifico\" : np.array([1000.,1400.,1500.])\n",
    "    },\n",
    "    \"6\" : {\n",
    "        \"descrizione\"     : \"Parete formata da boh\",\n",
    "        \"spessori\"        : np.array([0.2,0.1,0.005]),\n",
    "        \"trasmittanze\"    : np.array([1.8,0.04,1.]),\n",
    "        \"mu\"              : np.array([6,10,8]),\n",
    "        \"densità\"         : np.array([2400.,30.,1200.]),\n",
    "        \"caloreSpecifico\" : np.array([1000.,1400.,1500.])\n",
    "    }    \n",
    "}"
   ]
  },
  {
   "cell_type": "code",
   "execution_count": 3,
   "metadata": {
    "scrolled": false
   },
   "outputs": [
    {
     "name": "stdout",
     "output_type": "stream",
     "text": [
      "Parete in muratura con isolante interno\n",
      "Spessore totale =  0.37000000000000005\n",
      "Dimensioni ok\n"
     ]
    }
   ],
   "source": [
    "# INPUT DATI:\n",
    "\n",
    "# Scegliere la parete\n",
    "parete = \"2\"\n",
    "\n",
    "Ti=20.\n",
    "Te=-5.\n",
    "URi=0.65\n",
    "URe=0.9 #0.9 forse\n",
    "\n",
    "# in orizzontale:\n",
    "Rsi=0.130\n",
    "Rse=0.040\n",
    "\n",
    "# Tempo dinamica\n",
    "tempo = 24 # ore -> secondi=86400\n",
    "\n",
    "\n",
    "print(pareti[parete][\"descrizione\"])\n",
    "spessori = pareti[parete][\"spessori\"]\n",
    "trasmittanze = pareti[parete][\"trasmittanze\"]\n",
    "mu = pareti[parete][\"mu\"]\n",
    "densità = pareti[parete][\"densità\"]\n",
    "caloreSpecifico = pareti[parete][\"caloreSpecifico\"]\n",
    "\n",
    "print(\"Spessore totale = \",sum(spessori))\n",
    "\n",
    "if len(spessori)==len(trasmittanze)==len(mu)==len(densità)==len(caloreSpecifico):\n",
    "    print(\"Dimensioni ok\")\n",
    "else:\n",
    "    print(\"Devono avere la stessa lunghezza!\")"
   ]
  },
  {
   "cell_type": "code",
   "execution_count": 4,
   "metadata": {},
   "outputs": [
    {
     "name": "stdout",
     "output_type": "stream",
     "text": [
      "[0.09 0.14 2.   0.12]\n",
      "2.35\n",
      "[0.   0.09 0.23 2.23 2.35]\n"
     ]
    }
   ],
   "source": [
    "# Spessori equivalenti (metri)\n",
    "Sd = spessori * mu \n",
    "Sdtot = sum(Sd)\n",
    "SdCumSum = Sd.cumsum()\n",
    "SdCumSum = np.insert(SdCumSum,0,0.)\n",
    "print(Sd)\n",
    "print(Sdtot)\n",
    "print(SdCumSum)"
   ]
  },
  {
   "cell_type": "code",
   "execution_count": 5,
   "metadata": {},
   "outputs": [
    {
     "name": "stdout",
     "output_type": "stream",
     "text": [
      "[0.13       0.025      4.         0.86956522 0.01666667 0.04      ]\n",
      "[0.13       0.155      4.155      5.02456522 5.04123188 5.08123188]\n",
      "5.0812318840579715\n",
      "0.19680266967099724\n"
     ]
    }
   ],
   "source": [
    "resistenze=spessori/trasmittanze\n",
    "# Aggiunge le resistenze superficiali al vettore resistenze e calcola la somma cumolata\n",
    "resistenze = np.insert(resistenze,0,Rsi)\n",
    "resistenze = np.append(resistenze,Rse)\n",
    "resistenze = np.array(resistenze)\n",
    "Rtot = sum(resistenze)\n",
    "resistenzeCumSum = resistenze.cumsum()\n",
    "\n",
    "print(resistenze)\n",
    "print(resistenzeCumSum)\n",
    "print(Rtot)\n",
    "print(1/Rtot)"
   ]
  },
  {
   "cell_type": "code",
   "execution_count": 6,
   "metadata": {},
   "outputs": [
    {
     "name": "stdout",
     "output_type": "stream",
     "text": [
      "Temperature superficiali =  [20.         19.36039132 19.23738966 -0.44287731 -4.72119622 -4.80319733\n",
      " -5.        ]\n"
     ]
    }
   ],
   "source": [
    "# Calcola le temperature superficiali i-esimme\n",
    "\n",
    "deltaT=Ti-Te\n",
    "temperature=np.array([])\n",
    "\n",
    "for i in range(0,len(resistenze)):\n",
    "    T=Ti-((resistenzeCumSum[i]*deltaT)/Rtot)\n",
    "    temperature = np.append(temperature,T)\n",
    "\n",
    "# Ritorna alla dimensione inziale aggiungendo la Ti all'inizio. L'ultima è già la Te    \n",
    "temperature = np.insert(temperature,0,Ti)\n",
    "\n",
    "print(\"Temperature superficiali = \",temperature)     "
   ]
  },
  {
   "cell_type": "code",
   "execution_count": 7,
   "metadata": {},
   "outputs": [
    {
     "name": "stdout",
     "output_type": "stream",
     "text": [
      "pressioni saturazione =  [2337.02166166 2246.08000015 2228.95068222  591.10156509  429.97243875\n",
      "  427.30865375  420.97517087]\n"
     ]
    }
   ],
   "source": [
    "# Pressione di saturazione per ogni temperatura i-esima\n",
    "pressioniSaturazione=610.5*10**(7.5*temperature/(237.3+temperature))\n",
    "\n",
    "print(\"pressioni saturazione = \",pressioniSaturazione) "
   ]
  },
  {
   "cell_type": "code",
   "execution_count": 8,
   "metadata": {},
   "outputs": [
    {
     "data": {
      "text/plain": [
       "-4.803197330329002"
      ]
     },
     "execution_count": 8,
     "metadata": {},
     "output_type": "execute_result"
    }
   ],
   "source": [
    "temperature[5]"
   ]
  },
  {
   "cell_type": "code",
   "execution_count": null,
   "metadata": {},
   "outputs": [],
   "source": []
  },
  {
   "cell_type": "code",
   "execution_count": 9,
   "metadata": {},
   "outputs": [
    {
     "name": "stdout",
     "output_type": "stream",
     "text": [
      "Pi =  1519.06408007576\n",
      "Pe =  378.87765377986386\n",
      "Pressioni interne =  [1519.06408008 1475.39736588 1407.47136601  437.09993938  378.87765378]\n"
     ]
    }
   ],
   "source": [
    "Pi = URi * pressioniSaturazione[0]\n",
    "Pe = URe * pressioniSaturazione[-1]\n",
    "deltaP = Pi - Pe\n",
    "pressioni = np.array([])\n",
    "for p in range(1,len(temperature)-2): #valori interni a T perché conosciamo già gli estremi\n",
    "    P=Pi-((SdCumSum[p]*deltaP)/Sdtot)\n",
    "    pressioni = np.append(pressioni,P)\n",
    "\n",
    "# Ritorna alla dimensione inziale aggiungendo la Pi all'inizio. L'ultima è già la Pe    \n",
    "pressioni = np.insert(pressioni,0,Pi)\n",
    "\n",
    "print(\"Pi = \", Pi)\n",
    "print(\"Pe = \", Pe)\n",
    "print(\"Pressioni interne = \", pressioni)"
   ]
  },
  {
   "cell_type": "code",
   "execution_count": 10,
   "metadata": {},
   "outputs": [
    {
     "data": {
      "text/plain": [
       "[<matplotlib.lines.Line2D at 0x7f4ee0bb5e80>]"
      ]
     },
     "execution_count": 10,
     "metadata": {},
     "output_type": "execute_result"
    },
    {
     "data": {
      "image/png": "[encoded data removed]",
      "text/plain": [
       "<Figure size 432x288 with 1 Axes>"
      ]
     },
     "metadata": {
      "needs_background": "light"
     },
     "output_type": "display_data"
    }
   ],
   "source": [
    "plt.plot(SdCumSum,pressioni)\n",
    "plt.plot(SdCumSum,pressioniSaturazione[1:-1])"
   ]
  },
  {
   "cell_type": "code",
   "execution_count": 11,
   "metadata": {},
   "outputs": [
    {
     "name": "stdout",
     "output_type": "stream",
     "text": [
      "[0.    0.015 0.14  0.2   0.015 0.   ]\n",
      "[0.    0.    0.015 0.155 0.355 0.37  0.37 ]\n",
      "[20.         19.36039132 19.23738966 -0.44287731 -4.72119622 -4.80319733\n",
      " -5.        ]\n"
     ]
    },
    {
     "data": {
      "text/plain": [
       "[<matplotlib.lines.Line2D at 0x7f4ee03b7fa0>]"
      ]
     },
     "execution_count": 11,
     "metadata": {},
     "output_type": "execute_result"
    },
    {
     "data": {
      "image/png": "[encoded data removed]",
      "text/plain": [
       "<Figure size 432x288 with 1 Axes>"
      ]
     },
     "metadata": {
      "needs_background": "light"
     },
     "output_type": "display_data"
    }
   ],
   "source": [
    "spess=spessori\n",
    "spess=np.insert(spess,0,0)\n",
    "spess=np.append(spess,0)\n",
    "spesss=np.cumsum(spess)\n",
    "spesss=np.insert(spesss,0,0)\n",
    "print(spess)\n",
    "print(spesss)\n",
    "print(temperature)\n",
    "plt.plot(spesss,temperature)\n",
    "\n"
   ]
  },
  {
   "cell_type": "code",
   "execution_count": 12,
   "metadata": {},
   "outputs": [
    {
     "data": {
      "image/png": "[encoded data removed]",
      "text/plain": [
       "<Figure size 432x288 with 1 Axes>"
      ]
     },
     "metadata": {
      "needs_background": "light"
     },
     "output_type": "display_data"
    }
   ],
   "source": [
    "s=np.array([0. ,0.015, 0.435, 0.45])\n",
    "t=np.array([16.61502409, 16.05780497,  1.47637026,  1.04153105])\n",
    "t=.00005*t\n",
    "plt.plot(s,t)\n",
    "plt.grid(True)\n"
   ]
  },
  {
   "cell_type": "code",
   "execution_count": 13,
   "metadata": {},
   "outputs": [
    {
     "name": "stdout",
     "output_type": "stream",
     "text": [
      "spesss= [0.    0.015 0.155 0.355 0.37 ]\n",
      "pSat= [2246.08000015 2228.95068222  591.10156509  429.97243875  427.30865375]\n"
     ]
    },
    {
     "data": {
      "text/plain": [
       "[<matplotlib.lines.Line2D at 0x7f4ee02f6e50>]"
      ]
     },
     "execution_count": 13,
     "metadata": {},
     "output_type": "execute_result"
    },
    {
     "data": {
      "image/png": "[encoded data removed]",
      "text/plain": [
       "<Figure size 432x288 with 1 Axes>"
      ]
     },
     "metadata": {
      "needs_background": "light"
     },
     "output_type": "display_data"
    }
   ],
   "source": [
    "print(\"spesss=\",spesss[1:-1])\n",
    "print(\"pSat=\",pressioniSaturazione[1:-1])\n",
    "plt.plot(spesss[1:-1],pressioniSaturazione[1:-1])"
   ]
  },
  {
   "cell_type": "code",
   "execution_count": 14,
   "metadata": {},
   "outputs": [
    {
     "data": {
      "image/png": "[encoded data removed]",
      "text/plain": [
       "<Figure size 432x288 with 1 Axes>"
      ]
     },
     "metadata": {
      "needs_background": "light"
     },
     "output_type": "display_data"
    }
   ],
   "source": [
    "plt.plot(SdCumSum,pressioni,label=\"pressioni\")\n",
    "plt.plot(SdCumSum,pressioniSaturazione[1:-1], label=\"pressioni Saturazione\")\n",
    "plt.legend(loc=\"best\")\n",
    "plt.xlabel(\"Sd (m)\")  \n",
    "plt.ylabel(\"Pressione (Pa)\")\n",
    "plt.grid()\n",
    "plt.xticks(SdCumSum)\n",
    "plt.yticks(np.hstack((pressioni,pressioniSaturazione))) #i due vettori affiancati\n",
    "plt.show()"
   ]
  },
  {
   "cell_type": "code",
   "execution_count": 15,
   "metadata": {},
   "outputs": [
    {
     "data": {
      "text/plain": [
       "array([1519.06408008, 1475.39736588, 1407.47136601,  437.09993938,\n",
       "        378.87765378, 2337.02166166, 2246.08000015, 2228.95068222,\n",
       "        591.10156509,  429.97243875,  427.30865375,  420.97517087])"
      ]
     },
     "execution_count": 15,
     "metadata": {},
     "output_type": "execute_result"
    }
   ],
   "source": [
    "np.hstack((pressioni,pressioniSaturazione))"
   ]
  },
  {
   "cell_type": "code",
   "execution_count": 16,
   "metadata": {},
   "outputs": [
    {
     "data": {
      "text/plain": [
       "array([1519.06408008, 1475.39736588, 1407.47136601,  437.09993938,\n",
       "        378.87765378])"
      ]
     },
     "execution_count": 16,
     "metadata": {},
     "output_type": "execute_result"
    }
   ],
   "source": [
    "pressioni"
   ]
  },
  {
   "cell_type": "code",
   "execution_count": 17,
   "metadata": {},
   "outputs": [
    {
     "data": {
      "text/plain": [
       "array([2337.02166166, 2246.08000015, 2228.95068222,  591.10156509,\n",
       "        429.97243875,  427.30865375,  420.97517087])"
      ]
     },
     "execution_count": 17,
     "metadata": {},
     "output_type": "execute_result"
    }
   ],
   "source": [
    "pressioniSaturazione"
   ]
  },
  {
   "cell_type": "code",
   "execution_count": 18,
   "metadata": {},
   "outputs": [
    {
     "name": "stdout",
     "output_type": "stream",
     "text": [
      "delta =  [0.10488465 0.02312489 0.09357439 0.1172646 ]\n",
      "xi =  [0.14301426 6.05408245 2.13733704 0.12791584]\n",
      "zz =  [array([[ 0.99993028+2.04529821e-02j, -0.02499965-1.70441970e-04j],\n",
      "       [ 0.0111554 -1.63622336e+00j,  0.99993028+2.04529821e-02j]]), array([[ 207.36154689 -48.3556062j ,  -52.52757023 +84.47701255j],\n",
      "       [-387.03052796-240.65450026j,  207.36154689 -48.3556062j ]]), array([[-2.30648596+3.52644936j, -0.28129611-1.19391907j],\n",
      "       [14.42602192-3.39887679j, -2.30648596+3.52644936j]]), array([[ 0.99995538+1.63624131e-02j, -0.01666652-9.09024493e-05j],\n",
      "       [ 0.01070919-1.96347789e+00j,  0.99995538+1.63624131e-02j]])]\n",
      "Z = [[-1690.09139888+1822.70113475j  -241.27472755 -696.46980848j]\n",
      " [11869.02894982+2323.9206009j  -2263.40477017+2781.86918736j]]\n"
     ]
    }
   ],
   "source": [
    "profonditàPenetrazione = np.sqrt((trasmittanze*tempo*3600)/(  math.pi*densità * caloreSpecifico))\n",
    "xi = spessori/profonditàPenetrazione\n",
    "print(\"delta = \",profonditàPenetrazione)\n",
    "print(\"xi = \",xi)\n",
    "\n",
    "# Calcola le matrice di trasferimento di ogni strato e le inserisce in una lista, \n",
    "# per poi moltiplicarle tra di loro in Z\n",
    "\n",
    "zz = [] # zz : lista di matrici z\n",
    "for i in range(0,len(xi)):\n",
    "    # z : matrice per ogni strato\n",
    "    z = np.zeros((2,2),dtype=np.complex128) # matrice complex float\n",
    "    z[0][0] = complex(  (np.cosh(xi[i])*np.cos(xi[i])) , (np.sinh(xi[i])*np.sin(xi[i]))  )\n",
    "    z[1][1] = z[0][0] \n",
    "    z[0][1] = -(profonditàPenetrazione[i]/(2*trasmittanze[i])) * complex(  (np.sinh(xi[i])*np.cos(xi[i]) + np.cosh(xi[i])*np.sin(xi[i])) , (np.cosh(xi[i])*np.sin(xi[i]) - np.sinh(xi[i])*np.cos(xi[i]))  )\n",
    "    z[1][0] = -(trasmittanze[i]/( profonditàPenetrazione[i]))  * complex(  (np.sinh(xi[i])*np.cos(xi[i]) - np.cosh(xi[i])*np.sin(xi[i])) , (np.sinh(xi[i])*np.cos(xi[i]) + np.cosh(xi[i])*np.sin(xi[i]))  )\n",
    "    # aggiunge alla lista zz\n",
    "    zz.append(z)\n",
    "print(\"zz = \",zz)\n",
    "\n",
    "# Z: matrice di trasferimento totale  del componente edilizio = Z_N * Z_n-1 * ... * Z_1   \n",
    "Z = np.zeros((2,2),dtype=np.complex128)\n",
    "Z = zz[-1] #Z_N\n",
    "for i in range(1,len(zz)): # [1  2 ... N  N+1)\n",
    "    Z = Z.dot(zz[-1-i]) # prodotto scalare\n",
    "print(\"Z =\",Z)   "
   ]
  },
  {
   "cell_type": "code",
   "execution_count": 19,
   "metadata": {},
   "outputs": [
    {
     "name": "stdout",
     "output_type": "stream",
     "text": [
      "Zsi =  [[ 1.  +0.j -0.13+0.j]\n",
      " [ 0.  +0.j  1.  +0.j]]\n",
      "Zse =  [[ 1.  +0.j -0.04+0.j]\n",
      " [ 0.  +0.j  1.  +0.j]]\n",
      "Zee =  [[-2164.85255687+1729.74431071j   130.69229565-1032.61133637j]\n",
      " [11869.02894982+2323.9206009j  -3806.37853365+2479.75950924j]]\n"
     ]
    }
   ],
   "source": [
    "# Strato d'aria interno \n",
    "Zsi = np.zeros((2,2),dtype=np.complex128)\n",
    "Zsi[0][0] = complex(1,0)\n",
    "Zsi[1][1] = complex(1,0)\n",
    "Zsi[0][1] = complex(-Rsi)\n",
    "Zsi[1][0] = complex(0,0)\n",
    "print(\"Zsi = \",Zsi)\n",
    "\n",
    "# Strato d'aria esterno\n",
    "Zse = np.zeros((2,2),dtype=np.complex128)\n",
    "Zse[0][0] = complex(1,0)\n",
    "Zse[1][1] = complex(1,0)\n",
    "Zse[0][1] = complex(-Rse)\n",
    "Zse[1][0] = complex(0,0)\n",
    "print(\"Zse = \",Zse)\n",
    "\n",
    "# Zee: matrice di trasferimento da ambiente ad ambiente \n",
    "Zee = Zse.dot(Z)\n",
    "Zee = Zee.dot(Zsi)\n",
    "print(\"Zee = \",Zee)"
   ]
  },
  {
   "cell_type": "code",
   "execution_count": 20,
   "metadata": {},
   "outputs": [
    {
     "name": "stdout",
     "output_type": "stream",
     "text": [
      "Y12 =  0.000960754150329189 (trasmittanza termica periodica)\n",
      "f =  -0.0048818146213937 (attenuazione)\n",
      "phase =  -5.519114731357791\n",
      "sfasamento =  6.480885268642209 [ore]\n",
      "Y11 =  2.6622776565644175 (ammettenza termica interna Yii)\n",
      "Y22 =  4.364587226663046 (ammettenza termica esterna Yee)\n"
     ]
    }
   ],
   "source": [
    "Y12 = -1/Zee[0][1]\n",
    "Y12 = np.sqrt((Y12.real)**2 + (Y12.imag)**2) # il modulo\n",
    "print(\"Y12 = \", Y12, \"(trasmittanza termica periodica)\")\n",
    "\n",
    "f = -np.sqrt((Y12.real)**2 + (Y12.imag)**2)/(1/Rtot)\n",
    "print(\"f = \", f, \"(attenuazione)\")\n",
    "\n",
    "phase = (math.atan2(Zee[0][1].imag,Zee[0][1].real))*tempo/(2*math.pi) # tempo in ore\n",
    "sfasamento = phase+tempo/2 # tempo in ore\n",
    "print(\"phase = \", phase)\n",
    "print(\"sfasamento = \", sfasamento, \"[ore]\")\n",
    "\n",
    "Y11 = -Zee[0][0]/Zee[0][1]\n",
    "Y11 = np.sqrt((Y11.real)**2 + (Y11.imag)**2) # il modulo\n",
    "print(\"Y11 = \", Y11, \"(ammettenza termica interna Yii)\")\n",
    "\n",
    "Y22 = -Zee[1][1]/Zee[0][1]\n",
    "Y22 = np.sqrt((Y22.real)**2 + (Y22.imag)**2) # il modulo\n",
    "print(\"Y22 = \", Y22, \"(ammettenza termica esterna Yee)\")"
   ]
  },
  {
   "cell_type": "code",
   "execution_count": 21,
   "metadata": {
    "scrolled": true
   },
   "outputs": [
    {
     "name": "stdout",
     "output_type": "stream",
     "text": [
      "Massa superficiale =  389.5\n",
      "Capacità termica areica =  [ 22500. 252000. 144480.  27000.] Totale =  445980.0\n"
     ]
    }
   ],
   "source": [
    "massaSuperficiale = sum(spessori*densità)\n",
    "print(\"Massa superficiale = \", massaSuperficiale)\n",
    "\n",
    "capacitàTermicaAreica = spessori*densità*caloreSpecifico\n",
    "print(\"Capacità termica areica = \", capacitàTermicaAreica, \"Totale = \", sum(capacitàTermicaAreica) )"
   ]
  },
  {
   "cell_type": "code",
   "execution_count": null,
   "metadata": {},
   "outputs": [],
   "source": []
  },
  {
   "cell_type": "code",
   "execution_count": null,
   "metadata": {},
   "outputs": [],
   "source": []
  },
  {
   "cell_type": "code",
   "execution_count": null,
   "metadata": {},
   "outputs": [],
   "source": []
  },
  {
   "cell_type": "code",
   "execution_count": null,
   "metadata": {},
   "outputs": [],
   "source": []
  },
  {
   "cell_type": "code",
   "execution_count": null,
   "metadata": {},
   "outputs": [],
   "source": []
  },
  {
   "cell_type": "code",
   "execution_count": null,
   "metadata": {},
   "outputs": [],
   "source": []
  }
 ],
 "metadata": {
  "kernelspec": {
   "display_name": "Python [conda env:root] *",
   "language": "python",
   "name": "conda-root-py"
  },
  "language_info": {
   "codemirror_mode": {
    "name": "ipython",
    "version": 3
   },
   "file_extension": ".py",
   "mimetype": "text/x-python",
   "name": "python",
   "nbconvert_exporter": "python",
   "pygments_lexer": "ipython3",
   "version": "3.8.3"
  }
 },
 "nbformat": 4,
 "nbformat_minor": 4
}
