{
 "cells": [
  {
   "cell_type": "code",
   "execution_count": 5,
   "metadata": {},
   "outputs": [],
   "source": [
    "import numpy as np"
   ]
  },
  {
   "cell_type": "code",
   "execution_count": null,
   "metadata": {},
   "outputs": [],
   "source": [
    "spessori : np.array([0.2,0.1,0.005])\n",
    "trasmittanze : np.array([1.8,0.04,1.])\n",
    "mu : np.array([6,10,8])\n",
    "densità : np.array([2400.,30.,1200.])\n",
    "caloreSpecifico : np.array([1000.,1400.,1500.])"
   ]
  },
  {
   "cell_type": "code",
   "execution_count": 56,
   "metadata": {},
   "outputs": [],
   "source": [
    "pareti = {\n",
    "    \"1\" : {\n",
    "        \"descrizione\"     : \"Parete formata da boh\",\n",
    "        \"strati\"          : [\"ciao\",\"topo\",\"gigio\"],\n",
    "        \"spessori\"        : np.array([0.2,0.1,0.005]),\n",
    "        \"trasmittanze\"    : np.array([1.8,0.04,1.]),\n",
    "        \"mu\"              : np.array([6.,10.,8.]),\n",
    "        \"densità\"         : np.array([2400.,30.,1200.]),\n",
    "        \"caloreSpecifico\" : np.array([1000.,1400.,1500.])\n",
    "    },\n",
    "    \"2\" : {\n",
    "        \"descrizione\"     : \"Parete formata da boh\",\n",
    "        \"spessori\"        : np.array([0.2,0.1,0.005]),\n",
    "        \"trasmittanze\"    : np.array([1.8,0.04,1.]),\n",
    "        \"mu\"              : np.array([6,10,8]),\n",
    "        \"densità\"         : np.array([2400.,30.,1200.]),\n",
    "        \"caloreSpecifico\" : np.array([1000.,1400.,1500.])\n",
    "    },\n",
    "    \"3\" : {\n",
    "        \"descrizione\"     : \"Parete formata da boh\",\n",
    "        \"spessori\"        : np.array([0.2,0.1,0.005]),\n",
    "        \"trasmittanze\"    : np.array([1.8,0.04,1.]),\n",
    "        \"mu\"              : np.array([6,10,8]),\n",
    "        \"densità\"         : np.array([2400.,30.,1200.]),\n",
    "        \"caloreSpecifico\" : np.array([1000.,1400.,1500.])\n",
    "    },\n",
    "    \"4\" : {\n",
    "        \"descrizione\"     : \"Parete formata da boh\",\n",
    "        \"spessori\"        : np.array([0.2,0.1,0.005]),\n",
    "        \"trasmittanze\"    : np.array([1.8,0.04,1.]),\n",
    "        \"mu\"              : np.array([6,10,8]),\n",
    "        \"densità\"         : np.array([2400.,30.,1200.]),\n",
    "        \"caloreSpecifico\" : np.array([1000.,1400.,1500.])\n",
    "    },\n",
    "    \"5\" : {\n",
    "        \"descrizione\"     : \"Parete formata da boh\",\n",
    "        \"spessori\"        : np.array([0.2,0.1,0.005]),\n",
    "        \"trasmittanze\"    : np.array([1.8,0.04,1.]),\n",
    "        \"mu\"              : np.array([6,10,8]),\n",
    "        \"densità\"         : np.array([2400.,30.,1200.]),\n",
    "        \"caloreSpecifico\" : np.array([1000.,1400.,1500.])\n",
    "    },\n",
    "    \"6\" : {\n",
    "        \"descrizione\"     : \"Parete formata da boh\",\n",
    "        \"spessori\"        : np.array([0.2,0.1,0.005]),\n",
    "        \"trasmittanze\"    : np.array([1.8,0.04,1.]),\n",
    "        \"mu\"              : np.array([6,10,8]),\n",
    "        \"densità\"         : np.array([2400.,30.,1200.]),\n",
    "        \"caloreSpecifico\" : np.array([1000.,1400.,1500.])\n",
    "    }    \n",
    "}"
   ]
  },
  {
   "cell_type": "code",
   "execution_count": 18,
   "metadata": {},
   "outputs": [
    {
     "name": "stdout",
     "output_type": "stream",
     "text": [
      "Parete formata da boh\n"
     ]
    }
   ],
   "source": [
    "# Scegliere la parete\n",
    "parete = \"1\"\n",
    "\n",
    "\n",
    "print(pareti[parete][\"descrizione\"])\n",
    "spessori = pareti[parete][\"spessori\"]\n",
    "trasmittanze = pareti[parete][\"trasmittanze\"]\n",
    "mu = pareti[parete][\"mu\"]\n",
    "densità = pareti[parete][\"densità\"]\n",
    "caloreSpecifico = pareti[parete][\"caloreSpecifico\"]"
   ]
  },
  {
   "cell_type": "code",
   "execution_count": 58,
   "metadata": {},
   "outputs": [
    {
     "data": {
      "text/html": [
       "<div>\n",
       "<style scoped>\n",
       "    .dataframe tbody tr th:only-of-type {\n",
       "        vertical-align: middle;\n",
       "    }\n",
       "\n",
       "    .dataframe tbody tr th {\n",
       "        vertical-align: top;\n",
       "    }\n",
       "\n",
       "    .dataframe thead th {\n",
       "        text-align: right;\n",
       "    }\n",
       "</style>\n",
       "<table border=\"1\" class=\"dataframe\">\n",
       "  <thead>\n",
       "    <tr style=\"text-align: right;\">\n",
       "      <th></th>\n",
       "      <th>strati</th>\n",
       "      <th>spessori</th>\n",
       "      <th>trasmittanze</th>\n",
       "      <th>mu</th>\n",
       "      <th>densità</th>\n",
       "      <th>caloreSpecifico</th>\n",
       "    </tr>\n",
       "  </thead>\n",
       "  <tbody>\n",
       "    <tr>\n",
       "      <th>0</th>\n",
       "      <td>ciao</td>\n",
       "      <td>0.200</td>\n",
       "      <td>1.80</td>\n",
       "      <td>6.0</td>\n",
       "      <td>2400.0</td>\n",
       "      <td>1000.0</td>\n",
       "    </tr>\n",
       "    <tr>\n",
       "      <th>1</th>\n",
       "      <td>topo</td>\n",
       "      <td>0.100</td>\n",
       "      <td>0.04</td>\n",
       "      <td>10.0</td>\n",
       "      <td>30.0</td>\n",
       "      <td>1400.0</td>\n",
       "    </tr>\n",
       "    <tr>\n",
       "      <th>2</th>\n",
       "      <td>gigio</td>\n",
       "      <td>0.005</td>\n",
       "      <td>1.00</td>\n",
       "      <td>8.0</td>\n",
       "      <td>1200.0</td>\n",
       "      <td>1500.0</td>\n",
       "    </tr>\n",
       "  </tbody>\n",
       "</table>\n",
       "</div>"
      ],
      "text/plain": [
       "  strati  spessori  trasmittanze    mu  densità  caloreSpecifico\n",
       "0   ciao     0.200          1.80   6.0   2400.0           1000.0\n",
       "1   topo     0.100          0.04  10.0     30.0           1400.0\n",
       "2  gigio     0.005          1.00   8.0   1200.0           1500.0"
      ]
     },
     "execution_count": 58,
     "metadata": {},
     "output_type": "execute_result"
    }
   ],
   "source": [
    "import pandas as pd\n",
    "df = pd.DataFrame(pareti[parete])\n",
    "\n",
    "# toglie la colonna che si chiama Descrizione \"\n",
    "# :\" = tutte le righe\n",
    "df = df.loc[:, df.columns != 'descrizione'] \n",
    "df\n"
   ]
  },
  {
   "cell_type": "code",
   "execution_count": 72,
   "metadata": {},
   "outputs": [
    {
     "name": "stdout",
     "output_type": "stream",
     "text": [
      "\\begin{table}\n",
      "\\centering\n",
      "\\caption{Parete formata da boh}\n",
      "\\begin{tabular}{SSSSSS}\n",
      "\\toprule\n",
      "Strati & Spessori & Trasmittanze & Conducibilità & Densità & Calore Specifico \\\\\n",
      "\\midrule\n",
      "  ciao &    0,200 &         1,80 &           6,0 &  2400,0 &           1000,0 \\\\\n",
      "  topo &    0,100 &         0,04 &          10,0 &    30,0 &           1400,0 \\\\\n",
      " gigio &    0,005 &         1,00 &           8,0 &  1200,0 &           1500,0 \\\\\n",
      "\\bottomrule\n",
      "\\end{tabular}\n",
      "\\end{table}\n",
      "\n"
     ]
    }
   ],
   "source": [
    "print(df.to_latex(\n",
    "        index=False,\n",
    "        decimal=\",\",\n",
    "        caption=pareti[parete][\"descrizione\"],\n",
    "        column_format=\"SSSSSS\",\n",
    "        header=[\"Strati\",\"Spessori\",\"Trasmittanze\", \"Conducibilità\",\"Densità\",\"Calore Specifico\"],\n",
    "        \n",
    "        )\n",
    "     )"
   ]
  },
  {
   "cell_type": "code",
   "execution_count": null,
   "metadata": {},
   "outputs": [],
   "source": []
  },
  {
   "cell_type": "code",
   "execution_count": null,
   "metadata": {},
   "outputs": [],
   "source": []
  }
 ],
 "metadata": {
  "kernelspec": {
   "display_name": "Python [conda env:root] *",
   "language": "python",
   "name": "conda-root-py"
  },
  "language_info": {
   "codemirror_mode": {
    "name": "ipython",
    "version": 3
   },
   "file_extension": ".py",
   "mimetype": "text/x-python",
   "name": "python",
   "nbconvert_exporter": "python",
   "pygments_lexer": "ipython3",
   "version": "3.8.3"
  }
 },
 "nbformat": 4,
 "nbformat_minor": 4
}
